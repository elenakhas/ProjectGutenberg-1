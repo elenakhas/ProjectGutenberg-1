{
 "cells": [
  {
   "cell_type": "markdown",
   "metadata": {},
   "source": [
    "# Classification and Clustering"
   ]
  },
  {
   "cell_type": "code",
   "execution_count": 108,
   "metadata": {},
   "outputs": [],
   "source": [
    "# ! pip install pyamg #pyamg for efficient solving for spectral clustering\n",
    "\n",
    "import numpy as np\n",
    "import pandas as pd\n",
    "import matplotlib.pyplot as plt\n",
    "import seaborn as sns \n",
    "import collections, re, string, glob, collections, pickle, os\n",
    "from sklearn.model_selection import train_test_split, cross_val_score\n",
    "from sklearn.datasets import dump_svmlight_file, load_svmlight_file\n",
    "from sklearn.feature_extraction.text import TfidfTransformer\n",
    "from sklearn.feature_extraction import DictVectorizer\n",
    "from sklearn.decomposition import NMF, TruncatedSVD\n",
    "from sklearn.linear_model import LogisticRegression, LogisticRegressionCV\n",
    "from sklearn.cluster import SpectralClustering\n",
    "from sklearn.naive_bayes import MultinomialNB\n",
    "from sklearn.preprocessing import MaxAbsScaler\n",
    "from sklearn import metrics\n",
    "from scipy.sparse import hstack\n",
    "from imblearn import over_sampling\n",
    "\n",
    "import utils_vectoriser"
   ]
  },
  {
   "cell_type": "code",
   "execution_count": null,
   "metadata": {},
   "outputs": [],
   "source": [
    "## TO DO:\n",
    "# 1. pipeline the feature set generation process - separate .py \n",
    "# 2. pipeline the model training and eval process  - separate .py "
   ]
  },
  {
   "cell_type": "markdown",
   "metadata": {},
   "source": [
    "### Initial results\n",
    "|Run   \t|Classifier   \t|Featureset   \t|train acc   \t|test acc   \t|alpha/C   \t|\n",
    "|---\t|---\t|---\t|---\t|---\t|---\t|\n",
    "|1   \t|M_NB   \t|subj, lemmas, parse_VP, book_ners    \t|98.67   \t|28.71   \t|0   \t|\n",
    "|2   \t|LogReg, OVR, L2   \t|subj, lemmas, parse_VP, book_ners   \t|0.84   \t|0.38   \t|1   \t|\n",
    "|3   \t|LogReg, OVR, L2, with TSVD5000   \t|subj, lemmas, parse_VP, book_ners   \t|0.77   \t|0.36   \t|1   \t|\n",
    "|4   \t|LogReg, multin, L1   \t|subj, lemmas, parse_VP, book_ners   \t|very poor   \t|very poor   \t|0.5   \t|\n",
    "|4   \t|LogReg, OVR, L1, with MaxAbsScaler   \t|subj, lemmas, parse_VP, book_ners   \t|0.99  \t|0.39   \t|1   \t|\n",
    "|5   \t|LogRegCV, OVR, L2   \t|subj, lemmas, parse_VP, book_ners   \t|   \t|   \t|   \t|\n"
   ]
  },
  {
   "cell_type": "markdown",
   "metadata": {},
   "source": [
    "The cross_val_score on the train set using Logistic Regression is not good at all (feature set is with entire set of lemmas. Propose to add the subset of the lemmas based on their POS tags. \n",
    "\n",
    "Our dataset is not structured in a manner that allows us to predict author identities with high accuracy on the test set. Some factors include: \n",
    "1. our instances (due to initial collection architecture decisions) for in the corpus relates to 1 sentence from an author's book. our randomised approach in selection of the \n",
    "\n",
    "__Exploration stuff__\n",
    "1. lemma subset by POS tags \n",
    "2. regenerate dataset to group larger n sentences from an author's book, to make 1 instance\n",
    "3. ngrams - especially with instances with larger n x sentences\n",
    "4. imbalearn upsampling \n",
    "5. tuning TFIDF levels - setting different norms (probably less useful)\n",
    "\n",
    "__Bells and whistles__\n",
    "1. pipeline to save models, featuresets and results \n",
    "\n",
    "Important points: \n",
    "1. making sure smooth_idf=True (default value) in TfidfTransformer, so that we don't end up with 0 probabilities\n",
    "2. only generalised linear models (i.e. logreg and SVM linear) take negative values. consider this in featureset selection architecture when creating pipeline"
   ]
  },
  {
   "cell_type": "markdown",
   "metadata": {},
   "source": [
    "### 1. Create training and evaluation sets"
   ]
  },
  {
   "cell_type": "markdown",
   "metadata": {},
   "source": [
    "#### 1a. Corollary: Computing a subjectivity score"
   ]
  },
  {
   "cell_type": "markdown",
   "metadata": {},
   "source": [
    "We have access to a set of [subjectivity classification for about 8,200 English words](https://gitlab.inria.fr/mastertal/UE803/blob/master/data/l10_data/subjectivity_clues_hltemnlp05/subjclueslen1-HLTEMNLP05.README). We hypothesize that an average subjectivity score can help to further distinguish between authors. \n",
    "Our datapoints are however single sentences from at least 3 books of an author, and it is not sensible to compute the score for every sentence as there can be significant variability for such a score between an author's ouevre. Instead we compute the score based on the entire set of the author's sentences admitted into our corpus. \n",
    "\n",
    "We hypothesize that ideally, it will be better to compute the score based on each set of sentences from a single book of one author. This could provide a better predictor of an author's identity, by capturing a certain understanding about the subjectivity, and variability of the subjectivity, of his/her body of work. "
   ]
  },
  {
   "cell_type": "code",
   "execution_count": 222,
   "metadata": {},
   "outputs": [],
   "source": [
    "with open(\"../2_Preprocessing/supportdata/SubjectivityClues/data_l10_data_subjectivity_clues_hltemnlp05_subjclueslen1-HLTEMNLP05.tff\", \n",
    "          \"r\") as file:\n",
    "    subjectivityclues_all = file.read()\n",
    "    \n",
    "subj_scores = [1 if i == \"type=weaksubj\" else 2 for i in re.findall(r\"type=[a-z]+\", subjectivityclues_all)]\n",
    "# encoding 1 and 2, since the classes are ordinal - \"weaksubj\" and \"strongsubj\"\n",
    "subj_words = [i.lstrip(\"word1=\") for i in re.findall(r\"word1=[a-z]+\", subjectivityclues_all)]\n",
    "subj_pos = [i.lstrip(\"pos1=\") for i in re.findall(r\"pos1=[a-z]+\", subjectivityclues_all)]\n",
    "# side note on pos and stemming: the dataset does not use the UD POS tags, so we cannot map the tokens more precisely\n",
    "# based on the POS tag we have for the corpus tokens. also, the Wilson et al 2005 data include whether the words were \n",
    "# stemmed (i.e. usable on our lemmas sets), but it numbers only 1620, out of 8222 words, or less than 20%. so we \n",
    "# should compute our subjectivity score using our tokens set instead of lemmas\n",
    "\n",
    "subj_trip_info = [i for i in zip(subj_scores, subj_pos)]\n",
    "__dictcombined = {subj_words[index]: subj_trip_info[index] for index in range(len(subj_words))}\n",
    "# there are 5 words that have zero length and it is throwing an error in the filtering.\n",
    "# also pointless to have a score for an empty string in the computation of the subjectivity score. \n",
    "# it might have come about at the re.findall level, but the empty word issue still persists\n",
    "# after adding A-Z and 1-9 to the search pattern. \n",
    "__dictcombined_filter = {i: __dictcombined[i] for i in __dictcombined if len(i) > 0}\n",
    "\n",
    "# sort into a dictionary to speed search time \n",
    "subj_dict = {}\n",
    "for letter in string.ascii_lowercase: \n",
    "    subj_dict[letter] = {key:__dictcombined_filter[key] for key in __dictcombined_filter if key[0] == letter}\n",
    "    "
   ]
  },
  {
   "cell_type": "code",
   "execution_count": 223,
   "metadata": {},
   "outputs": [],
   "source": [
    "def get_subjectivity(spacysentdoc, subj_dict):\n",
    "    '''given a spacysentdoc, or a np array of strings (tokens of a sentence), returns the subjectivity\n",
    "    score for the sentence. The score is the sum of the score for tokens that can be \n",
    "    found in the http://crr.ugent.be/archives/1330 dataset. \n",
    "    Inputs: spacysentdoc\n",
    "    Outputs: a tuple containing the function name and the result. result is an integer rounded to 3 dp \n",
    "    and converted to a string\n",
    "    ''' \n",
    "    if type(spacysentdoc) == np.ndarray: \n",
    "        s_score = 0\n",
    "        for sentence in spacysentdoc: \n",
    "            for token in sentence:\n",
    "                try:\n",
    "                    # using first letter of token, go to sub-dict of subj_dict\n",
    "                    # if the token is one of the values of the sub-dict\n",
    "                    # retrive the subjectivity score\n",
    "                    if token in subj_dict[token[0]].keys():\n",
    "                        s_score += int(subj_dict[token[0]][token][0])\n",
    "                except: \n",
    "                    pass\n",
    "        # the score is averaged across the number of tokens across the entire corpus/doc\n",
    "        # it gives an indication of the usage of subjectivity words in writing style\n",
    "        return \"subjectivity\", round(s_score/len(spacysentdoc), 3)\n",
    "    else: \n",
    "        # condition for code extension to cover spacysentdoc (for alignment to insert into utils_tokeniser.py)\n",
    "        pass\n",
    "    "
   ]
  },
  {
   "cell_type": "markdown",
   "metadata": {},
   "source": [
    "#### 1b. Importing pickled DFs, train-test split"
   ]
  },
  {
   "cell_type": "markdown",
   "metadata": {},
   "source": [
    "__General approach__\n",
    "\n",
    "1. iteratively load author pickled dfs, filter out sentences that are less than 10 tokens long (between the 25th and 50th percentile for sentence length across the entire corpus of all authors)\n",
    "    - (since our dataset is built on one sentence per author, we drop sentences to avoid the possibility of an extremely sparse matrix. the short sentences would provide limited linguistics indicators (expressed through word freqency counts, ) to distinguish between authors. \n",
    "    - plus we already have sent_length and a high-level overview of a sentence's constituency structure as features\n",
    "    - add author wiki abstract NERs\n",
    "2. cut into train test split on each load (to ensure each author is evenly represented in the train and test sets)\n",
    "3. concat train at end, concat test at end\n",
    "4. fit tfidf on train (so as not to leak test data into train), transform on train and test\n",
    "5. cut into sets of features\n",
    "6. export to svm light "
   ]
  },
  {
   "cell_type": "markdown",
   "metadata": {},
   "source": [
    "__Data integrity checkpoint__\n",
    "\n",
    "We could not complete preprocessing for 3 authors admitted into the corpus by Phase 1. An issue with the contents of their sentences is causing the constituency parser to break. "
   ]
  },
  {
   "cell_type": "code",
   "execution_count": 224,
   "metadata": {},
   "outputs": [
    {
     "name": "stdout",
     "output_type": "stream",
     "text": [
      "train size: (13837, 33), test size: (3518, 33)\n"
     ]
    }
   ],
   "source": [
    "##### Preliminaries #####\n",
    "# 0. grab all the pickled df files\n",
    "df_filenames = glob.glob(\"../2_Preprocessing/processeddata/df_pickles/*.pickle\")\n",
    "len(df_filenames)\n",
    "\n",
    "# 1a. lists for collecting all the df objects to be generated for pd.concat - speediest approach \n",
    "# https://stackoverflow.com/questions/10715965/add-one-row-to-pandas-dataframe/24913075#24913075\n",
    "dfs_list_train = [] \n",
    "dfs_list_test = []\n",
    "\n",
    "\n",
    "# 1b. store author-label mapping\n",
    "label2auth_map = {}\n",
    "auth2label_map = {}\n",
    "\n",
    "\n",
    "##### Processing #####\n",
    "# 2. generate the master DF\n",
    "label_counter = 1\n",
    "for filename in df_filenames: \n",
    "    __ = pd.read_pickle(filename)\n",
    "     \n",
    "    authornum = __[\"authornum\"][0]                             # get the authornum for this df   \n",
    "                                \n",
    "    label2auth_map[label_counter] = authornum                  # switch the authornum to int, store the mapping\n",
    "    auth2label_map[authornum] = label_counter\n",
    "    __[\"authornum\"] = label_counter\n",
    "    \n",
    "    __ = __[__[\"sent_length\"]>10]                               # filter out short sentences\n",
    "    __[\"concreteness\"] = __[\"concreteness\"].astype(float)       # we set the concreteness score as a string \n",
    "                                                                # to run the process_one_author functions easily\n",
    "                                                                # switch back to int here\n",
    "    # get the subjectivity score for the author. \n",
    "    s_score = get_subjectivity(__[\"tokens\"].values,subj_dict)[1]\n",
    "    # add as a new column to this df\n",
    "    __[\"subjectivity\"]=s_score\n",
    "    \n",
    "\n",
    "    # train test split \n",
    "    __train, __test = train_test_split(__, test_size=0.20)\n",
    "    dfs_list_train.append(__train)\n",
    "    dfs_list_test.append(__test)\n",
    "    \n",
    "    label_counter += 1\n",
    "    \n",
    "allauthor_df_train = pd.concat(dfs_list_train, axis=0)\n",
    "allauthor_df_test = pd.concat(dfs_list_test, axis=0)\n",
    "allauthor_df_train.reset_index(drop= True, inplace=True)\n",
    "allauthor_df_test.reset_index(drop= True, inplace=True)\n",
    "\n",
    "print(\"train size: {}, test size: {}\".format(allauthor_df_train.shape, allauthor_df_test.shape))"
   ]
  },
  {
   "cell_type": "code",
   "execution_count": 225,
   "metadata": {},
   "outputs": [
    {
     "data": {
      "text/html": [
       "<div>\n",
       "<style scoped>\n",
       "    .dataframe tbody tr th:only-of-type {\n",
       "        vertical-align: middle;\n",
       "    }\n",
       "\n",
       "    .dataframe tbody tr th {\n",
       "        vertical-align: top;\n",
       "    }\n",
       "\n",
       "    .dataframe thead th {\n",
       "        text-align: right;\n",
       "    }\n",
       "</style>\n",
       "<table border=\"1\" class=\"dataframe\">\n",
       "  <thead>\n",
       "    <tr style=\"text-align: right;\">\n",
       "      <th></th>\n",
       "      <th>authornum</th>\n",
       "      <th>concreteness</th>\n",
       "      <th>parse_NP</th>\n",
       "      <th>parse_S</th>\n",
       "      <th>parse_VP</th>\n",
       "      <th>pos_ADJ</th>\n",
       "      <th>pos_ADP</th>\n",
       "      <th>pos_ADV</th>\n",
       "      <th>pos_AUX</th>\n",
       "      <th>pos_CCONJ</th>\n",
       "      <th>...</th>\n",
       "      <th>pos_PRON</th>\n",
       "      <th>pos_PROPN</th>\n",
       "      <th>pos_PUNCT</th>\n",
       "      <th>pos_SCONJ</th>\n",
       "      <th>pos_SPACE</th>\n",
       "      <th>pos_SYM</th>\n",
       "      <th>pos_VERB</th>\n",
       "      <th>pos_X</th>\n",
       "      <th>sent_length</th>\n",
       "      <th>subjectivity</th>\n",
       "    </tr>\n",
       "  </thead>\n",
       "  <tbody>\n",
       "    <tr>\n",
       "      <th>count</th>\n",
       "      <td>3518.000000</td>\n",
       "      <td>3518.000000</td>\n",
       "      <td>3518.000000</td>\n",
       "      <td>3518.000000</td>\n",
       "      <td>3518.000000</td>\n",
       "      <td>3518.000000</td>\n",
       "      <td>3518.000000</td>\n",
       "      <td>3518.000000</td>\n",
       "      <td>3518.0</td>\n",
       "      <td>3518.000000</td>\n",
       "      <td>...</td>\n",
       "      <td>3518.000000</td>\n",
       "      <td>3518.000000</td>\n",
       "      <td>3518.000000</td>\n",
       "      <td>3518.0</td>\n",
       "      <td>3518.000000</td>\n",
       "      <td>3518.000000</td>\n",
       "      <td>3518.000000</td>\n",
       "      <td>3518.00000</td>\n",
       "      <td>3518.000000</td>\n",
       "      <td>3518.000000</td>\n",
       "    </tr>\n",
       "    <tr>\n",
       "      <th>mean</th>\n",
       "      <td>57.490335</td>\n",
       "      <td>-0.066032</td>\n",
       "      <td>9.480387</td>\n",
       "      <td>3.606026</td>\n",
       "      <td>5.391416</td>\n",
       "      <td>2.949972</td>\n",
       "      <td>3.700398</td>\n",
       "      <td>1.847925</td>\n",
       "      <td>0.0</td>\n",
       "      <td>1.192439</td>\n",
       "      <td>...</td>\n",
       "      <td>1.885162</td>\n",
       "      <td>1.174247</td>\n",
       "      <td>4.039511</td>\n",
       "      <td>0.0</td>\n",
       "      <td>0.375497</td>\n",
       "      <td>0.004832</td>\n",
       "      <td>4.989198</td>\n",
       "      <td>0.01137</td>\n",
       "      <td>27.013360</td>\n",
       "      <td>5.833819</td>\n",
       "    </tr>\n",
       "    <tr>\n",
       "      <th>std</th>\n",
       "      <td>33.208405</td>\n",
       "      <td>6.160825</td>\n",
       "      <td>6.707465</td>\n",
       "      <td>2.432130</td>\n",
       "      <td>3.804283</td>\n",
       "      <td>2.863157</td>\n",
       "      <td>3.103568</td>\n",
       "      <td>1.814675</td>\n",
       "      <td>0.0</td>\n",
       "      <td>1.375351</td>\n",
       "      <td>...</td>\n",
       "      <td>1.813105</td>\n",
       "      <td>2.880335</td>\n",
       "      <td>3.488782</td>\n",
       "      <td>0.0</td>\n",
       "      <td>1.325690</td>\n",
       "      <td>0.115500</td>\n",
       "      <td>3.301872</td>\n",
       "      <td>0.16992</td>\n",
       "      <td>18.518258</td>\n",
       "      <td>1.710686</td>\n",
       "    </tr>\n",
       "    <tr>\n",
       "      <th>min</th>\n",
       "      <td>1.000000</td>\n",
       "      <td>-30.150000</td>\n",
       "      <td>0.000000</td>\n",
       "      <td>0.000000</td>\n",
       "      <td>0.000000</td>\n",
       "      <td>0.000000</td>\n",
       "      <td>0.000000</td>\n",
       "      <td>0.000000</td>\n",
       "      <td>0.0</td>\n",
       "      <td>0.000000</td>\n",
       "      <td>...</td>\n",
       "      <td>0.000000</td>\n",
       "      <td>0.000000</td>\n",
       "      <td>0.000000</td>\n",
       "      <td>0.0</td>\n",
       "      <td>0.000000</td>\n",
       "      <td>0.000000</td>\n",
       "      <td>0.000000</td>\n",
       "      <td>0.00000</td>\n",
       "      <td>11.000000</td>\n",
       "      <td>2.491000</td>\n",
       "    </tr>\n",
       "    <tr>\n",
       "      <th>25%</th>\n",
       "      <td>28.000000</td>\n",
       "      <td>-3.430000</td>\n",
       "      <td>5.000000</td>\n",
       "      <td>2.000000</td>\n",
       "      <td>3.000000</td>\n",
       "      <td>1.000000</td>\n",
       "      <td>2.000000</td>\n",
       "      <td>1.000000</td>\n",
       "      <td>0.0</td>\n",
       "      <td>0.000000</td>\n",
       "      <td>...</td>\n",
       "      <td>1.000000</td>\n",
       "      <td>0.000000</td>\n",
       "      <td>2.000000</td>\n",
       "      <td>0.0</td>\n",
       "      <td>0.000000</td>\n",
       "      <td>0.000000</td>\n",
       "      <td>3.000000</td>\n",
       "      <td>0.00000</td>\n",
       "      <td>15.000000</td>\n",
       "      <td>4.379000</td>\n",
       "    </tr>\n",
       "    <tr>\n",
       "      <th>50%</th>\n",
       "      <td>58.000000</td>\n",
       "      <td>0.080000</td>\n",
       "      <td>8.000000</td>\n",
       "      <td>3.000000</td>\n",
       "      <td>5.000000</td>\n",
       "      <td>2.000000</td>\n",
       "      <td>3.000000</td>\n",
       "      <td>1.000000</td>\n",
       "      <td>0.0</td>\n",
       "      <td>1.000000</td>\n",
       "      <td>...</td>\n",
       "      <td>1.000000</td>\n",
       "      <td>0.000000</td>\n",
       "      <td>3.000000</td>\n",
       "      <td>0.0</td>\n",
       "      <td>0.000000</td>\n",
       "      <td>0.000000</td>\n",
       "      <td>4.000000</td>\n",
       "      <td>0.00000</td>\n",
       "      <td>22.000000</td>\n",
       "      <td>5.764000</td>\n",
       "    </tr>\n",
       "    <tr>\n",
       "      <th>75%</th>\n",
       "      <td>86.000000</td>\n",
       "      <td>3.447500</td>\n",
       "      <td>12.000000</td>\n",
       "      <td>5.000000</td>\n",
       "      <td>7.000000</td>\n",
       "      <td>4.000000</td>\n",
       "      <td>5.000000</td>\n",
       "      <td>3.000000</td>\n",
       "      <td>0.0</td>\n",
       "      <td>2.000000</td>\n",
       "      <td>...</td>\n",
       "      <td>3.000000</td>\n",
       "      <td>2.000000</td>\n",
       "      <td>5.000000</td>\n",
       "      <td>0.0</td>\n",
       "      <td>0.000000</td>\n",
       "      <td>0.000000</td>\n",
       "      <td>6.000000</td>\n",
       "      <td>0.00000</td>\n",
       "      <td>33.000000</td>\n",
       "      <td>6.790000</td>\n",
       "    </tr>\n",
       "    <tr>\n",
       "      <th>max</th>\n",
       "      <td>115.000000</td>\n",
       "      <td>61.820000</td>\n",
       "      <td>96.000000</td>\n",
       "      <td>26.000000</td>\n",
       "      <td>65.000000</td>\n",
       "      <td>45.000000</td>\n",
       "      <td>33.000000</td>\n",
       "      <td>19.000000</td>\n",
       "      <td>0.0</td>\n",
       "      <td>14.000000</td>\n",
       "      <td>...</td>\n",
       "      <td>23.000000</td>\n",
       "      <td>128.000000</td>\n",
       "      <td>107.000000</td>\n",
       "      <td>0.0</td>\n",
       "      <td>20.000000</td>\n",
       "      <td>5.000000</td>\n",
       "      <td>39.000000</td>\n",
       "      <td>7.00000</td>\n",
       "      <td>443.000000</td>\n",
       "      <td>11.402000</td>\n",
       "    </tr>\n",
       "  </tbody>\n",
       "</table>\n",
       "<p>8 rows × 26 columns</p>\n",
       "</div>"
      ],
      "text/plain": [
       "         authornum  concreteness     parse_NP      parse_S     parse_VP  \\\n",
       "count  3518.000000   3518.000000  3518.000000  3518.000000  3518.000000   \n",
       "mean     57.490335     -0.066032     9.480387     3.606026     5.391416   \n",
       "std      33.208405      6.160825     6.707465     2.432130     3.804283   \n",
       "min       1.000000    -30.150000     0.000000     0.000000     0.000000   \n",
       "25%      28.000000     -3.430000     5.000000     2.000000     3.000000   \n",
       "50%      58.000000      0.080000     8.000000     3.000000     5.000000   \n",
       "75%      86.000000      3.447500    12.000000     5.000000     7.000000   \n",
       "max     115.000000     61.820000    96.000000    26.000000    65.000000   \n",
       "\n",
       "           pos_ADJ      pos_ADP      pos_ADV  pos_AUX    pos_CCONJ  \\\n",
       "count  3518.000000  3518.000000  3518.000000   3518.0  3518.000000   \n",
       "mean      2.949972     3.700398     1.847925      0.0     1.192439   \n",
       "std       2.863157     3.103568     1.814675      0.0     1.375351   \n",
       "min       0.000000     0.000000     0.000000      0.0     0.000000   \n",
       "25%       1.000000     2.000000     1.000000      0.0     0.000000   \n",
       "50%       2.000000     3.000000     1.000000      0.0     1.000000   \n",
       "75%       4.000000     5.000000     3.000000      0.0     2.000000   \n",
       "max      45.000000    33.000000    19.000000      0.0    14.000000   \n",
       "\n",
       "           ...          pos_PRON    pos_PROPN    pos_PUNCT  pos_SCONJ  \\\n",
       "count      ...       3518.000000  3518.000000  3518.000000     3518.0   \n",
       "mean       ...          1.885162     1.174247     4.039511        0.0   \n",
       "std        ...          1.813105     2.880335     3.488782        0.0   \n",
       "min        ...          0.000000     0.000000     0.000000        0.0   \n",
       "25%        ...          1.000000     0.000000     2.000000        0.0   \n",
       "50%        ...          1.000000     0.000000     3.000000        0.0   \n",
       "75%        ...          3.000000     2.000000     5.000000        0.0   \n",
       "max        ...         23.000000   128.000000   107.000000        0.0   \n",
       "\n",
       "         pos_SPACE      pos_SYM     pos_VERB       pos_X  sent_length  \\\n",
       "count  3518.000000  3518.000000  3518.000000  3518.00000  3518.000000   \n",
       "mean      0.375497     0.004832     4.989198     0.01137    27.013360   \n",
       "std       1.325690     0.115500     3.301872     0.16992    18.518258   \n",
       "min       0.000000     0.000000     0.000000     0.00000    11.000000   \n",
       "25%       0.000000     0.000000     3.000000     0.00000    15.000000   \n",
       "50%       0.000000     0.000000     4.000000     0.00000    22.000000   \n",
       "75%       0.000000     0.000000     6.000000     0.00000    33.000000   \n",
       "max      20.000000     5.000000    39.000000     7.00000   443.000000   \n",
       "\n",
       "       subjectivity  \n",
       "count   3518.000000  \n",
       "mean       5.833819  \n",
       "std        1.710686  \n",
       "min        2.491000  \n",
       "25%        4.379000  \n",
       "50%        5.764000  \n",
       "75%        6.790000  \n",
       "max       11.402000  \n",
       "\n",
       "[8 rows x 26 columns]"
      ]
     },
     "execution_count": 225,
     "metadata": {},
     "output_type": "execute_result"
    }
   ],
   "source": [
    "# overview stats\n",
    "allauthor_df_test.describe()"
   ]
  },
  {
   "cell_type": "code",
   "execution_count": 226,
   "metadata": {},
   "outputs": [
    {
     "name": "stdout",
     "output_type": "stream",
     "text": [
      "<class 'pandas.core.frame.DataFrame'>\n",
      "RangeIndex: 3518 entries, 0 to 3517\n",
      "Data columns (total 33 columns):\n",
      "authornum       3518 non-null int64\n",
      "concreteness    3518 non-null float64\n",
      "lemmas          3518 non-null object\n",
      "ne_dates        3518 non-null object\n",
      "ne_persons      3518 non-null object\n",
      "ne_places       3518 non-null object\n",
      "parse_NP        3518 non-null int64\n",
      "parse_S         3518 non-null int64\n",
      "parse_VP        3518 non-null int64\n",
      "pos_ADJ         3518 non-null int64\n",
      "pos_ADP         3518 non-null int64\n",
      "pos_ADV         3518 non-null int64\n",
      "pos_AUX         3518 non-null int64\n",
      "pos_CCONJ       3518 non-null int64\n",
      "pos_CONJ        3518 non-null int64\n",
      "pos_DET         3518 non-null int64\n",
      "pos_INTJ        3518 non-null int64\n",
      "pos_NOUN        3518 non-null int64\n",
      "pos_NUM         3518 non-null int64\n",
      "pos_PART        3518 non-null int64\n",
      "pos_PRON        3518 non-null int64\n",
      "pos_PROPN       3518 non-null int64\n",
      "pos_PUNCT       3518 non-null int64\n",
      "pos_SCONJ       3518 non-null int64\n",
      "pos_SPACE       3518 non-null int64\n",
      "pos_SYM         3518 non-null int64\n",
      "pos_VERB        3518 non-null int64\n",
      "pos_X           3518 non-null int64\n",
      "poswordpairs    3518 non-null object\n",
      "sentences       3518 non-null object\n",
      "tokens          3518 non-null object\n",
      "sent_length     3518 non-null int64\n",
      "subjectivity    3518 non-null float64\n",
      "dtypes: float64(2), int64(24), object(7)\n",
      "memory usage: 907.1+ KB\n"
     ]
    }
   ],
   "source": [
    "# check object types - ints/floats, categoricals etc\n",
    "allauthor_df_test.info()"
   ]
  },
  {
   "cell_type": "markdown",
   "metadata": {},
   "source": [
    "#### 1c. Exploring the dataset"
   ]
  },
  {
   "cell_type": "code",
   "execution_count": 227,
   "metadata": {},
   "outputs": [
    {
     "name": "stderr",
     "output_type": "stream",
     "text": [
      "/Users/k1000mbp/anaconda3/lib/python3.7/site-packages/scipy/stats/stats.py:1713: FutureWarning: Using a non-tuple sequence for multidimensional indexing is deprecated; use `arr[tuple(seq)]` instead of `arr[seq]`. In the future this will be interpreted as an array index, `arr[np.array(seq)]`, which will result either in an error or a different result.\n",
      "  return np.add.reduce(sorted[indexer] * weights, axis=axis) / sumval\n"
     ]
    },
    {
     "data": {
      "image/png": "[encoded data removed]",
      "text/plain": [
       "<Figure size 432x288 with 1 Axes>"
      ]
     },
     "metadata": {
      "needs_background": "light"
     },
     "output_type": "display_data"
    },
    {
     "data": {
      "image/png": "[encoded data removed]",
      "text/plain": [
       "<Figure size 432x288 with 1 Axes>"
      ]
     },
     "metadata": {
      "needs_background": "light"
     },
     "output_type": "display_data"
    },
    {
     "data": {
      "image/png": "[encoded data removed]",
      "text/plain": [
       "<Figure size 432x288 with 1 Axes>"
      ]
     },
     "metadata": {
      "needs_background": "light"
     },
     "output_type": "display_data"
    }
   ],
   "source": [
    "plt.subplot(2, 1, 2)\n",
    "# let's take a look at the population distribution, to see if we need to finetune the corpus or augment datapoints\n",
    "sns.distplot(allauthor_df_train.groupby(\"authornum\")[\"authornum\"].count())\n",
    "plt.show()\n",
    "# distribution of mean subjectivity score for each author's sentences  \n",
    "sns.distplot(allauthor_df_train.groupby([\"authornum\",\"subjectivity\"])[\"subjectivity\"].mean(), bins=20)\n",
    "plt.show()\n",
    "# distribution of mean concreteness score for each author's sentences  \n",
    "sns.distplot(allauthor_df_train.groupby([\"authornum\",\"concreteness\"])[\"concreteness\"].mean(), bins=20)\n",
    "plt.show()"
   ]
  },
  {
   "cell_type": "markdown",
   "metadata": {},
   "source": [
    "#### 1d. Vectorising lemmas and NERs"
   ]
  },
  {
   "cell_type": "markdown",
   "metadata": {},
   "source": [
    "Our custom vectoriser in utils_vectoriser.py is not appropriate for this task. It implements [tf-max]( https://nlp.stanford.edu/IR-book/html/htmledition/maximum-tf-normalization-1.html) which is useful when working with a set that has document level data. Our current tf-max code set-up is not useful for our featureset structure here (we have no way to normalise over the docset (a book of an author's)). Instead, we use sklearn's TfidTransformer with DictVectoriser, since we already have a set of tokens and lemmas from our earlier custom preprocessing. "
   ]
  },
  {
   "cell_type": "code",
   "execution_count": null,
   "metadata": {},
   "outputs": [],
   "source": [
    "__features = {\"lemmas\": \n",
    "                  {\"train\": allauthor_df_train[\"lemmas\"],\n",
    "                    \"test\": allauthor_df_test[\"lemmas\"],},\n",
    "              \"namedentities\": \n",
    "                  {\"train\": allauthor_df_train['ne_dates']+allauthor_df_train['ne_places'],\n",
    "                   \"test\": allauthor_df_test['ne_dates']+allauthor_df_test['ne_places'],}, }\n",
    "                # add the ne_dates and ne_places columns for the vectoriser to manage sparsity. leave out \n",
    "                # persons for now, it is possible person names can significantly identify authors (except \n",
    "                # perhaps authors) \n",
    "                          \n",
    "for feat in __features:\n",
    "    # train data - generate DictCounts\n",
    "    token_Counters_train = []\n",
    "    for row in __features[feat][\"train\"].index:\n",
    "        token_Counters_train.append(collections.Counter(__features[feat][\"train\"][row]))\n",
    "    \n",
    "    # test data - generate DictCounts\n",
    "    token_Counters_test = []\n",
    "    for row in __features[feat][\"test\"].index:\n",
    "        token_Counters_test.append(collections.Counter(__features[feat][\"test\"][row]))\n",
    "    \n",
    "    # transforming test set based on the train set fit \n",
    "    # pass the DictCounts into DictVectorizer() \n",
    "    Dvectoriser = DictVectorizer()\n",
    "    Dvect_result_train = Dvectoriser.fit_transform(token_Counters_train)\n",
    "    Dvect_result_test = Dvectoriser.transform(token_Counters_test)\n",
    "\n",
    "    Ttransformer = TfidfTransformer(smooth_idf=True) #\n",
    "    Ttrans_results_train = Ttransformer.fit_transform(Dvect_result_train)\n",
    "    Ttrans_results_test = Ttransformer.transform(Dvect_result_test)\n",
    "    \n",
    "    # write to SVM\n",
    "    dump_svmlight_file(Ttrans_results_train, allauthor_df_train[\"authornum\"], \"data/train_\"+feat+\".svmlight\")\n",
    "    dump_svmlight_file(Ttrans_results_test, allauthor_df_test[\"authornum\"], \"data/test_\"+feat+\".svmlight\")"
   ]
  },
  {
   "cell_type": "code",
   "execution_count": null,
   "metadata": {},
   "outputs": [],
   "source": [
    "__other_features=['concreteness', 'subjectivity', \"parse_VP\"]\n",
    "for feat in __other_features:\n",
    "    # .reshapes since we are working with single feature sets each time \n",
    "    dump_svmlight_file(allauthor_df_train[feat].values.reshape(-1,1),\n",
    "                       allauthor_df_train[\"authornum\"], \"data/train_\"+feat+\".svmlight\")\n",
    "    dump_svmlight_file(allauthor_df_test[feat].values.reshape(-1,1), \n",
    "                       allauthor_df_test[\"authornum\"], \"data/test_\"+feat+\".svmlight\")        "
   ]
  },
  {
   "cell_type": "code",
   "execution_count": null,
   "metadata": {},
   "outputs": [],
   "source": [
    "allauthor_df_train.columns"
   ]
  },
  {
   "cell_type": "markdown",
   "metadata": {},
   "source": [
    "### 2. Large multiclass classification "
   ]
  },
  {
   "cell_type": "code",
   "execution_count": 4,
   "metadata": {},
   "outputs": [],
   "source": [
    "def load_data(data_path = \"./data\", features='lemmas'):\n",
    "    '''\n",
    "    '''\n",
    "    X_train, y_train = load_svmlight_file( data_path+'/train_'+features+\".svmlight\" ) \n",
    "    X_test, y_test = load_svmlight_file( data_path+'/test_'+features+\".svmlight\", n_features=X_train.shape[1] ) \n",
    "    # shape of test shouldn't matter here since we enforced it at the vectorising step above\n",
    "    \n",
    "    return X_train, y_train, X_test, y_test"
   ]
  },
  {
   "cell_type": "code",
   "execution_count": 5,
   "metadata": {},
   "outputs": [],
   "source": [
    "def stack( A, B ):\n",
    "    return hstack( [A,B] )\n",
    "\n",
    "X_tr_lemmas, y_train, X_te_lemmas, y_test = load_data( \"./data\", features='lemmas')\n",
    "X_tr_concreteness, y_train, X_te_concreteness, y_test = load_data( \"./data\", features='concreteness')\n",
    "X_tr_namedentities, y_train, X_te_namedentities, y_test = load_data( \"./data\", features='namedentities')\n",
    "X_tr_parse_VP, y_train, X_te_parse_VP, y_test = load_data( \"./data\", features='parse_VP')\n",
    "X_tr_subjectivity, y_train, X_te_subjectivity, y_test = load_data( \"./data\", features='subjectivity')\n",
    "\n",
    "X_train = hstack( [X_tr_subjectivity, X_tr_lemmas,X_tr_namedentities, X_tr_parse_VP] )\n",
    "X_test = hstack( [X_te_subjectivity, X_te_lemmas, X_te_namedentities, X_te_parse_VP] )"
   ]
  },
  {
   "cell_type": "code",
   "execution_count": 6,
   "metadata": {},
   "outputs": [
    {
     "data": {
      "text/plain": [
       "(13837, 26502)"
      ]
     },
     "execution_count": 6,
     "metadata": {},
     "output_type": "execute_result"
    }
   ],
   "source": [
    "X_train.shape"
   ]
  },
  {
   "cell_type": "code",
   "execution_count": 7,
   "metadata": {},
   "outputs": [
    {
     "data": {
      "text/plain": [
       "(3518, 26502)"
      ]
     },
     "execution_count": 7,
     "metadata": {},
     "output_type": "execute_result"
    }
   ],
   "source": [
    "X_test.shape"
   ]
  },
  {
   "cell_type": "code",
   "execution_count": 8,
   "metadata": {},
   "outputs": [
    {
     "name": "stderr",
     "output_type": "stream",
     "text": [
      "/Users/k1000mbp/anaconda3/lib/python3.7/site-packages/scipy/stats/stats.py:1713: FutureWarning: Using a non-tuple sequence for multidimensional indexing is deprecated; use `arr[tuple(seq)]` instead of `arr[seq]`. In the future this will be interpreted as an array index, `arr[np.array(seq)]`, which will result either in an error or a different result.\n",
      "  return np.add.reduce(sorted[indexer] * weights, axis=axis) / sumval\n"
     ]
    },
    {
     "data": {
      "text/plain": [
       "<matplotlib.axes._subplots.AxesSubplot at 0x1a1a0186d8>"
      ]
     },
     "execution_count": 8,
     "metadata": {},
     "output_type": "execute_result"
    },
    {
     "data": {
      "image/png": "[encoded data removed]",
      "text/plain": [
       "<Figure size 432x288 with 1 Axes>"
      ]
     },
     "metadata": {
      "needs_background": "light"
     },
     "output_type": "display_data"
    }
   ],
   "source": [
    "# The distribution of lables in the train set is a little uneven - we could try SMOTE upsampling (since we don't have \n",
    "# a very large dataset, so downsampling could worsen the learning)\n",
    "sns.distplot(y_train)"
   ]
  },
  {
   "cell_type": "markdown",
   "metadata": {},
   "source": [
    "__A. Dimensionality reduction to explore the characteristics of the data.__\n",
    "\n",
    "We have a very sparse matrix of about 25,000 features. This is confusing the learning for the classifier, let's reduce dimensions to 5000, instead of 25,000, to see it's impact.  "
   ]
  },
  {
   "cell_type": "code",
   "execution_count": 12,
   "metadata": {},
   "outputs": [],
   "source": [
    "# scale with MaxAbsScaler, to retain sparsity strcuture. Hopefully it will speed up computation. Would allow us to include \n",
    "# concreteness score (which has negative values) in the featureset, but need to investigate (i) sensibility of our \n",
    "# earlier centering of the concreteness score about -2.5 and 2.5. And if so, does MaxAbsScale entirely negate that? \n",
    "\n",
    "mas = MaxAbsScaler()\n",
    "mas.fit(X_train)\n",
    "X_train_SS = mas.transform(X_train)\n",
    "X_test_SS = mas.transform(X_test)"
   ]
  },
  {
   "cell_type": "code",
   "execution_count": null,
   "metadata": {},
   "outputs": [],
   "source": [
    "for n_components in [5,1000, 5000]:\n",
    "    TSVD_model = TruncatedSVD(n_components=n_components, random_state=1,)\n",
    "    X_train_TSVD_model = TSVD_model.fit(X_train)\n",
    "    print(\"The explained variance for PCA with {} is {}\".format(n_components, sum(TSVD_model.explained_variance_)))"
   ]
  },
  {
   "cell_type": "code",
   "execution_count": null,
   "metadata": {},
   "outputs": [],
   "source": [
    "X_train_TSVD=X_train_TSVD_model.transform(X_train)\n",
    "X_test_TSVD=X_train_TSVD_model.transform(X_test)"
   ]
  },
  {
   "cell_type": "markdown",
   "metadata": {},
   "source": [
    "__A1. Results for [X_tr_subjectivity, X_tr_lemmas,X_tr_namedentities, X_tr_parse_VP]__\n",
    "\n",
    "The explained variance for TruncatedSVD with 5 is 17.62470506672777\n",
    "\n",
    "The explained variance for TruncatedSVD with 1000 is 18.178797730372374\n",
    "\n",
    "The explained variance for TruncatedSVD with 5000 is 18.585553228841114\n"
   ]
  },
  {
   "cell_type": "markdown",
   "metadata": {},
   "source": [
    "__B. Attempt at NMF to ensure non-negative values (which PCA allows)__\n",
    "\n",
    "Post-PCA, our train set contains negative values and MultinomialNB does not accept that (although, fine for LogReg since it's a linear model). "
   ]
  },
  {
   "cell_type": "code",
   "execution_count": null,
   "metadata": {},
   "outputs": [],
   "source": [
    "n_components = 5000\n",
    "nmf_model = NMF(n_components=n_components, init=\"nndsvdar\", random_state=1, beta_loss=\"frobenius\",\n",
    "          alpha=.5, l1_ratio=.5, ) \n",
    "# We hypothesise that there are a lot of unnnecessary features, so we start by setting \n",
    "# a higher alpha for stronger regularisation (drive the weight of the unnecessary features to zero).\n",
    "# We experiment with a 0.5 L1-L2 regularisation ratio. \n",
    "# nndsvdar for faster computation: too little RAM on our PCs :(\n",
    "\n",
    "X_train_NMF = nmf_model.fit_transform(X_train)\n",
    "X_test_NMF = nmf_model.transform(X_test)"
   ]
  },
  {
   "cell_type": "markdown",
   "metadata": {},
   "source": [
    "#### 2a. Preliminaries: LogReg baseline model"
   ]
  },
  {
   "cell_type": "code",
   "execution_count": 50,
   "metadata": {},
   "outputs": [
    {
     "data": {
      "text/plain": [
       "LogisticRegression(C=1.0, class_weight=None, dual=False, fit_intercept=True,\n",
       "          intercept_scaling=1, max_iter=100, multi_class='warn',\n",
       "          n_jobs=None, penalty='l2', random_state=None, solver='warn',\n",
       "          tol=0.0001, verbose=0, warm_start=False)"
      ]
     },
     "execution_count": 50,
     "metadata": {},
     "output_type": "execute_result"
    }
   ],
   "source": [
    "logmodel= LogisticRegression()\n",
    "logmodel.fit(X_train_SS, y_train,)"
   ]
  },
  {
   "cell_type": "code",
   "execution_count": 14,
   "metadata": {},
   "outputs": [
    {
     "name": "stdout",
     "output_type": "stream",
     "text": [
      "train acc: 0.9904603599046036\n"
     ]
    }
   ],
   "source": [
    "print(\"train acc:\", metrics.accuracy_score( y_train, logmodel.predict(X_train_SS) ))"
   ]
  },
  {
   "cell_type": "code",
   "execution_count": 15,
   "metadata": {},
   "outputs": [
    {
     "name": "stdout",
     "output_type": "stream",
     "text": [
      "test acc: 0.39511085844229676\n"
     ]
    }
   ],
   "source": [
    "print(\"test acc:\", metrics.accuracy_score( y_test, logmodel.predict(X_test_SS) ))"
   ]
  },
  {
   "cell_type": "code",
   "execution_count": 52,
   "metadata": {},
   "outputs": [
    {
     "name": "stderr",
     "output_type": "stream",
     "text": [
      "/Users/k1000mbp/anaconda3/lib/python3.7/site-packages/sklearn/model_selection/_split.py:2053: FutureWarning: You should specify a value for 'cv' instead of relying on the default value. The default value will change from 3 to 5 in version 0.22.\n",
      "  warnings.warn(CV_WARNING, FutureWarning)\n",
      "/Users/k1000mbp/anaconda3/lib/python3.7/site-packages/sklearn/linear_model/logistic.py:433: FutureWarning: Default solver will be changed to 'lbfgs' in 0.22. Specify a solver to silence this warning.\n",
      "  FutureWarning)\n",
      "/Users/k1000mbp/anaconda3/lib/python3.7/site-packages/sklearn/linear_model/logistic.py:460: FutureWarning: Default multi_class will be changed to 'auto' in 0.22. Specify the multi_class option to silence this warning.\n",
      "  \"this warning.\", FutureWarning)\n"
     ]
    },
    {
     "data": {
      "text/plain": [
       "array([0.35103181, 0.34049013, 0.34280717])"
      ]
     },
     "execution_count": 52,
     "metadata": {},
     "output_type": "execute_result"
    }
   ],
   "source": [
    "cross_val_score(logmodel, X_train_SS, y_train)"
   ]
  },
  {
   "cell_type": "markdown",
   "metadata": {},
   "source": [
    "#### 2b. Classification models"
   ]
  },
  {
   "cell_type": "code",
   "execution_count": 41,
   "metadata": {},
   "outputs": [],
   "source": [
    "def train_clf( X, y, classifier='m_nb', tune_param = 1.0 ):\n",
    "    if classifier== 'm_nb':\n",
    "        classifier = MultinomialNB(alpha=tune_param, fit_prior=True, class_prior=None) \n",
    "        # Train \n",
    "        classifier.fit( X, y )\n",
    "    elif classifier== 'logreg':\n",
    "        classifier = LogisticRegression(C = tune_param, solver=\"saga\", \n",
    "                                        penalty='l2', multi_class=\"multinomial\") \n",
    "        # used l1 regularisation to drive weights of irrelevant features to zero (improve learning)\n",
    "        # saga solver chosen because it allows L1 reg as well as handle multinomial loss. bonus: allows \n",
    "        # parallel computation (but not relevant here since we are trying to use multinomial loss to improve \n",
    "        # the performance of the classifier over an OVR approach)\n",
    "        # https://scikit-learn.org/stable/modules/generated/sklearn.linear_model.LogisticRegression.html \n",
    "        \n",
    "        # Train \n",
    "        classifier.fit( X, y )\n",
    "    return classifier\n",
    "\n",
    "def evaluate( classifier, X, y ):\n",
    "    # Predict\n",
    "    y_pred = classifier.predict( X )\n",
    "    return y_pred \n",
    "\n",
    "def compute_acc(y_true, y_pred):\n",
    "    return metrics.accuracy_score( y_true, y_pred )\n",
    "\n",
    "def tune_clf(  X_train, y_train, X_test, y_test, classifier='m_nb' ):\n",
    "    train_acc, test_acc, cvs tune_params, clf_name = [],[], [], [], classifier\n",
    "    if classifier=='m_nb': \n",
    "        for alpha in np.linspace(0,1,11):\n",
    "            alpha = round(alpha, 1)\n",
    "            tune_params.append(alpha)\n",
    "            clf = train_clf( X_train, y_train, classifier=classifier, tune_param=alpha )\n",
    "            #print(clf)\n",
    "            y_pred_train = evaluate( clf, X_train, y_train )\n",
    "            tr_acc = compute_acc(y_train, y_pred_train)\n",
    "            train_acc.append( tr_acc )\n",
    "\n",
    "            y_pred_test = evaluate( clf, X_test, y_test )\n",
    "            d_acc = compute_acc(y_test, y_pred_test)\n",
    "            test_acc.append( d_acc )\n",
    "            print( alpha, round( tr_acc*100, 3), round( d_acc*100, 3) )\n",
    "    \n",
    "    elif classifier== 'logreg': \n",
    "        for C in np.logspace(-5, 1, 11):\n",
    "            tune_params.append(C)\n",
    "            clf = train_clf( X_train, y_train, classifier=classifier, tune_param=C )\n",
    "            y_pred_train = evaluate( clf, X_train, y_train )\n",
    "            tr_acc = compute_acc(y_train, y_pred_train)\n",
    "            train_acc.append( tr_acc )\n",
    "\n",
    "            y_pred_test = evaluate( clf, X_test, y_test )\n",
    "            d_acc = compute_acc(y_test, y_pred_test)\n",
    "            test_acc.append( d_acc )\n",
    "            print( C, round( tr_acc*100, 3), round( d_acc*100, 3) )\n",
    "    return train_acc, test_acc, tune_params, clf\n",
    "\n",
    "def plot_tune_clf( train_acc, test_acc, tune_params, clf_name):    \n",
    "    fig = plt.figure()\n",
    "    ax = fig.add_axes([0.1,0.2,0.8,0.9] )\n",
    "    ax.plot( tune_params, train_acc, 'blue', label='train' )\n",
    "    ax.plot( tune_params, test_acc, 'red', label='test' )\n",
    "    plt.title(clf_name)\n",
    "    ax.legend()\n",
    "    ax.set_xlabel('Alpha')\n",
    "    ax.set_ylabel('Accuracy')"
   ]
  },
  {
   "cell_type": "markdown",
   "metadata": {},
   "source": [
    "#### 2c. Running the tests"
   ]
  },
  {
   "cell_type": "code",
   "execution_count": 35,
   "metadata": {},
   "outputs": [
    {
     "name": "stderr",
     "output_type": "stream",
     "text": [
      "/Users/k1000mbp/anaconda3/lib/python3.7/site-packages/sklearn/naive_bayes.py:480: UserWarning: alpha too small will result in numeric errors, setting alpha = 1.0e-10\n",
      "  'setting alpha = %.1e' % _ALPHA_MIN)\n"
     ]
    },
    {
     "name": "stdout",
     "output_type": "stream",
     "text": [
      "0.0 98.967 28.709\n",
      "0.1 42.61 11.967\n",
      "0.2 19.737 6.566\n",
      "0.3 11.946 4.69\n",
      "0.4 8.152 3.411\n",
      "0.5 6.41 2.843\n",
      "0.6 5.196 2.644\n",
      "0.7 4.459 2.445\n",
      "0.8 3.801 2.132\n",
      "0.9 3.389 1.99\n",
      "1.0 3.071 1.876\n"
     ]
    },
    {
     "data": {
      "image/png": "[encoded data removed]",
      "text/plain": [
       "<Figure size 432x288 with 1 Axes>"
      ]
     },
     "metadata": {
      "needs_background": "light"
     },
     "output_type": "display_data"
    }
   ],
   "source": [
    "train_acc_uni, test_acc_uni, tune_param, clf_name = tune_clf(X_train, y_train, X_test, y_test, classifier=\"m_nb\" )\n",
    "plot_tune_clf( train_acc_uni, test_acc_uni, tune_param, clf_name )"
   ]
  },
  {
   "cell_type": "code",
   "execution_count": 42,
   "metadata": {},
   "outputs": [
    {
     "name": "stderr",
     "output_type": "stream",
     "text": [
      "/Users/k1000mbp/anaconda3/lib/python3.7/site-packages/sklearn/linear_model/sag.py:334: ConvergenceWarning: The max_iter was reached which means the coef_ did not converge\n",
      "  \"the coef_ did not converge\", ConvergenceWarning)\n"
     ]
    },
    {
     "name": "stdout",
     "output_type": "stream",
     "text": [
      "1e-05 1.315 1.308\n",
      "3.9810717055349695e-05 1.59 1.535\n",
      "0.00015848931924611142 1.698 1.563\n"
     ]
    },
    {
     "name": "stderr",
     "output_type": "stream",
     "text": [
      "/Users/k1000mbp/anaconda3/lib/python3.7/site-packages/sklearn/linear_model/sag.py:334: ConvergenceWarning: The max_iter was reached which means the coef_ did not converge\n",
      "  \"the coef_ did not converge\", ConvergenceWarning)\n"
     ]
    },
    {
     "name": "stdout",
     "output_type": "stream",
     "text": [
      "0.000630957344480193 1.612 1.478\n"
     ]
    },
    {
     "name": "stderr",
     "output_type": "stream",
     "text": [
      "/Users/k1000mbp/anaconda3/lib/python3.7/site-packages/sklearn/linear_model/sag.py:334: ConvergenceWarning: The max_iter was reached which means the coef_ did not converge\n",
      "  \"the coef_ did not converge\", ConvergenceWarning)\n"
     ]
    },
    {
     "name": "stdout",
     "output_type": "stream",
     "text": [
      "0.0025118864315095794 1.662 1.507\n"
     ]
    },
    {
     "name": "stderr",
     "output_type": "stream",
     "text": [
      "/Users/k1000mbp/anaconda3/lib/python3.7/site-packages/sklearn/linear_model/sag.py:334: ConvergenceWarning: The max_iter was reached which means the coef_ did not converge\n",
      "  \"the coef_ did not converge\", ConvergenceWarning)\n"
     ]
    },
    {
     "name": "stdout",
     "output_type": "stream",
     "text": [
      "0.01 1.807 1.649\n"
     ]
    },
    {
     "ename": "KeyboardInterrupt",
     "evalue": "",
     "output_type": "error",
     "traceback": [
      "\u001b[0;31m---------------------------------------------------------------------------\u001b[0m",
      "\u001b[0;31mKeyboardInterrupt\u001b[0m                         Traceback (most recent call last)",
      "\u001b[0;32m<ipython-input-42-3325057d75ba>\u001b[0m in \u001b[0;36m<module>\u001b[0;34m\u001b[0m\n\u001b[0;32m----> 1\u001b[0;31m \u001b[0mtrain_acc_uni\u001b[0m\u001b[0;34m,\u001b[0m \u001b[0mtest_acc_uni\u001b[0m\u001b[0;34m,\u001b[0m \u001b[0mtune_param\u001b[0m\u001b[0;34m,\u001b[0m \u001b[0mclf_name\u001b[0m \u001b[0;34m=\u001b[0m \u001b[0mtune_clf\u001b[0m\u001b[0;34m(\u001b[0m\u001b[0mX_train\u001b[0m\u001b[0;34m,\u001b[0m \u001b[0my_train\u001b[0m\u001b[0;34m,\u001b[0m \u001b[0mX_test\u001b[0m\u001b[0;34m,\u001b[0m \u001b[0my_test\u001b[0m\u001b[0;34m,\u001b[0m \u001b[0mclassifier\u001b[0m\u001b[0;34m=\u001b[0m\u001b[0;34m\"logreg\"\u001b[0m \u001b[0;34m)\u001b[0m\u001b[0;34m\u001b[0m\u001b[0;34m\u001b[0m\u001b[0m\n\u001b[0m\u001b[1;32m      2\u001b[0m \u001b[0mplot_tune_clf\u001b[0m\u001b[0;34m(\u001b[0m \u001b[0mtrain_acc_uni\u001b[0m\u001b[0;34m,\u001b[0m \u001b[0mtest_acc_uni\u001b[0m\u001b[0;34m,\u001b[0m \u001b[0mtune_param\u001b[0m\u001b[0;34m,\u001b[0m \u001b[0mclf_name\u001b[0m \u001b[0;34m)\u001b[0m\u001b[0;34m\u001b[0m\u001b[0;34m\u001b[0m\u001b[0m\n",
      "\u001b[0;32m<ipython-input-41-135be34c2c68>\u001b[0m in \u001b[0;36mtune_clf\u001b[0;34m(X_train, y_train, X_test, y_test, classifier)\u001b[0m\n\u001b[1;32m     45\u001b[0m         \u001b[0;32mfor\u001b[0m \u001b[0mC\u001b[0m \u001b[0;32min\u001b[0m \u001b[0mnp\u001b[0m\u001b[0;34m.\u001b[0m\u001b[0mlogspace\u001b[0m\u001b[0;34m(\u001b[0m\u001b[0;34m-\u001b[0m\u001b[0;36m5\u001b[0m\u001b[0;34m,\u001b[0m \u001b[0;36m1\u001b[0m\u001b[0;34m,\u001b[0m \u001b[0;36m11\u001b[0m\u001b[0;34m)\u001b[0m\u001b[0;34m:\u001b[0m\u001b[0;34m\u001b[0m\u001b[0;34m\u001b[0m\u001b[0m\n\u001b[1;32m     46\u001b[0m             \u001b[0mtune_params\u001b[0m\u001b[0;34m.\u001b[0m\u001b[0mappend\u001b[0m\u001b[0;34m(\u001b[0m\u001b[0mC\u001b[0m\u001b[0;34m)\u001b[0m\u001b[0;34m\u001b[0m\u001b[0;34m\u001b[0m\u001b[0m\n\u001b[0;32m---> 47\u001b[0;31m             \u001b[0mclf\u001b[0m \u001b[0;34m=\u001b[0m \u001b[0mtrain_clf\u001b[0m\u001b[0;34m(\u001b[0m \u001b[0mX_train\u001b[0m\u001b[0;34m,\u001b[0m \u001b[0my_train\u001b[0m\u001b[0;34m,\u001b[0m \u001b[0mclassifier\u001b[0m\u001b[0;34m=\u001b[0m\u001b[0mclassifier\u001b[0m\u001b[0;34m,\u001b[0m \u001b[0mtune_param\u001b[0m\u001b[0;34m=\u001b[0m\u001b[0mC\u001b[0m \u001b[0;34m)\u001b[0m\u001b[0;34m\u001b[0m\u001b[0;34m\u001b[0m\u001b[0m\n\u001b[0m\u001b[1;32m     48\u001b[0m             \u001b[0my_pred_train\u001b[0m \u001b[0;34m=\u001b[0m \u001b[0mevaluate\u001b[0m\u001b[0;34m(\u001b[0m \u001b[0mclf\u001b[0m\u001b[0;34m,\u001b[0m \u001b[0mX_train\u001b[0m\u001b[0;34m,\u001b[0m \u001b[0my_train\u001b[0m \u001b[0;34m)\u001b[0m\u001b[0;34m\u001b[0m\u001b[0;34m\u001b[0m\u001b[0m\n\u001b[1;32m     49\u001b[0m             \u001b[0mtr_acc\u001b[0m \u001b[0;34m=\u001b[0m \u001b[0mcompute_acc\u001b[0m\u001b[0;34m(\u001b[0m\u001b[0my_train\u001b[0m\u001b[0;34m,\u001b[0m \u001b[0my_pred_train\u001b[0m\u001b[0;34m)\u001b[0m\u001b[0;34m\u001b[0m\u001b[0;34m\u001b[0m\u001b[0m\n",
      "\u001b[0;32m<ipython-input-41-135be34c2c68>\u001b[0m in \u001b[0;36mtrain_clf\u001b[0;34m(X, y, classifier, tune_param)\u001b[0m\n\u001b[1;32m     14\u001b[0m \u001b[0;34m\u001b[0m\u001b[0m\n\u001b[1;32m     15\u001b[0m         \u001b[0;31m# Train\u001b[0m\u001b[0;34m\u001b[0m\u001b[0;34m\u001b[0m\u001b[0;34m\u001b[0m\u001b[0m\n\u001b[0;32m---> 16\u001b[0;31m         \u001b[0mclassifier\u001b[0m\u001b[0;34m.\u001b[0m\u001b[0mfit\u001b[0m\u001b[0;34m(\u001b[0m \u001b[0mX\u001b[0m\u001b[0;34m,\u001b[0m \u001b[0my\u001b[0m \u001b[0;34m)\u001b[0m\u001b[0;34m\u001b[0m\u001b[0;34m\u001b[0m\u001b[0m\n\u001b[0m\u001b[1;32m     17\u001b[0m     \u001b[0;32mreturn\u001b[0m \u001b[0mclassifier\u001b[0m\u001b[0;34m\u001b[0m\u001b[0;34m\u001b[0m\u001b[0m\n\u001b[1;32m     18\u001b[0m \u001b[0;34m\u001b[0m\u001b[0m\n",
      "\u001b[0;32m~/anaconda3/lib/python3.7/site-packages/sklearn/linear_model/logistic.py\u001b[0m in \u001b[0;36mfit\u001b[0;34m(self, X, y, sample_weight)\u001b[0m\n\u001b[1;32m   1358\u001b[0m                       \u001b[0mmax_squared_sum\u001b[0m\u001b[0;34m=\u001b[0m\u001b[0mmax_squared_sum\u001b[0m\u001b[0;34m,\u001b[0m\u001b[0;34m\u001b[0m\u001b[0;34m\u001b[0m\u001b[0m\n\u001b[1;32m   1359\u001b[0m                       sample_weight=sample_weight)\n\u001b[0;32m-> 1360\u001b[0;31m             for class_, warm_start_coef_ in zip(classes_, warm_start_coef))\n\u001b[0m\u001b[1;32m   1361\u001b[0m \u001b[0;34m\u001b[0m\u001b[0m\n\u001b[1;32m   1362\u001b[0m         \u001b[0mfold_coefs_\u001b[0m\u001b[0;34m,\u001b[0m \u001b[0m_\u001b[0m\u001b[0;34m,\u001b[0m \u001b[0mn_iter_\u001b[0m \u001b[0;34m=\u001b[0m \u001b[0mzip\u001b[0m\u001b[0;34m(\u001b[0m\u001b[0;34m*\u001b[0m\u001b[0mfold_coefs_\u001b[0m\u001b[0;34m)\u001b[0m\u001b[0;34m\u001b[0m\u001b[0;34m\u001b[0m\u001b[0m\n",
      "\u001b[0;32m~/anaconda3/lib/python3.7/site-packages/sklearn/externals/joblib/parallel.py\u001b[0m in \u001b[0;36m__call__\u001b[0;34m(self, iterable)\u001b[0m\n\u001b[1;32m    915\u001b[0m             \u001b[0;31m# remaining jobs.\u001b[0m\u001b[0;34m\u001b[0m\u001b[0;34m\u001b[0m\u001b[0;34m\u001b[0m\u001b[0m\n\u001b[1;32m    916\u001b[0m             \u001b[0mself\u001b[0m\u001b[0;34m.\u001b[0m\u001b[0m_iterating\u001b[0m \u001b[0;34m=\u001b[0m \u001b[0;32mFalse\u001b[0m\u001b[0;34m\u001b[0m\u001b[0;34m\u001b[0m\u001b[0m\n\u001b[0;32m--> 917\u001b[0;31m             \u001b[0;32mif\u001b[0m \u001b[0mself\u001b[0m\u001b[0;34m.\u001b[0m\u001b[0mdispatch_one_batch\u001b[0m\u001b[0;34m(\u001b[0m\u001b[0miterator\u001b[0m\u001b[0;34m)\u001b[0m\u001b[0;34m:\u001b[0m\u001b[0;34m\u001b[0m\u001b[0;34m\u001b[0m\u001b[0m\n\u001b[0m\u001b[1;32m    918\u001b[0m                 \u001b[0mself\u001b[0m\u001b[0;34m.\u001b[0m\u001b[0m_iterating\u001b[0m \u001b[0;34m=\u001b[0m \u001b[0mself\u001b[0m\u001b[0;34m.\u001b[0m\u001b[0m_original_iterator\u001b[0m \u001b[0;32mis\u001b[0m \u001b[0;32mnot\u001b[0m \u001b[0;32mNone\u001b[0m\u001b[0;34m\u001b[0m\u001b[0;34m\u001b[0m\u001b[0m\n\u001b[1;32m    919\u001b[0m \u001b[0;34m\u001b[0m\u001b[0m\n",
      "\u001b[0;32m~/anaconda3/lib/python3.7/site-packages/sklearn/externals/joblib/parallel.py\u001b[0m in \u001b[0;36mdispatch_one_batch\u001b[0;34m(self, iterator)\u001b[0m\n\u001b[1;32m    757\u001b[0m                 \u001b[0;32mreturn\u001b[0m \u001b[0;32mFalse\u001b[0m\u001b[0;34m\u001b[0m\u001b[0;34m\u001b[0m\u001b[0m\n\u001b[1;32m    758\u001b[0m             \u001b[0;32melse\u001b[0m\u001b[0;34m:\u001b[0m\u001b[0;34m\u001b[0m\u001b[0;34m\u001b[0m\u001b[0m\n\u001b[0;32m--> 759\u001b[0;31m                 \u001b[0mself\u001b[0m\u001b[0;34m.\u001b[0m\u001b[0m_dispatch\u001b[0m\u001b[0;34m(\u001b[0m\u001b[0mtasks\u001b[0m\u001b[0;34m)\u001b[0m\u001b[0;34m\u001b[0m\u001b[0;34m\u001b[0m\u001b[0m\n\u001b[0m\u001b[1;32m    760\u001b[0m                 \u001b[0;32mreturn\u001b[0m \u001b[0;32mTrue\u001b[0m\u001b[0;34m\u001b[0m\u001b[0;34m\u001b[0m\u001b[0m\n\u001b[1;32m    761\u001b[0m \u001b[0;34m\u001b[0m\u001b[0m\n",
      "\u001b[0;32m~/anaconda3/lib/python3.7/site-packages/sklearn/externals/joblib/parallel.py\u001b[0m in \u001b[0;36m_dispatch\u001b[0;34m(self, batch)\u001b[0m\n\u001b[1;32m    714\u001b[0m         \u001b[0;32mwith\u001b[0m \u001b[0mself\u001b[0m\u001b[0;34m.\u001b[0m\u001b[0m_lock\u001b[0m\u001b[0;34m:\u001b[0m\u001b[0;34m\u001b[0m\u001b[0;34m\u001b[0m\u001b[0m\n\u001b[1;32m    715\u001b[0m             \u001b[0mjob_idx\u001b[0m \u001b[0;34m=\u001b[0m \u001b[0mlen\u001b[0m\u001b[0;34m(\u001b[0m\u001b[0mself\u001b[0m\u001b[0;34m.\u001b[0m\u001b[0m_jobs\u001b[0m\u001b[0;34m)\u001b[0m\u001b[0;34m\u001b[0m\u001b[0;34m\u001b[0m\u001b[0m\n\u001b[0;32m--> 716\u001b[0;31m             \u001b[0mjob\u001b[0m \u001b[0;34m=\u001b[0m \u001b[0mself\u001b[0m\u001b[0;34m.\u001b[0m\u001b[0m_backend\u001b[0m\u001b[0;34m.\u001b[0m\u001b[0mapply_async\u001b[0m\u001b[0;34m(\u001b[0m\u001b[0mbatch\u001b[0m\u001b[0;34m,\u001b[0m \u001b[0mcallback\u001b[0m\u001b[0;34m=\u001b[0m\u001b[0mcb\u001b[0m\u001b[0;34m)\u001b[0m\u001b[0;34m\u001b[0m\u001b[0;34m\u001b[0m\u001b[0m\n\u001b[0m\u001b[1;32m    717\u001b[0m             \u001b[0;31m# A job can complete so quickly than its callback is\u001b[0m\u001b[0;34m\u001b[0m\u001b[0;34m\u001b[0m\u001b[0;34m\u001b[0m\u001b[0m\n\u001b[1;32m    718\u001b[0m             \u001b[0;31m# called before we get here, causing self._jobs to\u001b[0m\u001b[0;34m\u001b[0m\u001b[0;34m\u001b[0m\u001b[0;34m\u001b[0m\u001b[0m\n",
      "\u001b[0;32m~/anaconda3/lib/python3.7/site-packages/sklearn/externals/joblib/_parallel_backends.py\u001b[0m in \u001b[0;36mapply_async\u001b[0;34m(self, func, callback)\u001b[0m\n\u001b[1;32m    180\u001b[0m     \u001b[0;32mdef\u001b[0m \u001b[0mapply_async\u001b[0m\u001b[0;34m(\u001b[0m\u001b[0mself\u001b[0m\u001b[0;34m,\u001b[0m \u001b[0mfunc\u001b[0m\u001b[0;34m,\u001b[0m \u001b[0mcallback\u001b[0m\u001b[0;34m=\u001b[0m\u001b[0;32mNone\u001b[0m\u001b[0;34m)\u001b[0m\u001b[0;34m:\u001b[0m\u001b[0;34m\u001b[0m\u001b[0;34m\u001b[0m\u001b[0m\n\u001b[1;32m    181\u001b[0m         \u001b[0;34m\"\"\"Schedule a func to be run\"\"\"\u001b[0m\u001b[0;34m\u001b[0m\u001b[0;34m\u001b[0m\u001b[0m\n\u001b[0;32m--> 182\u001b[0;31m         \u001b[0mresult\u001b[0m \u001b[0;34m=\u001b[0m \u001b[0mImmediateResult\u001b[0m\u001b[0;34m(\u001b[0m\u001b[0mfunc\u001b[0m\u001b[0;34m)\u001b[0m\u001b[0;34m\u001b[0m\u001b[0;34m\u001b[0m\u001b[0m\n\u001b[0m\u001b[1;32m    183\u001b[0m         \u001b[0;32mif\u001b[0m \u001b[0mcallback\u001b[0m\u001b[0;34m:\u001b[0m\u001b[0;34m\u001b[0m\u001b[0;34m\u001b[0m\u001b[0m\n\u001b[1;32m    184\u001b[0m             \u001b[0mcallback\u001b[0m\u001b[0;34m(\u001b[0m\u001b[0mresult\u001b[0m\u001b[0;34m)\u001b[0m\u001b[0;34m\u001b[0m\u001b[0;34m\u001b[0m\u001b[0m\n",
      "\u001b[0;32m~/anaconda3/lib/python3.7/site-packages/sklearn/externals/joblib/_parallel_backends.py\u001b[0m in \u001b[0;36m__init__\u001b[0;34m(self, batch)\u001b[0m\n\u001b[1;32m    547\u001b[0m         \u001b[0;31m# Don't delay the application, to avoid keeping the input\u001b[0m\u001b[0;34m\u001b[0m\u001b[0;34m\u001b[0m\u001b[0;34m\u001b[0m\u001b[0m\n\u001b[1;32m    548\u001b[0m         \u001b[0;31m# arguments in memory\u001b[0m\u001b[0;34m\u001b[0m\u001b[0;34m\u001b[0m\u001b[0;34m\u001b[0m\u001b[0m\n\u001b[0;32m--> 549\u001b[0;31m         \u001b[0mself\u001b[0m\u001b[0;34m.\u001b[0m\u001b[0mresults\u001b[0m \u001b[0;34m=\u001b[0m \u001b[0mbatch\u001b[0m\u001b[0;34m(\u001b[0m\u001b[0;34m)\u001b[0m\u001b[0;34m\u001b[0m\u001b[0;34m\u001b[0m\u001b[0m\n\u001b[0m\u001b[1;32m    550\u001b[0m \u001b[0;34m\u001b[0m\u001b[0m\n\u001b[1;32m    551\u001b[0m     \u001b[0;32mdef\u001b[0m \u001b[0mget\u001b[0m\u001b[0;34m(\u001b[0m\u001b[0mself\u001b[0m\u001b[0;34m)\u001b[0m\u001b[0;34m:\u001b[0m\u001b[0;34m\u001b[0m\u001b[0;34m\u001b[0m\u001b[0m\n",
      "\u001b[0;32m~/anaconda3/lib/python3.7/site-packages/sklearn/externals/joblib/parallel.py\u001b[0m in \u001b[0;36m__call__\u001b[0;34m(self)\u001b[0m\n\u001b[1;32m    223\u001b[0m         \u001b[0;32mwith\u001b[0m \u001b[0mparallel_backend\u001b[0m\u001b[0;34m(\u001b[0m\u001b[0mself\u001b[0m\u001b[0;34m.\u001b[0m\u001b[0m_backend\u001b[0m\u001b[0;34m,\u001b[0m \u001b[0mn_jobs\u001b[0m\u001b[0;34m=\u001b[0m\u001b[0mself\u001b[0m\u001b[0;34m.\u001b[0m\u001b[0m_n_jobs\u001b[0m\u001b[0;34m)\u001b[0m\u001b[0;34m:\u001b[0m\u001b[0;34m\u001b[0m\u001b[0;34m\u001b[0m\u001b[0m\n\u001b[1;32m    224\u001b[0m             return [func(*args, **kwargs)\n\u001b[0;32m--> 225\u001b[0;31m                     for func, args, kwargs in self.items]\n\u001b[0m\u001b[1;32m    226\u001b[0m \u001b[0;34m\u001b[0m\u001b[0m\n\u001b[1;32m    227\u001b[0m     \u001b[0;32mdef\u001b[0m \u001b[0m__len__\u001b[0m\u001b[0;34m(\u001b[0m\u001b[0mself\u001b[0m\u001b[0;34m)\u001b[0m\u001b[0;34m:\u001b[0m\u001b[0;34m\u001b[0m\u001b[0;34m\u001b[0m\u001b[0m\n",
      "\u001b[0;32m~/anaconda3/lib/python3.7/site-packages/sklearn/externals/joblib/parallel.py\u001b[0m in \u001b[0;36m<listcomp>\u001b[0;34m(.0)\u001b[0m\n\u001b[1;32m    223\u001b[0m         \u001b[0;32mwith\u001b[0m \u001b[0mparallel_backend\u001b[0m\u001b[0;34m(\u001b[0m\u001b[0mself\u001b[0m\u001b[0;34m.\u001b[0m\u001b[0m_backend\u001b[0m\u001b[0;34m,\u001b[0m \u001b[0mn_jobs\u001b[0m\u001b[0;34m=\u001b[0m\u001b[0mself\u001b[0m\u001b[0;34m.\u001b[0m\u001b[0m_n_jobs\u001b[0m\u001b[0;34m)\u001b[0m\u001b[0;34m:\u001b[0m\u001b[0;34m\u001b[0m\u001b[0;34m\u001b[0m\u001b[0m\n\u001b[1;32m    224\u001b[0m             return [func(*args, **kwargs)\n\u001b[0;32m--> 225\u001b[0;31m                     for func, args, kwargs in self.items]\n\u001b[0m\u001b[1;32m    226\u001b[0m \u001b[0;34m\u001b[0m\u001b[0m\n\u001b[1;32m    227\u001b[0m     \u001b[0;32mdef\u001b[0m \u001b[0m__len__\u001b[0m\u001b[0;34m(\u001b[0m\u001b[0mself\u001b[0m\u001b[0;34m)\u001b[0m\u001b[0;34m:\u001b[0m\u001b[0;34m\u001b[0m\u001b[0;34m\u001b[0m\u001b[0m\n",
      "\u001b[0;32m~/anaconda3/lib/python3.7/site-packages/sklearn/linear_model/logistic.py\u001b[0m in \u001b[0;36mlogistic_regression_path\u001b[0;34m(X, y, pos_class, Cs, fit_intercept, max_iter, tol, verbose, solver, coef, class_weight, dual, penalty, intercept_scaling, multi_class, random_state, check_input, max_squared_sum, sample_weight)\u001b[0m\n\u001b[1;32m    790\u001b[0m                 \u001b[0mbeta\u001b[0m\u001b[0;34m,\u001b[0m \u001b[0mmax_iter\u001b[0m\u001b[0;34m,\u001b[0m \u001b[0mtol\u001b[0m\u001b[0;34m,\u001b[0m\u001b[0;34m\u001b[0m\u001b[0;34m\u001b[0m\u001b[0m\n\u001b[1;32m    791\u001b[0m                 \u001b[0mverbose\u001b[0m\u001b[0;34m,\u001b[0m \u001b[0mrandom_state\u001b[0m\u001b[0;34m,\u001b[0m \u001b[0;32mFalse\u001b[0m\u001b[0;34m,\u001b[0m \u001b[0mmax_squared_sum\u001b[0m\u001b[0;34m,\u001b[0m \u001b[0mwarm_start_sag\u001b[0m\u001b[0;34m,\u001b[0m\u001b[0;34m\u001b[0m\u001b[0;34m\u001b[0m\u001b[0m\n\u001b[0;32m--> 792\u001b[0;31m                 is_saga=(solver == 'saga'))\n\u001b[0m\u001b[1;32m    793\u001b[0m \u001b[0;34m\u001b[0m\u001b[0m\n\u001b[1;32m    794\u001b[0m         \u001b[0;32melse\u001b[0m\u001b[0;34m:\u001b[0m\u001b[0;34m\u001b[0m\u001b[0;34m\u001b[0m\u001b[0m\n",
      "\u001b[0;32m~/anaconda3/lib/python3.7/site-packages/sklearn/linear_model/sag.py\u001b[0m in \u001b[0;36msag_solver\u001b[0;34m(X, y, sample_weight, loss, alpha, beta, max_iter, tol, verbose, random_state, check_input, max_squared_sum, warm_start_mem, is_saga)\u001b[0m\n\u001b[1;32m    329\u001b[0m                             \u001b[0mintercept_decay\u001b[0m\u001b[0;34m,\u001b[0m\u001b[0;34m\u001b[0m\u001b[0;34m\u001b[0m\u001b[0m\n\u001b[1;32m    330\u001b[0m                             \u001b[0mis_saga\u001b[0m\u001b[0;34m,\u001b[0m\u001b[0;34m\u001b[0m\u001b[0;34m\u001b[0m\u001b[0m\n\u001b[0;32m--> 331\u001b[0;31m                             verbose)\n\u001b[0m\u001b[1;32m    332\u001b[0m     \u001b[0;32mif\u001b[0m \u001b[0mn_iter_\u001b[0m \u001b[0;34m==\u001b[0m \u001b[0mmax_iter\u001b[0m\u001b[0;34m:\u001b[0m\u001b[0;34m\u001b[0m\u001b[0;34m\u001b[0m\u001b[0m\n\u001b[1;32m    333\u001b[0m         warnings.warn(\"The max_iter was reached which means \"\n",
      "\u001b[0;31mKeyboardInterrupt\u001b[0m: "
     ]
    }
   ],
   "source": [
    "train_acc_uni, test_acc_uni, tune_param, clf_name = tune_clf(X_train, y_train, X_test, y_test, classifier=\"logreg\" )\n",
    "plot_tune_clf( train_acc_uni, test_acc_uni, tune_param, clf_name )"
   ]
  },
  {
   "cell_type": "markdown",
   "metadata": {},
   "source": [
    "### 3. Clustering"
   ]
  },
  {
   "cell_type": "markdown",
   "metadata": {},
   "source": [
    "#### 3a. Data preparation"
   ]
  },
  {
   "cell_type": "code",
   "execution_count": 213,
   "metadata": {},
   "outputs": [
    {
     "data": {
      "text/plain": [
       "100"
      ]
     },
     "execution_count": 213,
     "metadata": {},
     "output_type": "execute_result"
    }
   ],
   "source": [
    "authormovements_df=pd.read_pickle(\"../2_Preprocessing/processeddata/df_pickle_movements/movements_df.pickle\")\n",
    "\n",
    "# let's randomly extract 10 authors and their movements\n",
    "authormovements_df10 = authormovements_df.sample(n=100)\n",
    "\n",
    "# let's get their filenames\n",
    "datapath = \"../2_Preprocessing/processeddata/df_pickles/{}_df.pickle\"\n",
    "df_filenames=[datapath.format(authornum) for authornum in authormovements_df10.index]\n",
    "len(df_filenames)"
   ]
  },
  {
   "cell_type": "code",
   "execution_count": 214,
   "metadata": {},
   "outputs": [
    {
     "name": "stdout",
     "output_type": "stream",
     "text": [
      "110 \n",
      " {'historical novel', 'romantic fiction', 'medicine', 'realist literature', 'literary nonsense', 'journalism', 'naturalism', 'murder mystery', 'didactic poetry', 'crime fiction', 'anthologies', 'travel', 'socialist realism', 'natural history', \"children's literature\", 'fantasy literature', 'renaissance humanism', 'supernatural fiction', 'hellenistic literature', 'science fiction', 'english literature', 'adventure', 'time travel', 'history', 'mystery fiction', 'lds fiction', 'drama', 'mathematical logic', 'golden age of detective fiction', 'augustan literature', 'sword and planet', 'symbolism', 'dark fantasy', 'detective fiction', 'the song fishermen', 'planetary romance', 'sturm und drang', 'paranoid fiction', 'social sf', 'western', 'age of enlightenment', 'romanticism', 'new age', 'romance novel', 'soft science fiction', 'space opera', 'mystery', 'voting theory', 'lost world', 'short story', 'philosophical fiction', 'weird fiction', 'lyric poetry', 'scientific romance', 'augustan poetry', 'boxing', 'satire', 'elegy', 'contextual modernism', 'spanish golden age', 'manchester school', 'gothic romance', 'horror fiction', 'epic poetry', 'sword and sorcery', 'american modernism', 'comic books', \"children's fiction\", 'science', 'essays', 'victorian literature', 'romance fiction', 'hard sf', 'gothic fiction', 'fantasy', 'television', 'confederation poets', 'screenwriting', 'adventure novel', 'pastoral poetry', 'weimar classicism', 'western fiction', 'film', 'non-fiction', 'poetry', 'modernist poetry', 'paranormal', 'american literature', 'literary realism', 'the club', 'kailyard school', 'thriller', 'middle platonism', 'historical fiction', 'romantic novel', 'imagism', 'postmodernism', 'travel literature', 'decadent movement', 'picaresque', 'fiction', 'realism', 'modernism', 'linear algebra', 'literary criticism', 'modernist poetry in english', 'golden age of science fiction', 'fantasy fiction', 'romanticism in science', 'american literary regionalism'}\n"
     ]
    }
   ],
   "source": [
    "# count unique literary movements\n",
    "movements = []\n",
    "for row in authormovements_df10[\"literarymovements\"]:\n",
    "    movements.extend([i for i in row])\n",
    "    \n",
    "movements = set(movements)\n",
    "print(len(movements), \"\\n\", movements)\n"
   ]
  },
  {
   "cell_type": "code",
   "execution_count": 215,
   "metadata": {},
   "outputs": [
    {
     "name": "stdout",
     "output_type": "stream",
     "text": [
      "train size: (12102, 33), test size: (3079, 33)\n"
     ]
    }
   ],
   "source": [
    "# let's get their features\n",
    "\n",
    "##### Preliminaries #####\n",
    "\n",
    "# 1a. lists for collecting all the df objects to be generated for pd.concat - speediest approach \n",
    "# https://stackoverflow.com/questions/10715965/add-one-row-to-pandas-dataframe/24913075#24913075\n",
    "dfs_list_train = [] \n",
    "dfs_list_test = []\n",
    "\n",
    "\n",
    "# 1b. store author-label mapping\n",
    "label2auth_map = {}\n",
    "auth2label_map = {}\n",
    "\n",
    "\n",
    "##### Processing #####\n",
    "# 2. generate the master DF\n",
    "label_counter = 1\n",
    "for filename in df_filenames: \n",
    "    __ = pd.read_pickle(filename)\n",
    "     \n",
    "    authornum = __[\"authornum\"][0]                             # get the authornum for this df   \n",
    "                                \n",
    "    label2auth_map[label_counter] = authornum                  # switch the authornum to int, store the mapping\n",
    "    auth2label_map[authornum] = label_counter\n",
    "    __[\"authornum\"] = label_counter\n",
    "    \n",
    "    __ = __[__[\"sent_length\"]>10]                               # filter out short sentences\n",
    "    __[\"concreteness\"] = __[\"concreteness\"].astype(float)       # we set the concreteness score as a string \n",
    "                                                                # to run the process_one_author functions easily\n",
    "                                                                # switch back to int here\n",
    "    # get the subjectivity score for the author. \n",
    "    s_score = get_subjectivity(__[\"tokens\"].values,subj_dict)[1]\n",
    "    # add as a new column to this df\n",
    "    __[\"subjectivity\"]=s_score\n",
    "    \n",
    "\n",
    "    # train test split \n",
    "    __train, __test = train_test_split(__, test_size=0.20)\n",
    "    dfs_list_train.append(__train)\n",
    "    dfs_list_test.append(__test)\n",
    "    \n",
    "    label_counter += 1\n",
    "    \n",
    "_10author_df_train = pd.concat(dfs_list_train, axis=0)\n",
    "_10author_df_test = pd.concat(dfs_list_test, axis=0)\n",
    "_10author_df_train.reset_index(drop= True, inplace=True)\n",
    "_10author_df_test.reset_index(drop= True, inplace=True)\n",
    "\n",
    "print(\"train size: {}, test size: {}\".format(_10author_df_train.shape, _10author_df_test.shape))"
   ]
  },
  {
   "cell_type": "code",
   "execution_count": 216,
   "metadata": {},
   "outputs": [],
   "source": [
    "__features = {\"lemmas\": \n",
    "                  {\"train\": _10author_df_train[\"lemmas\"],\n",
    "                    \"test\": _10author_df_test[\"lemmas\"],},\n",
    "              \"namedentities\": \n",
    "                  {\"train\": _10author_df_train['ne_dates']+_10author_df_train['ne_places'],\n",
    "                   \"test\": _10author_df_test['ne_dates']+_10author_df_test['ne_places'],}, }\n",
    "                # add the ne_dates and ne_places columns for the vectoriser to manage sparsity. leave out \n",
    "                # persons for now, it is possible person names can significantly identify authors (except \n",
    "                # perhaps authors) \n",
    "                          \n",
    "for feat in __features:\n",
    "    # train data - generate DictCounts\n",
    "    token_Counters_train = []\n",
    "    for row in __features[feat][\"train\"].index:\n",
    "        token_Counters_train.append(collections.Counter(__features[feat][\"train\"][row]))\n",
    "    \n",
    "    # test data - generate DictCounts\n",
    "    token_Counters_test = []\n",
    "    for row in __features[feat][\"test\"].index:\n",
    "        token_Counters_test.append(collections.Counter(__features[feat][\"test\"][row]))\n",
    "    \n",
    "    # transforming test set based on the train set fit \n",
    "    # pass the DictCounts into DictVectorizer() \n",
    "    Dvectoriser = DictVectorizer()\n",
    "    Dvect_result_train = Dvectoriser.fit_transform(token_Counters_train)\n",
    "    Dvect_result_test = Dvectoriser.transform(token_Counters_test)\n",
    "\n",
    "    Ttransformer = TfidfTransformer()\n",
    "    Ttrans_results_train = Ttransformer.fit_transform(Dvect_result_train)\n",
    "    Ttrans_results_test = Ttransformer.transform(Dvect_result_test)\n",
    "    \n",
    "    # write to SVM\n",
    "    dump_svmlight_file(Ttrans_results_train, _10author_df_train[\"authornum\"], \"data/clustering/train_\"+feat+\".svmlight\")\n",
    "    dump_svmlight_file(Ttrans_results_test, _10author_df_test[\"authornum\"], \"data/clustering/test_\"+feat+\".svmlight\")\n",
    "    \n",
    "__other_features=['concreteness', 'subjectivity', \"parse_VP\"]\n",
    "for feat in __other_features:\n",
    "    # .reshapes since we are working with single feature sets each time \n",
    "    dump_svmlight_file(_10author_df_train[feat].values.reshape(-1,1),\n",
    "                       _10author_df_train[\"authornum\"], \"data/clustering/train_\"+feat+\".svmlight\")\n",
    "    dump_svmlight_file(_10author_df_test[feat].values.reshape(-1,1), \n",
    "                       _10author_df_test[\"authornum\"], \"data/clustering/test_\"+feat+\".svmlight\")        "
   ]
  },
  {
   "cell_type": "code",
   "execution_count": 217,
   "metadata": {},
   "outputs": [],
   "source": [
    "def stack( A, B ):\n",
    "    return hstack( [A,B] )\n",
    "\n",
    "X_tr_lemmas, y_train, X_te_lemmas, y_test = load_data( \"./data/clustering\", features='lemmas')\n",
    "X_tr_concreteness, y_train, X_te_concreteness, y_test = load_data( \"./data/clustering\", features='concreteness')\n",
    "X_tr_namedentities, y_train, X_te_namedentities, y_test = load_data( \"./data/clustering\", features='namedentities')\n",
    "X_tr_parse_VP, y_train, X_te_parse_VP, y_test = load_data( \"./data/clustering\", features='parse_VP')\n",
    "X_tr_subjectivity, y_train, X_te_subjectivity, y_test = load_data( \"./data/clustering\", features='subjectivity')\n",
    "\n",
    "X_train = hstack( [X_tr_subjectivity, X_tr_lemmas,X_tr_namedentities, X_tr_parse_VP] )\n",
    "X_test = hstack( [X_te_subjectivity, X_te_lemmas, X_te_namedentities, X_te_parse_VP] )"
   ]
  },
  {
   "cell_type": "code",
   "execution_count": 218,
   "metadata": {},
   "outputs": [
    {
     "data": {
      "text/plain": [
       "(12102, 24519)"
      ]
     },
     "execution_count": 218,
     "metadata": {},
     "output_type": "execute_result"
    }
   ],
   "source": [
    "X_train.shape"
   ]
  },
  {
   "cell_type": "code",
   "execution_count": 219,
   "metadata": {},
   "outputs": [
    {
     "data": {
      "text/plain": [
       "(3079, 24519)"
      ]
     },
     "execution_count": 219,
     "metadata": {},
     "output_type": "execute_result"
    }
   ],
   "source": [
    "X_test.shape"
   ]
  },
  {
   "cell_type": "markdown",
   "metadata": {},
   "source": [
    "##### 3b. Spectral clustering\n",
    "\n",
    "Spectral clustering provides the most robust performance across different types of [clustering patterns](https://scikit-learn.org/stable/auto_examples/cluster/plot_cluster_comparison.html#sphx-glr-auto-examples-cluster-plot-cluster-comparison-py), since we have not been able to dimension reduce meaningfully to plot the distribution of our data (down to 2 or 3 principal component that have substantial explained variance), we don't have a clear idea of the distribution. So we pick spectral clustering as a start. "
   ]
  },
  {
   "cell_type": "code",
   "execution_count": 220,
   "metadata": {},
   "outputs": [
    {
     "name": "stderr",
     "output_type": "stream",
     "text": [
      "/Users/k1000mbp/anaconda3/lib/python3.7/site-packages/sklearn/cluster/spectral.py:268: ConvergenceWarning: Number of distinct clusters (2) found smaller than n_clusters (10). Possibly due to duplicate points in X.\n",
      "  n_init=n_init)\n"
     ]
    }
   ],
   "source": [
    "spec_clust = SpectralClustering(n_clusters=10, n_init=10,n_neighbors=1)\n",
    "spec_clust.fit(X_train)\n",
    "y_train_pred = spec_clust.labels_"
   ]
  },
  {
   "cell_type": "code",
   "execution_count": 221,
   "metadata": {},
   "outputs": [
    {
     "data": {
      "text/plain": [
       "<matplotlib.collections.PathCollection at 0x1a1cf7f1d0>"
      ]
     },
     "execution_count": 221,
     "metadata": {},
     "output_type": "execute_result"
    },
    {
     "data": {
      "image/png": "[encoded data removed]",
      "text/plain": [
       "<Figure size 432x288 with 1 Axes>"
      ]
     },
     "metadata": {
      "needs_background": "light"
     },
     "output_type": "display_data"
    }
   ],
   "source": [
    "plt.scatter(X_train.toarray()[:, 0], X_train.toarray()[:, 1], s=10)"
   ]
  },
  {
   "cell_type": "code",
   "execution_count": null,
   "metadata": {},
   "outputs": [],
   "source": []
  }
 ],
 "metadata": {
  "kernelspec": {
   "display_name": "Python 3",
   "language": "python",
   "name": "python3"
  },
  "language_info": {
   "codemirror_mode": {
    "name": "ipython",
    "version": 3
   },
   "file_extension": ".py",
   "mimetype": "text/x-python",
   "name": "python",
   "nbconvert_exporter": "python",
   "pygments_lexer": "ipython3",
   "version": "3.7.1"
  }
 },
 "nbformat": 4,
 "nbformat_minor": 2
}
