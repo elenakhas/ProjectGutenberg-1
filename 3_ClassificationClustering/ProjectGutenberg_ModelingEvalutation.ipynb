{
 "cells": [
  {
   "cell_type": "markdown",
   "metadata": {},
   "source": [
    "# Classification and Clustering"
   ]
  },
  {
   "cell_type": "code",
   "execution_count": 2,
   "metadata": {},
   "outputs": [],
   "source": [
    "# ! pip install pyamg #pyamg for efficient solving for spectral clustering\n",
    "\n",
    "import numpy as np\n",
    "import pandas as pd\n",
    "import matplotlib.pyplot as plt\n",
    "import seaborn as sns \n",
    "import collections, re, string, glob, collections, pickle, os\n",
    "from sklearn.model_selection import train_test_split, cross_val_score\n",
    "from sklearn.datasets import dump_svmlight_file, load_svmlight_file\n",
    "from sklearn.feature_extraction.text import TfidfTransformer\n",
    "from sklearn.feature_extraction import DictVectorizer\n",
    "from sklearn.decomposition import NMF, TruncatedSVD\n",
    "from sklearn.linear_model import LogisticRegression, LogisticRegressionCV\n",
    "from sklearn.cluster import SpectralClustering\n",
    "from sklearn.naive_bayes import MultinomialNB\n",
    "from sklearn.preprocessing import MaxAbsScaler\n",
    "from sklearn import metrics\n",
    "from scipy.sparse import hstack\n",
    "from imblearn import over_sampling\n",
    "\n",
    "import utils_vectoriser"
   ]
  },
  {
   "cell_type": "code",
   "execution_count": null,
   "metadata": {},
   "outputs": [],
   "source": [
    "## TO DO:\n",
    "# 1. pipeline the feature set generation process - separate .py \n",
    "\n",
    "# 2. pipeline the model training and eval process  - separate .py \n",
    "\n",
    "# 3. tune clustering first so that we get meaningful cluster results on the test set. Use cluster able to augment \n",
    "# training of classifier. Meaningful evaluation of clusters include author's literary movements, but this is multilabel \n",
    "# for each author, need to understand how to meaningful compare that with cluster labels. Current idea: vectorise the \n",
    "# literary movements labels - which will give some similiarity matrix across all authors, based on their membership \n",
    "# in the literary movement tag. Use this to to evaluate cluster labels. Will need to figure out logic of doing so, \n",
    "# possibility and mechanics of this "
   ]
  },
  {
   "cell_type": "markdown",
   "metadata": {},
   "source": [
    "### Initial results\n",
    "\n",
    "##### Clustering\n",
    "|Run   \t|Classifier   \t|Featureset   \t|train acc   \t|test acc   \t|alpha/C   \t|\n",
    "|---\t|---\t|---\t|---\t|---\t|---\t|\n",
    "|1   \t|LogReg - baseline   \t|1sent: lemmas,    \t|0.78   \t|0.35   \t|1   \t|\n",
    "|1a   \t|M_NB   \t|1sent: lemmas,    \t|0.93   \t|0.27   \t|0.1   \t|\n",
    "|1b   \t|LogReg, OVR, L2   \t|1sent: lemmas   \t|not converging   \t|-   \t|-   \t|\n",
    "|2  \t|LogReg - baseline   \t|1sent: lemmas, parse_VP, subjectivity    \t|0.83   \t|0.35   \t|1   \t|\n",
    "|2b   \t|M_NB   \t|1sent: lemmas, parse_VP, subjectivity    \t|99.43.893   \t|27.52   \t|0.0   \t|\n",
    "|2a   \t|LogReg, OVR, L2   \t|1sent: lemmas, parse_VP, subjectivity   \t|not converging   \t|-   \t|-   \t|\n",
    "|3   \t|LogReg, OVR, L1, with MaxAbsScaler   \t|1sent: lemmas   \t|0.99  \t|0.39   \t|1   \t|\n",
    "|4   \t|LogRegCV, OVR, L2 no MaxAbsScaler   \t|5sent: subj, filteredtokens, parse_VP, no TSVD   \t|0.97   \t|0.12   \t|1   \t|\n",
    "|5   \t|LogRegCV, OVR, L2 no MaxAbsScaler   \t|5sent: subj, filteredtokens, parse_VP, book_ners, no TSVD   \t|0.97   \t|0.19   \t|1   \t|\n",
    "|6   \t|LogRegCV, OVR, L2 with MaxAbsScaler   \t|5sent: subj, filteredtokens, parse_VP, book_ners, no TSVD   \t|0.97   \t|0.047   \t|1   \t|\n",
    "|7   \t|LogRegCV, OVR, L2 no MaxAbsScaler   \t|5sent: subj, filteredtokens, parse_VP, book_ners, TSVD1000   \t|0.97   \t|0.16   \t|1   \t|"
   ]
  },
  {
   "cell_type": "markdown",
   "metadata": {},
   "source": [
    "It appears our dataset is not structured in a manner that allows us to predict author identities with high accuracy on the test set. We began with 1 sentence per author as an instance and the result (accurary of under 0.4, or worse than chance) and was not promising. We tried generating instances of larger sizes (3 and 5 sentences) within the constraints of the corpus, but the accuracy on test data worsened. \n",
    "\n",
    "We think some factors include: \n",
    "1. initially, our instances (due to initial collection architecture decisions) in the corpus relates to 1 sentence from an author's book. our randomised approach in selection of the sentences in part 1 and 2 means we cannot find sequential sentences to concat - this will be the most sound. (our subsequent experiments - runs 4 onwards - with concatenated sentences supports the initial hypothesis that randomly joining sentences would introduce noise to the data)\n",
    "2. limitation to Naive Bayes and Logistic Regression classifiers; other ensemble methods (RandomForest and Decision Trees), as well as non-linear vector models (SVM) may perform (slightly?) better. \n",
    "3. small to medium-sized datasets with sparse structures for large to very large multi-class prediction problems is a bad combination. it twins an increase in the complexity of the learning task with limited learning examples. \n",
    "\n",
    "\n",
    "__Exploration stuff__\n",
    "Since our tests so far have poor accuracy results. We will require a fundamental review of the data collection structure (number of sentences, how books and sentences were selected). \n",
    "1. regenerate dataset to group larger n sentences from an author's book, in order to make every instance larger\n",
    "2. ngrams - especially with instances with larger n x sentences - better capture contextual information \n",
    "3. imbalearn upsampling - probably less useful since the bulk of our train set is balanced across classes.\n",
    "4. tuning TFIDF levels - setting different norms (probably less useful)\n",
    "\n",
    "__Bells and whistles__\n",
    "1. pipeline to save models, capture featuresets used and results \n",
    "\n",
    "##### Clustering\n",
    "We thought to implement spectral clustering as a baseline since it [appears](https://scikit-learn.org/stable/modules/clustering.html#) to generalise well over different data distributions. We started with 10 authors with 19 distinct literary movements, but the clustering was not meaningful. When reduced to 3 principal compnents with Truncated SVD for visualisation, we observe two broad clusters that come together for an hourglass-ish form. One of the main clusters is significantly dense, which potentially involve sub-clusters embedded within it. We will need to study and explore other clustering algorithms that would better handle this distribution. Finally, we also face a problem with cluster evaluation since the labels we expect to measure them by are multilabels.  \n",
    "\n",
    "##### Salient points: \n",
    "1. making sure smooth_idf=True (default value) in TfidfTransformer, so that we don't end up with probabilities of 0\n",
    "2. only generalised linear models (i.e. logreg and SVM linear) take negative values. consider this in featureset selection architecture when creating pipeline. negative values not possible for naive bayes (since negative priors impossible)\n",
    "- to use our concreteness score in naive bayes which is based on a 0-centred scale, we will probably need to countvectorise (for each of the instance in the corpus, with the words in the concreteness dataset as the vocab). - this is probably a bad idea for this task - it will be adding another very sparse matrix to the featureset. \n",
    "- scaling sparse data with MaxAbsScaler\n",
    "- TruncatedSVD instead of PCA for sparse matrices"
   ]
  },
  {
   "cell_type": "markdown",
   "metadata": {},
   "source": [
    "### 1. Create training and evaluation sets"
   ]
  },
  {
   "cell_type": "markdown",
   "metadata": {},
   "source": [
    "#### 1a. Corollary: Computing a subjectivity score"
   ]
  },
  {
   "cell_type": "markdown",
   "metadata": {},
   "source": [
    "We have access to a set of [subjectivity classification for about 8,200 English words](https://gitlab.inria.fr/mastertal/UE803/blob/master/data/l10_data/subjectivity_clues_hltemnlp05/subjclueslen1-HLTEMNLP05.README). We hypothesize that an average subjectivity score can help to further distinguish between authors. \n",
    "Our datapoints are however single sentences from at least 3 books of an author, and it is not sensible to compute the score for every sentence as there can be significant variability for such a score between an author's ouevre. Instead we compute the score based on the entire set of the author's sentences admitted into our corpus. \n",
    "\n",
    "We hypothesize that ideally, it will be better to compute the score based on each set of sentences from a single book of one author. This could provide a better predictor of an author's identity, by capturing a certain understanding about the subjectivity, and variability of the subjectivity, of his/her body of work. "
   ]
  },
  {
   "cell_type": "code",
   "execution_count": 3,
   "metadata": {},
   "outputs": [],
   "source": [
    "with open(\"../2_Preprocessing/supportdata/SubjectivityClues/data_l10_data_subjectivity_clues_hltemnlp05_subjclueslen1-HLTEMNLP05.tff\", \n",
    "          \"r\") as file:\n",
    "    subjectivityclues_all = file.read()\n",
    "    \n",
    "subj_scores = [1 if i == \"type=weaksubj\" else 2 for i in re.findall(r\"type=[a-z]+\", subjectivityclues_all)]\n",
    "# encoding 1 and 2, since the classes are ordinal - \"weaksubj\" and \"strongsubj\"\n",
    "subj_words = [i.lstrip(\"word1=\") for i in re.findall(r\"word1=[a-z]+\", subjectivityclues_all)]\n",
    "subj_pos = [i.lstrip(\"pos1=\") for i in re.findall(r\"pos1=[a-z]+\", subjectivityclues_all)]\n",
    "# side note on pos and stemming: the dataset does not use the UD POS tags, so we cannot map the tokens more precisely\n",
    "# based on the POS tag we have for the corpus tokens. also, the Wilson et al 2005 data include whether the words were \n",
    "# stemmed (i.e. usable on our lemmas sets), but it numbers only 1620, out of 8222 words, or less than 20%. so we \n",
    "# should compute our subjectivity score using our tokens set instead of lemmas\n",
    "\n",
    "subj_trip_info = [i for i in zip(subj_scores, subj_pos)]\n",
    "__dictcombined = {subj_words[index]: subj_trip_info[index] for index in range(len(subj_words))}\n",
    "# there are 5 words that have zero length and it is throwing an error in the filtering.\n",
    "# also pointless to have a score for an empty string in the computation of the subjectivity score. \n",
    "# it might have come about at the re.findall level, but the empty word issue still persists\n",
    "# after adding A-Z and 1-9 to the search pattern. \n",
    "__dictcombined_filter = {i: __dictcombined[i] for i in __dictcombined if len(i) > 0}\n",
    "\n",
    "# sort into a dictionary to speed search time \n",
    "subj_dict = {}\n",
    "for letter in string.ascii_lowercase: \n",
    "    subj_dict[letter] = {key:__dictcombined_filter[key] for key in __dictcombined_filter if key[0] == letter}\n",
    "    "
   ]
  },
  {
   "cell_type": "code",
   "execution_count": 4,
   "metadata": {},
   "outputs": [],
   "source": [
    "def get_subjectivity(spacysentdoc, subj_dict):\n",
    "    '''given a spacysentdoc, or a np array of strings (tokens of a sentence), returns the subjectivity\n",
    "    score for the sentence. The score is the sum of the score for tokens that can be \n",
    "    found in the http://crr.ugent.be/archives/1330 dataset. \n",
    "    Inputs: spacysentdoc\n",
    "    Outputs: a tuple containing the function name and the result. result is an integer rounded to 3 dp \n",
    "    and converted to a string\n",
    "    ''' \n",
    "    if type(spacysentdoc) == np.ndarray: \n",
    "        s_score = 0\n",
    "        for sentence in spacysentdoc: \n",
    "            for token in sentence:\n",
    "                try:\n",
    "                    # using first letter of token, go to sub-dict of subj_dict\n",
    "                    # if the token is one of the values of the sub-dict\n",
    "                    # retrive the subjectivity score\n",
    "                    if token in subj_dict[token[0]].keys():\n",
    "                        s_score += int(subj_dict[token[0]][token][0])\n",
    "                except: \n",
    "                    pass\n",
    "        # the score is averaged across the number of tokens across the entire corpus/doc\n",
    "        # it gives an indication of the usage of subjectivity words in writing style\n",
    "        return \"subjectivity\", round(s_score/len(spacysentdoc), 3)\n",
    "    else: \n",
    "        # condition for code extension to cover spacysentdoc (for alignment to insert into utils_tokeniser.py)\n",
    "        pass\n",
    "    "
   ]
  },
  {
   "cell_type": "markdown",
   "metadata": {},
   "source": [
    "#### 1b. Importing pickled DFs, train-test split"
   ]
  },
  {
   "cell_type": "markdown",
   "metadata": {},
   "source": [
    "__General approach__\n",
    "\n",
    "1. iteratively load author pickled dfs, filter out sentences that are less than 10 tokens long (between the 25th and 50th percentile for sentence length across the entire corpus of all authors)\n",
    "    - (since our dataset is built on one sentence per author, we drop sentences to avoid the possibility of an extremely sparse matrix. the short sentences would provide limited linguistics indicators (expressed through word freqency counts, ) to distinguish between authors. \n",
    "    - plus we already have sent_length and a high-level overview of a sentence's constituency structure as features\n",
    "    - add author wiki abstract NERs\n",
    "2. cut into train test split on each load (to ensure each author is evenly represented in the train and test sets)\n",
    "3. concat train at end, concat test at end\n",
    "4. fit tfidf on train (so as not to leak test data into train), transform on train and test\n",
    "5. cut into sets of features\n",
    "6. export to svm light "
   ]
  },
  {
   "cell_type": "markdown",
   "metadata": {},
   "source": [
    "__Data integrity checkpoint__\n",
    "\n",
    "We could not complete preprocessing for 3 authors admitted into the corpus by Phase 1. An issue with the contents of their sentences is causing the constituency parser to break. "
   ]
  },
  {
   "cell_type": "code",
   "execution_count": 5,
   "metadata": {},
   "outputs": [
    {
     "name": "stdout",
     "output_type": "stream",
     "text": [
      "train size: (13837, 33), test size: (3518, 33)\n"
     ]
    }
   ],
   "source": [
    "# set global variables\n",
    "FEATURESET_CLASS = \"1_sent\"\n",
    "\n",
    "##### Preliminaries #####\n",
    "# 0. grab all the pickled df files\n",
    "df_filenames = glob.glob(\"../2_Preprocessing/processeddata/df_pickles/{}/*.pickle\".format(FEATURESET_CLASS))\n",
    "\n",
    "# 1a. lists for collecting all the df objects to be generated for pd.concat - speediest approach \n",
    "# https://stackoverflow.com/questions/10715965/add-one-row-to-pandas-dataframe/24913075#24913075\n",
    "dfs_list_train = [] \n",
    "dfs_list_test = []\n",
    "\n",
    "\n",
    "# 1b. store author-label mapping\n",
    "label2auth_map = {}\n",
    "auth2label_map = {}\n",
    "\n",
    "\n",
    "##### Processing #####\n",
    "# 2. generate the master DF\n",
    "label_counter = 1\n",
    "for filename in df_filenames: \n",
    "    __ = pd.read_pickle(filename)\n",
    "     \n",
    "    authornum = __[\"authornum\"][0]                             # get the authornum for this df   \n",
    "                                \n",
    "    label2auth_map[label_counter] = authornum                  # switch the authornum to int, store the mapping\n",
    "    auth2label_map[authornum] = label_counter\n",
    "    __[\"authornum\"] = label_counter\n",
    "    \n",
    "    __ = __[__[\"sent_length\"]>10]                               # - filter out short sentences\n",
    "    __[\"concreteness\"] = __[\"concreteness\"].astype(float)       # - we set the concreteness score as a string in order\n",
    "                                                                # to run the process_one_author functions easily\n",
    "                                                                # switching back to int here\n",
    "    # get the subjectivity score for the author. \n",
    "    s_score = get_subjectivity(__[\"tokens\"].values,subj_dict)[1]\n",
    "    # add as a new column to this df\n",
    "    __[\"subjectivity\"]=s_score\n",
    "    \n",
    "\n",
    "    # train test split \n",
    "    __train, __test = train_test_split(__, test_size=0.20)\n",
    "    dfs_list_train.append(__train)\n",
    "    dfs_list_test.append(__test)\n",
    "    \n",
    "    label_counter += 1\n",
    "    \n",
    "allauthor_df_train = pd.concat(dfs_list_train, axis=0)\n",
    "allauthor_df_test = pd.concat(dfs_list_test, axis=0)\n",
    "allauthor_df_train.reset_index(drop= True, inplace=True)\n",
    "allauthor_df_test.reset_index(drop= True, inplace=True)\n",
    "\n",
    "print(\"train size: {}, test size: {}\".format(allauthor_df_train.shape, allauthor_df_test.shape))"
   ]
  },
  {
   "cell_type": "code",
   "execution_count": 6,
   "metadata": {},
   "outputs": [
    {
     "data": {
      "text/html": [
       "<div>\n",
       "<style scoped>\n",
       "    .dataframe tbody tr th:only-of-type {\n",
       "        vertical-align: middle;\n",
       "    }\n",
       "\n",
       "    .dataframe tbody tr th {\n",
       "        vertical-align: top;\n",
       "    }\n",
       "\n",
       "    .dataframe thead th {\n",
       "        text-align: right;\n",
       "    }\n",
       "</style>\n",
       "<table border=\"1\" class=\"dataframe\">\n",
       "  <thead>\n",
       "    <tr style=\"text-align: right;\">\n",
       "      <th></th>\n",
       "      <th>authornum</th>\n",
       "      <th>concreteness</th>\n",
       "      <th>parse_NP</th>\n",
       "      <th>parse_S</th>\n",
       "      <th>parse_VP</th>\n",
       "      <th>pos_ADJ</th>\n",
       "      <th>pos_ADP</th>\n",
       "      <th>pos_ADV</th>\n",
       "      <th>pos_AUX</th>\n",
       "      <th>pos_CCONJ</th>\n",
       "      <th>...</th>\n",
       "      <th>pos_PRON</th>\n",
       "      <th>pos_PROPN</th>\n",
       "      <th>pos_PUNCT</th>\n",
       "      <th>pos_SCONJ</th>\n",
       "      <th>pos_SPACE</th>\n",
       "      <th>pos_SYM</th>\n",
       "      <th>pos_VERB</th>\n",
       "      <th>pos_X</th>\n",
       "      <th>sent_length</th>\n",
       "      <th>subjectivity</th>\n",
       "    </tr>\n",
       "  </thead>\n",
       "  <tbody>\n",
       "    <tr>\n",
       "      <th>count</th>\n",
       "      <td>3518.000000</td>\n",
       "      <td>3518.000000</td>\n",
       "      <td>3518.000000</td>\n",
       "      <td>3518.000000</td>\n",
       "      <td>3518.000000</td>\n",
       "      <td>3518.000000</td>\n",
       "      <td>3518.000000</td>\n",
       "      <td>3518.000000</td>\n",
       "      <td>3518.0</td>\n",
       "      <td>3518.000000</td>\n",
       "      <td>...</td>\n",
       "      <td>3518.000000</td>\n",
       "      <td>3518.000000</td>\n",
       "      <td>3518.000000</td>\n",
       "      <td>3518.0</td>\n",
       "      <td>3518.000000</td>\n",
       "      <td>3518.000000</td>\n",
       "      <td>3518.000000</td>\n",
       "      <td>3518.000000</td>\n",
       "      <td>3518.000000</td>\n",
       "      <td>3518.000000</td>\n",
       "    </tr>\n",
       "    <tr>\n",
       "      <th>mean</th>\n",
       "      <td>57.490335</td>\n",
       "      <td>-0.169150</td>\n",
       "      <td>9.507106</td>\n",
       "      <td>3.596077</td>\n",
       "      <td>5.405344</td>\n",
       "      <td>2.986356</td>\n",
       "      <td>3.713189</td>\n",
       "      <td>1.852473</td>\n",
       "      <td>0.0</td>\n",
       "      <td>1.196987</td>\n",
       "      <td>...</td>\n",
       "      <td>1.864696</td>\n",
       "      <td>1.144116</td>\n",
       "      <td>4.023309</td>\n",
       "      <td>0.0</td>\n",
       "      <td>0.360432</td>\n",
       "      <td>0.004548</td>\n",
       "      <td>4.998294</td>\n",
       "      <td>0.010802</td>\n",
       "      <td>27.053439</td>\n",
       "      <td>5.833819</td>\n",
       "    </tr>\n",
       "    <tr>\n",
       "      <th>std</th>\n",
       "      <td>33.208405</td>\n",
       "      <td>6.555305</td>\n",
       "      <td>6.959923</td>\n",
       "      <td>2.517554</td>\n",
       "      <td>3.897171</td>\n",
       "      <td>2.970586</td>\n",
       "      <td>3.391756</td>\n",
       "      <td>1.893259</td>\n",
       "      <td>0.0</td>\n",
       "      <td>1.383160</td>\n",
       "      <td>...</td>\n",
       "      <td>1.781942</td>\n",
       "      <td>2.837156</td>\n",
       "      <td>3.561159</td>\n",
       "      <td>0.0</td>\n",
       "      <td>1.299698</td>\n",
       "      <td>0.106549</td>\n",
       "      <td>3.438480</td>\n",
       "      <td>0.161375</td>\n",
       "      <td>19.705768</td>\n",
       "      <td>1.710686</td>\n",
       "    </tr>\n",
       "    <tr>\n",
       "      <th>min</th>\n",
       "      <td>1.000000</td>\n",
       "      <td>-92.840000</td>\n",
       "      <td>0.000000</td>\n",
       "      <td>0.000000</td>\n",
       "      <td>0.000000</td>\n",
       "      <td>0.000000</td>\n",
       "      <td>0.000000</td>\n",
       "      <td>0.000000</td>\n",
       "      <td>0.0</td>\n",
       "      <td>0.000000</td>\n",
       "      <td>...</td>\n",
       "      <td>0.000000</td>\n",
       "      <td>0.000000</td>\n",
       "      <td>0.000000</td>\n",
       "      <td>0.0</td>\n",
       "      <td>0.000000</td>\n",
       "      <td>0.000000</td>\n",
       "      <td>0.000000</td>\n",
       "      <td>0.000000</td>\n",
       "      <td>11.000000</td>\n",
       "      <td>2.491000</td>\n",
       "    </tr>\n",
       "    <tr>\n",
       "      <th>25%</th>\n",
       "      <td>28.000000</td>\n",
       "      <td>-3.460000</td>\n",
       "      <td>5.000000</td>\n",
       "      <td>2.000000</td>\n",
       "      <td>3.000000</td>\n",
       "      <td>1.000000</td>\n",
       "      <td>2.000000</td>\n",
       "      <td>1.000000</td>\n",
       "      <td>0.0</td>\n",
       "      <td>0.000000</td>\n",
       "      <td>...</td>\n",
       "      <td>1.000000</td>\n",
       "      <td>0.000000</td>\n",
       "      <td>2.000000</td>\n",
       "      <td>0.0</td>\n",
       "      <td>0.000000</td>\n",
       "      <td>0.000000</td>\n",
       "      <td>3.000000</td>\n",
       "      <td>0.000000</td>\n",
       "      <td>16.000000</td>\n",
       "      <td>4.379000</td>\n",
       "    </tr>\n",
       "    <tr>\n",
       "      <th>50%</th>\n",
       "      <td>58.000000</td>\n",
       "      <td>0.030000</td>\n",
       "      <td>8.000000</td>\n",
       "      <td>3.000000</td>\n",
       "      <td>5.000000</td>\n",
       "      <td>2.000000</td>\n",
       "      <td>3.000000</td>\n",
       "      <td>1.000000</td>\n",
       "      <td>0.0</td>\n",
       "      <td>1.000000</td>\n",
       "      <td>...</td>\n",
       "      <td>1.000000</td>\n",
       "      <td>0.000000</td>\n",
       "      <td>3.000000</td>\n",
       "      <td>0.0</td>\n",
       "      <td>0.000000</td>\n",
       "      <td>0.000000</td>\n",
       "      <td>4.000000</td>\n",
       "      <td>0.000000</td>\n",
       "      <td>22.000000</td>\n",
       "      <td>5.764000</td>\n",
       "    </tr>\n",
       "    <tr>\n",
       "      <th>75%</th>\n",
       "      <td>86.000000</td>\n",
       "      <td>3.360000</td>\n",
       "      <td>12.000000</td>\n",
       "      <td>5.000000</td>\n",
       "      <td>7.000000</td>\n",
       "      <td>4.000000</td>\n",
       "      <td>5.000000</td>\n",
       "      <td>3.000000</td>\n",
       "      <td>0.0</td>\n",
       "      <td>2.000000</td>\n",
       "      <td>...</td>\n",
       "      <td>3.000000</td>\n",
       "      <td>2.000000</td>\n",
       "      <td>5.000000</td>\n",
       "      <td>0.0</td>\n",
       "      <td>0.000000</td>\n",
       "      <td>0.000000</td>\n",
       "      <td>6.000000</td>\n",
       "      <td>0.000000</td>\n",
       "      <td>32.000000</td>\n",
       "      <td>6.790000</td>\n",
       "    </tr>\n",
       "    <tr>\n",
       "      <th>max</th>\n",
       "      <td>115.000000</td>\n",
       "      <td>61.820000</td>\n",
       "      <td>92.000000</td>\n",
       "      <td>27.000000</td>\n",
       "      <td>41.000000</td>\n",
       "      <td>45.000000</td>\n",
       "      <td>66.000000</td>\n",
       "      <td>19.000000</td>\n",
       "      <td>0.0</td>\n",
       "      <td>12.000000</td>\n",
       "      <td>...</td>\n",
       "      <td>17.000000</td>\n",
       "      <td>128.000000</td>\n",
       "      <td>107.000000</td>\n",
       "      <td>0.0</td>\n",
       "      <td>26.000000</td>\n",
       "      <td>5.000000</td>\n",
       "      <td>40.000000</td>\n",
       "      <td>6.000000</td>\n",
       "      <td>443.000000</td>\n",
       "      <td>11.402000</td>\n",
       "    </tr>\n",
       "  </tbody>\n",
       "</table>\n",
       "<p>8 rows × 26 columns</p>\n",
       "</div>"
      ],
      "text/plain": [
       "         authornum  concreteness     parse_NP      parse_S     parse_VP  \\\n",
       "count  3518.000000   3518.000000  3518.000000  3518.000000  3518.000000   \n",
       "mean     57.490335     -0.169150     9.507106     3.596077     5.405344   \n",
       "std      33.208405      6.555305     6.959923     2.517554     3.897171   \n",
       "min       1.000000    -92.840000     0.000000     0.000000     0.000000   \n",
       "25%      28.000000     -3.460000     5.000000     2.000000     3.000000   \n",
       "50%      58.000000      0.030000     8.000000     3.000000     5.000000   \n",
       "75%      86.000000      3.360000    12.000000     5.000000     7.000000   \n",
       "max     115.000000     61.820000    92.000000    27.000000    41.000000   \n",
       "\n",
       "           pos_ADJ      pos_ADP      pos_ADV  pos_AUX    pos_CCONJ  \\\n",
       "count  3518.000000  3518.000000  3518.000000   3518.0  3518.000000   \n",
       "mean      2.986356     3.713189     1.852473      0.0     1.196987   \n",
       "std       2.970586     3.391756     1.893259      0.0     1.383160   \n",
       "min       0.000000     0.000000     0.000000      0.0     0.000000   \n",
       "25%       1.000000     2.000000     1.000000      0.0     0.000000   \n",
       "50%       2.000000     3.000000     1.000000      0.0     1.000000   \n",
       "75%       4.000000     5.000000     3.000000      0.0     2.000000   \n",
       "max      45.000000    66.000000    19.000000      0.0    12.000000   \n",
       "\n",
       "           ...          pos_PRON    pos_PROPN    pos_PUNCT  pos_SCONJ  \\\n",
       "count      ...       3518.000000  3518.000000  3518.000000     3518.0   \n",
       "mean       ...          1.864696     1.144116     4.023309        0.0   \n",
       "std        ...          1.781942     2.837156     3.561159        0.0   \n",
       "min        ...          0.000000     0.000000     0.000000        0.0   \n",
       "25%        ...          1.000000     0.000000     2.000000        0.0   \n",
       "50%        ...          1.000000     0.000000     3.000000        0.0   \n",
       "75%        ...          3.000000     2.000000     5.000000        0.0   \n",
       "max        ...         17.000000   128.000000   107.000000        0.0   \n",
       "\n",
       "         pos_SPACE      pos_SYM     pos_VERB        pos_X  sent_length  \\\n",
       "count  3518.000000  3518.000000  3518.000000  3518.000000  3518.000000   \n",
       "mean      0.360432     0.004548     4.998294     0.010802    27.053439   \n",
       "std       1.299698     0.106549     3.438480     0.161375    19.705768   \n",
       "min       0.000000     0.000000     0.000000     0.000000    11.000000   \n",
       "25%       0.000000     0.000000     3.000000     0.000000    16.000000   \n",
       "50%       0.000000     0.000000     4.000000     0.000000    22.000000   \n",
       "75%       0.000000     0.000000     6.000000     0.000000    32.000000   \n",
       "max      26.000000     5.000000    40.000000     6.000000   443.000000   \n",
       "\n",
       "       subjectivity  \n",
       "count   3518.000000  \n",
       "mean       5.833819  \n",
       "std        1.710686  \n",
       "min        2.491000  \n",
       "25%        4.379000  \n",
       "50%        5.764000  \n",
       "75%        6.790000  \n",
       "max       11.402000  \n",
       "\n",
       "[8 rows x 26 columns]"
      ]
     },
     "execution_count": 6,
     "metadata": {},
     "output_type": "execute_result"
    }
   ],
   "source": [
    "# overview stats\n",
    "allauthor_df_test.describe()"
   ]
  },
  {
   "cell_type": "code",
   "execution_count": 7,
   "metadata": {},
   "outputs": [],
   "source": [
    "# generate a new column with each row containing only tokens that have POS of NOUN, VERB, ADJ or ADV\n",
    "pos_to_keep = [\"NOUN\", \"VERB\", \"ADJ\" or \"ADV\"]\n",
    "allauthor_df_train[\"filteredtokens\"] = allauthor_df_train[\"poswordpairs\"].apply(lambda x: [i[1] for i in x if i[0] in pos_to_keep])\n",
    "allauthor_df_test[\"filteredtokens\"] = allauthor_df_test[\"poswordpairs\"].apply(lambda x: [i[1] for i in x if i[0] in pos_to_keep])\n"
   ]
  },
  {
   "cell_type": "code",
   "execution_count": 8,
   "metadata": {},
   "outputs": [
    {
     "name": "stdout",
     "output_type": "stream",
     "text": [
      "<class 'pandas.core.frame.DataFrame'>\n",
      "RangeIndex: 3518 entries, 0 to 3517\n",
      "Data columns (total 34 columns):\n",
      "authornum         3518 non-null int64\n",
      "concreteness      3518 non-null float64\n",
      "lemmas            3518 non-null object\n",
      "ne_dates          3518 non-null object\n",
      "ne_persons        3518 non-null object\n",
      "ne_places         3518 non-null object\n",
      "parse_NP          3518 non-null int64\n",
      "parse_S           3518 non-null int64\n",
      "parse_VP          3518 non-null int64\n",
      "pos_ADJ           3518 non-null int64\n",
      "pos_ADP           3518 non-null int64\n",
      "pos_ADV           3518 non-null int64\n",
      "pos_AUX           3518 non-null int64\n",
      "pos_CCONJ         3518 non-null int64\n",
      "pos_CONJ          3518 non-null int64\n",
      "pos_DET           3518 non-null int64\n",
      "pos_INTJ          3518 non-null int64\n",
      "pos_NOUN          3518 non-null int64\n",
      "pos_NUM           3518 non-null int64\n",
      "pos_PART          3518 non-null int64\n",
      "pos_PRON          3518 non-null int64\n",
      "pos_PROPN         3518 non-null int64\n",
      "pos_PUNCT         3518 non-null int64\n",
      "pos_SCONJ         3518 non-null int64\n",
      "pos_SPACE         3518 non-null int64\n",
      "pos_SYM           3518 non-null int64\n",
      "pos_VERB          3518 non-null int64\n",
      "pos_X             3518 non-null int64\n",
      "poswordpairs      3518 non-null object\n",
      "sentences         3518 non-null object\n",
      "tokens            3518 non-null object\n",
      "sent_length       3518 non-null int64\n",
      "subjectivity      3518 non-null float64\n",
      "filteredtokens    3518 non-null object\n",
      "dtypes: float64(2), int64(24), object(8)\n",
      "memory usage: 934.5+ KB\n"
     ]
    }
   ],
   "source": [
    "# check object types - ints/floats, categoricals etc\n",
    "allauthor_df_test.info()"
   ]
  },
  {
   "cell_type": "markdown",
   "metadata": {},
   "source": [
    "#### 1c. Exploring the dataset"
   ]
  },
  {
   "cell_type": "code",
   "execution_count": 9,
   "metadata": {},
   "outputs": [
    {
     "name": "stderr",
     "output_type": "stream",
     "text": [
      "/Users/k1000mbp/anaconda3/lib/python3.7/site-packages/scipy/stats/stats.py:1713: FutureWarning: Using a non-tuple sequence for multidimensional indexing is deprecated; use `arr[tuple(seq)]` instead of `arr[seq]`. In the future this will be interpreted as an array index, `arr[np.array(seq)]`, which will result either in an error or a different result.\n",
      "  return np.add.reduce(sorted[indexer] * weights, axis=axis) / sumval\n"
     ]
    },
    {
     "data": {
      "image/png": "[encoded data removed]",
      "text/plain": [
       "<Figure size 432x288 with 1 Axes>"
      ]
     },
     "metadata": {
      "needs_background": "light"
     },
     "output_type": "display_data"
    },
    {
     "data": {
      "image/png": "[encoded data removed]",
      "text/plain": [
       "<Figure size 432x288 with 1 Axes>"
      ]
     },
     "metadata": {
      "needs_background": "light"
     },
     "output_type": "display_data"
    },
    {
     "data": {
      "image/png": "[encoded data removed]",
      "text/plain": [
       "<Figure size 432x288 with 1 Axes>"
      ]
     },
     "metadata": {
      "needs_background": "light"
     },
     "output_type": "display_data"
    }
   ],
   "source": [
    "plt.subplot(2, 1, 2)\n",
    "# let's take a look at the population distribution, to see if we need to finetune the corpus or augment datapoints\n",
    "sns.distplot(allauthor_df_train.groupby(\"authornum\")[\"authornum\"].count())\n",
    "plt.show()\n",
    "# distribution of mean subjectivity score for each author's sentences  \n",
    "sns.distplot(allauthor_df_train.groupby([\"authornum\",\"subjectivity\"])[\"subjectivity\"].mean(), bins=20)\n",
    "plt.show()\n",
    "# distribution of mean concreteness score for each author's sentences  \n",
    "sns.distplot(allauthor_df_train.groupby([\"authornum\",\"concreteness\"])[\"concreteness\"].mean(), bins=20)\n",
    "plt.show()"
   ]
  },
  {
   "cell_type": "markdown",
   "metadata": {},
   "source": [
    "#### 1d. Vectorising lemmas and NERs"
   ]
  },
  {
   "cell_type": "markdown",
   "metadata": {},
   "source": [
    "Our custom vectoriser in utils_vectoriser.py is not appropriate for this task. It implements [tf-max]( https://nlp.stanford.edu/IR-book/html/htmledition/maximum-tf-normalization-1.html) which is useful when working with a set that has document level data. Our current tf-max code set-up is not useful for our featureset structure here (we have no way to normalise over the docset (a book of an author's)). Instead, we use sklearn's TfidTransformer with DictVectoriser, since we already have a set of tokens and lemmas from our earlier custom preprocessing. "
   ]
  },
  {
   "cell_type": "code",
   "execution_count": 10,
   "metadata": {},
   "outputs": [],
   "source": [
    "def make_featuresets(needvect_features, alreadyvect_features, task=\"\"):  \n",
    "    if not os.path.exists(\"data/{}/{}/\".format(FEATURESET_CLASS, task)):\n",
    "        os.makedirs(\"data/{}/{}/\".format(FEATURESET_CLASS, task))\n",
    "    for feat in needvect_features:\n",
    "\n",
    "        # train data - generate DictCounts\n",
    "        token_Counters_train = []\n",
    "        for row in needvect_features[feat][\"train\"].index:\n",
    "            token_Counters_train.append(collections.Counter(needvect_features[feat][\"train\"][row]))\n",
    "\n",
    "        # test data - generate DictCounts\n",
    "        token_Counters_test = []\n",
    "        for row in needvect_features[feat][\"test\"].index:\n",
    "            token_Counters_test.append(collections.Counter(needvect_features[feat][\"test\"][row]))\n",
    "\n",
    "        # transforming test set based on the train set fit \n",
    "        # pass the DictCounts into DictVectorizer() \n",
    "\n",
    "        Dvectoriser = DictVectorizer()\n",
    "        Dvect_result_train = Dvectoriser.fit_transform(token_Counters_train)\n",
    "        Dvect_result_test = Dvectoriser.transform(token_Counters_test)\n",
    "\n",
    "        Ttransformer = TfidfTransformer(smooth_idf=True) #\n",
    "        Ttrans_results_train = Ttransformer.fit_transform(Dvect_result_train)\n",
    "        Ttrans_results_test = Ttransformer.transform(Dvect_result_test)\n",
    "\n",
    "        # write to SVM\n",
    "        dump_svmlight_file(Ttrans_results_train, allauthor_df_train[\"authornum\"], \n",
    "                           \"data/{}/{}/train_{}\".format(FEATURESET_CLASS, task, feat)+\".svmlight\")\n",
    "        dump_svmlight_file(Ttrans_results_test, allauthor_df_test[\"authornum\"], \n",
    "                           \"data/{}/{}/test_{}\".format(FEATURESET_CLASS, task, feat)+\".svmlight\")\n",
    "    for feat in alreadyvect_features:\n",
    "        # .reshapes since we are working with single feature sets each time \n",
    "        dump_svmlight_file(allauthor_df_train[feat].values.reshape(-1,1),\n",
    "                           allauthor_df_train[\"authornum\"], \n",
    "                           \"data/{}/{}/train_{}\".format(FEATURESET_CLASS, task, feat)+\".svmlight\")\n",
    "        dump_svmlight_file(allauthor_df_test[feat].values.reshape(-1,1), \n",
    "                           allauthor_df_test[\"authornum\"], \n",
    "                           \"data/{}/{}/test_{}\".format(FEATURESET_CLASS, task, feat)+\".svmlight\")     "
   ]
  },
  {
   "cell_type": "code",
   "execution_count": 12,
   "metadata": {},
   "outputs": [],
   "source": [
    "# defining features and running make_featuresets\n",
    "needvect_features = {\"lemmas\": \n",
    "                  {\"train\": allauthor_df_train[\"tokens\"],\n",
    "                    \"test\": allauthor_df_test[\"tokens\"],},\n",
    "                \"namedentities\": \n",
    "                  {\"train\": allauthor_df_train['ne_dates']+allauthor_df_train['ne_places'],\n",
    "                   \"test\": allauthor_df_test['ne_dates']+allauthor_df_test['ne_places'],}, \n",
    "                \"filteredtokens\": \n",
    "                    {\"train\": allauthor_df_train['filteredtokens']+allauthor_df_train['filteredtokens'],\n",
    "                   \"test\": allauthor_df_test['filteredtokens']+allauthor_df_test['filteredtokens'],}}\n",
    "                # add the ne_dates and ne_places columns for the vectoriser to manage sparsity. leave out \n",
    "                # persons for now, it is possible person names can significantly identify authors (except \n",
    "                # perhaps authors) \n",
    "            \n",
    "alreadyvect_features=['concreteness', 'subjectivity', \"parse_VP\"]\n",
    "\n",
    "make_featuresets(needvect_features, alreadyvect_features, task=\"classification\")"
   ]
  },
  {
   "cell_type": "code",
   "execution_count": 13,
   "metadata": {},
   "outputs": [
    {
     "data": {
      "text/plain": [
       "Index(['authornum', 'concreteness', 'lemmas', 'ne_dates', 'ne_persons',\n",
       "       'ne_places', 'parse_NP', 'parse_S', 'parse_VP', 'pos_ADJ', 'pos_ADP',\n",
       "       'pos_ADV', 'pos_AUX', 'pos_CCONJ', 'pos_CONJ', 'pos_DET', 'pos_INTJ',\n",
       "       'pos_NOUN', 'pos_NUM', 'pos_PART', 'pos_PRON', 'pos_PROPN', 'pos_PUNCT',\n",
       "       'pos_SCONJ', 'pos_SPACE', 'pos_SYM', 'pos_VERB', 'pos_X',\n",
       "       'poswordpairs', 'sentences', 'tokens', 'sent_length', 'subjectivity',\n",
       "       'filteredtokens'],\n",
       "      dtype='object')"
      ]
     },
     "execution_count": 13,
     "metadata": {},
     "output_type": "execute_result"
    }
   ],
   "source": [
    "allauthor_df_train.columns"
   ]
  },
  {
   "cell_type": "markdown",
   "metadata": {},
   "source": [
    "### 2. Large multiclass classification "
   ]
  },
  {
   "cell_type": "markdown",
   "metadata": {},
   "source": [
    "#### 2a. Loading the featuresets and stacking them"
   ]
  },
  {
   "cell_type": "code",
   "execution_count": 14,
   "metadata": {},
   "outputs": [],
   "source": [
    "def load_data(FEATURESET_CLASS, data_path = \"./data/{}/{}/\", features='lemmas', task=\"\"):\n",
    "    '''\n",
    "    '''\n",
    "    X_train, y_train = load_svmlight_file( data_path.format(FEATURESET_CLASS, task)+'train_'+features+\".svmlight\" ) \n",
    "    X_test, y_test = load_svmlight_file( data_path.format(FEATURESET_CLASS, task)+'test_'+features+\".svmlight\", \n",
    "                                        n_features=X_train.shape[1] ) \n",
    "    # shape of test shouldn't matter here since we enforced it at the vectorising step above (otherwise feature \n",
    "    # and vocab won't match between train and test sets )\n",
    "    \n",
    "    return X_train, y_train, X_test, y_test"
   ]
  },
  {
   "cell_type": "code",
   "execution_count": 49,
   "metadata": {},
   "outputs": [],
   "source": [
    "def stack( A, B ):\n",
    "    return hstack( [A,B] )\n",
    "\n",
    "X_tr_lemmas, y_train, X_te_lemmas, y_test = load_data( FEATURESET_CLASS, \n",
    "                                                    features='lemmas', task=\"classification\")\n",
    "X_tr_concreteness, y_train, X_te_concreteness, y_test = load_data( FEATURESET_CLASS, \n",
    "                                                    features='concreteness', task=\"classification\")\n",
    "X_tr_namedentities, y_train, X_te_namedentities, y_test = load_data( FEATURESET_CLASS, \n",
    "                                                    features='namedentities', task=\"classification\")\n",
    "X_tr_parse_VP, y_train, X_te_parse_VP, y_test = load_data( FEATURESET_CLASS, \n",
    "                                                    features='parse_VP', task=\"classification\")\n",
    "X_tr_subjectivity, y_train, X_te_subjectivity, y_test = load_data( FEATURESET_CLASS, \n",
    "                                                    features='subjectivity', task=\"classification\")\n",
    "X_tr_filteredtokens, y_train, X_te_filteredtokens, y_test = load_data( FEATURESET_CLASS, \n",
    "                                                    features='filteredtokens', task=\"classification\")\n",
    "\n",
    "\n",
    "X_train = hstack( [ X_tr_lemmas, X_tr_parse_VP, X_tr_subjectivity] )\n",
    "X_test = hstack( [ X_te_lemmas, X_te_parse_VP, X_te_subjectivity] )"
   ]
  },
  {
   "cell_type": "markdown",
   "metadata": {},
   "source": [
    "#### 2b. Checking the features size and label distribution"
   ]
  },
  {
   "cell_type": "code",
   "execution_count": 50,
   "metadata": {},
   "outputs": [
    {
     "data": {
      "text/plain": [
       "(13837, 30307)"
      ]
     },
     "execution_count": 50,
     "metadata": {},
     "output_type": "execute_result"
    }
   ],
   "source": [
    "X_train.shape"
   ]
  },
  {
   "cell_type": "code",
   "execution_count": 51,
   "metadata": {},
   "outputs": [
    {
     "data": {
      "text/plain": [
       "(3518, 30307)"
      ]
     },
     "execution_count": 51,
     "metadata": {},
     "output_type": "execute_result"
    }
   ],
   "source": [
    "X_test.shape"
   ]
  },
  {
   "cell_type": "code",
   "execution_count": 44,
   "metadata": {},
   "outputs": [
    {
     "name": "stderr",
     "output_type": "stream",
     "text": [
      "/Users/k1000mbp/anaconda3/lib/python3.7/site-packages/scipy/stats/stats.py:1713: FutureWarning: Using a non-tuple sequence for multidimensional indexing is deprecated; use `arr[tuple(seq)]` instead of `arr[seq]`. In the future this will be interpreted as an array index, `arr[np.array(seq)]`, which will result either in an error or a different result.\n",
      "  return np.add.reduce(sorted[indexer] * weights, axis=axis) / sumval\n"
     ]
    },
    {
     "data": {
      "text/plain": [
       "<matplotlib.axes._subplots.AxesSubplot at 0x1a252750f0>"
      ]
     },
     "execution_count": 44,
     "metadata": {},
     "output_type": "execute_result"
    },
    {
     "data": {
      "image/png": "[encoded data removed]",
      "text/plain": [
       "<Figure size 432x288 with 1 Axes>"
      ]
     },
     "metadata": {
      "needs_background": "light"
     },
     "output_type": "display_data"
    }
   ],
   "source": [
    "# The distribution of lables in the train set is a little uneven - we could try SMOTE upsampling (since we don't have \n",
    "# a very large dataset, so downsampling could worsen the learning)\n",
    "sns.distplot(y_train)"
   ]
  },
  {
   "cell_type": "markdown",
   "metadata": {},
   "source": [
    "__A. Dimensionality reduction to explore the characteristics of the data.__\n",
    "\n",
    "We have a very sparse matrix of about 25,000 features. This is confusing the learning for the classifier, let's reduce dimensions to 5000, instead of 25,000, to see it's impact.  "
   ]
  },
  {
   "cell_type": "code",
   "execution_count": null,
   "metadata": {},
   "outputs": [],
   "source": [
    "# scale with MaxAbsScaler, to retain sparsity structure. Hopefully it will speed up computation for dim reduction. \n",
    "# Would allow us to include concreteness score (which has negative values) in the featureset, but need to investigate \n",
    "# (i) sensibility of our earlier centering of the concreteness score about -2.5 and 2.5. \n",
    "# And if so, does MaxAbsScale entirely negate that? If so, better to leave out concreteness score as a feature\n",
    "\n",
    "mas = MaxAbsScaler()\n",
    "mas.fit(X_train)\n",
    "X_train_mas = mas.transform(X_train)\n",
    "X_test_mas = mas.transform(X_test)"
   ]
  },
  {
   "cell_type": "code",
   "execution_count": null,
   "metadata": {},
   "outputs": [],
   "source": [
    "for n_components in [5,2500, 10000]:\n",
    "    TSVD_model = TruncatedSVD(n_components=n_components, random_state=1,)\n",
    "    X_train_TSVD_model = TSVD_model.fit(X_train)\n",
    "    print(\"The explained variance for TruncatedSVD with {} is {}\".format(n_components, sum(TSVD_model.explained_variance_ratio_)))"
   ]
  },
  {
   "cell_type": "code",
   "execution_count": null,
   "metadata": {},
   "outputs": [],
   "source": [
    "X_train_TSVD=X_train_TSVD_model.transform(X_train)\n",
    "X_test_TSVD=X_train_TSVD_model.transform(X_test)"
   ]
  },
  {
   "cell_type": "markdown",
   "metadata": {},
   "source": [
    "__B. Attempt at NMF to ensure non-negative values (which PCA allows)__\n",
    "\n",
    "Post-PCA, our train set contains negative values and MultinomialNB does not accept that (although, fine for LogReg since it's a linear model). "
   ]
  },
  {
   "cell_type": "code",
   "execution_count": null,
   "metadata": {},
   "outputs": [],
   "source": [
    "n_components = 5000\n",
    "nmf_model = NMF(n_components=n_components, init=\"nndsvdar\", random_state=1, beta_loss=\"frobenius\",\n",
    "          alpha=.5, l1_ratio=.5, ) \n",
    "# We hypothesise that there are a lot of unnnecessary features, so we start by setting \n",
    "# a higher alpha for stronger regularisation (drive the weight of the unnecessary features to zero).\n",
    "# We experiment with a 0.5 L1-L2 regularisation ratio. \n",
    "# nndsvdar for faster computation: too little RAM on our PCs :(\n",
    "\n",
    "X_train_NMF = nmf_model.fit_transform(X_train)\n",
    "X_test_NMF = nmf_model.transform(X_test)"
   ]
  },
  {
   "cell_type": "markdown",
   "metadata": {},
   "source": [
    "#### 2a. Preliminaries: LogReg baseline model"
   ]
  },
  {
   "cell_type": "code",
   "execution_count": 52,
   "metadata": {},
   "outputs": [
    {
     "name": "stderr",
     "output_type": "stream",
     "text": [
      "/Users/k1000mbp/anaconda3/lib/python3.7/site-packages/sklearn/linear_model/logistic.py:1297: UserWarning: 'n_jobs' > 1 does not have any effect when 'solver' is set to 'liblinear'. Got 'n_jobs' = 4.\n",
      "  \" = {}.\".format(effective_n_jobs(self.n_jobs)))\n"
     ]
    },
    {
     "data": {
      "text/plain": [
       "LogisticRegression(C=1.0, class_weight=None, dual=False, fit_intercept=True,\n",
       "          intercept_scaling=1, max_iter=100, multi_class='ovr', n_jobs=-1,\n",
       "          penalty='l2', random_state=None, solver='liblinear', tol=0.0001,\n",
       "          verbose=0, warm_start=False)"
      ]
     },
     "execution_count": 52,
     "metadata": {},
     "output_type": "execute_result"
    }
   ],
   "source": [
    "logmodel= LogisticRegression(solver=\"liblinear\", n_jobs=-1, multi_class=\"ovr\") \n",
    "#ovr since we have more than 100 classes, multinomial could be too heavy for our CPUs\n",
    "# plus we have more than 100 labels, so ovr probably predicts better\n",
    "# we pick saga since already truncated SVD to reduce dimensions and hopefully have dropped out \n",
    "# irrelevant features. saga is l2 regularisation-only, but we get n_jobs=-1. \n",
    "logmodel.fit(X_train, y_train,)"
   ]
  },
  {
   "cell_type": "code",
   "execution_count": 53,
   "metadata": {},
   "outputs": [
    {
     "name": "stdout",
     "output_type": "stream",
     "text": [
      "train acc: 0.8342848883428489\n"
     ]
    }
   ],
   "source": [
    "print(\"train acc:\", metrics.accuracy_score( y_train, logmodel.predict(X_train) ))"
   ]
  },
  {
   "cell_type": "code",
   "execution_count": 54,
   "metadata": {},
   "outputs": [
    {
     "name": "stdout",
     "output_type": "stream",
     "text": [
      "test acc: 0.35702103467879476\n"
     ]
    }
   ],
   "source": [
    "print(\"test acc:\", metrics.accuracy_score( y_test, logmodel.predict(X_test) ))"
   ]
  },
  {
   "cell_type": "code",
   "execution_count": 55,
   "metadata": {},
   "outputs": [
    {
     "data": {
      "text/plain": [
       "array([0.32314255, 0.33070584, 0.33079986, 0.34061931, 0.32733945])"
      ]
     },
     "execution_count": 55,
     "metadata": {},
     "output_type": "execute_result"
    }
   ],
   "source": [
    "cross_val_score(logmodel, X_train, y_train, cv = 5, n_jobs=-1)"
   ]
  },
  {
   "cell_type": "markdown",
   "metadata": {},
   "source": [
    "#### 2b. Classification models"
   ]
  },
  {
   "cell_type": "code",
   "execution_count": 68,
   "metadata": {},
   "outputs": [
    {
     "data": {
      "text/plain": [
       "array([ 0.63095734,  0.83176377,  1.0964782 ,  1.44543977,  1.90546072,\n",
       "        2.51188643,  3.31131121,  4.36515832,  5.75439937,  7.58577575,\n",
       "       10.        ])"
      ]
     },
     "execution_count": 68,
     "metadata": {},
     "output_type": "execute_result"
    }
   ],
   "source": [
    "np.logspace(-0.2, 1, 11)"
   ]
  },
  {
   "cell_type": "code",
   "execution_count": 69,
   "metadata": {},
   "outputs": [],
   "source": [
    "def train_clf( X, y, classifier='m_nb', tune_param = 1.0 ):\n",
    "    if classifier== 'm_nb':\n",
    "        classifier = MultinomialNB(alpha=tune_param, fit_prior=True, class_prior=None) \n",
    "        # Train \n",
    "        classifier.fit( X, y )\n",
    "    elif classifier== 'logreg':\n",
    "        classifier = LogisticRegression(C = tune_param, solver=\"saga\", \n",
    "                                        penalty='l2', multi_class=\"ovr\", n_jobs=-1) \n",
    "        # used l1 regularisation to drive weights of irrelevant features to zero (improve learning)\n",
    "        # saga solver chosen because it allows L1 reg as well as handle multinomial loss. bonus: allows \n",
    "        # parallel computation (but not relevant here since we are trying to use multinomial loss to improve \n",
    "        # the performance of the classifier over an OVR approach)\n",
    "        # https://scikit-learn.org/stable/modules/generated/sklearn.linear_model.LogisticRegression.html \n",
    "        \n",
    "        # Train \n",
    "        classifier.fit( X, y )\n",
    "    return classifier\n",
    "\n",
    "def evaluate( classifier, X, y ):\n",
    "    # Predict\n",
    "    y_pred = classifier.predict( X )\n",
    "    return y_pred \n",
    "\n",
    "def compute_acc(y_true, y_pred):\n",
    "    return metrics.accuracy_score( y_true, y_pred )\n",
    "\n",
    "def tune_clf(  X_train, y_train, X_test, y_test, classifier='m_nb' ):\n",
    "    train_acc, test_acc, tune_params, clf_name = [],[], [], classifier\n",
    "    if classifier=='m_nb': \n",
    "        for alpha in np.linspace(0,1,11):\n",
    "            alpha = round(alpha, 1)\n",
    "            tune_params.append(alpha)\n",
    "            clf = train_clf( X_train, y_train, classifier=classifier, tune_param=alpha )\n",
    "            #print(clf)\n",
    "            y_pred_train = evaluate( clf, X_train, y_train )\n",
    "            tr_acc = compute_acc(y_train, y_pred_train)\n",
    "            train_acc.append( tr_acc )\n",
    "\n",
    "            y_pred_test = evaluate( clf, X_test, y_test )\n",
    "            d_acc = compute_acc(y_test, y_pred_test)\n",
    "            test_acc.append( d_acc )\n",
    "            print( alpha, round( tr_acc*100, 3), round( d_acc*100, 3) )\n",
    "    \n",
    "    elif classifier== 'logreg': \n",
    "        for C in np.logspace(-1, 1, 11): # setting to between values of 0.1 and 10 since it wasn't converging earlier \n",
    "                                        # regularisation setting close to zero was too high\n",
    "            tune_params.append(C)\n",
    "            clf = train_clf( X_train, y_train, classifier=classifier, tune_param=C )\n",
    "            y_pred_train = evaluate( clf, X_train, y_train )\n",
    "            tr_acc = compute_acc(y_train, y_pred_train)\n",
    "            train_acc.append( tr_acc )\n",
    "\n",
    "            y_pred_test = evaluate( clf, X_test, y_test )\n",
    "            d_acc = compute_acc(y_test, y_pred_test)\n",
    "            test_acc.append( d_acc )\n",
    "            print( C, round( tr_acc*100, 3), round( d_acc*100, 3) )\n",
    "    return train_acc, test_acc, tune_params, clf\n",
    "\n",
    "def plot_tune_clf( train_acc, test_acc, tune_params, clf_name):    \n",
    "    fig = plt.figure()\n",
    "    ax = fig.add_axes([0.1,0.2,0.8,0.9] )\n",
    "    ax.plot( tune_params, train_acc, 'blue', label='train' )\n",
    "    ax.plot( tune_params, test_acc, 'red', label='test' )\n",
    "    plt.title(clf_name)\n",
    "    ax.legend()\n",
    "    ax.set_xlabel('Alpha')\n",
    "    ax.set_ylabel('Accuracy')"
   ]
  },
  {
   "cell_type": "markdown",
   "metadata": {},
   "source": [
    "#### 2c. Running the tests"
   ]
  },
  {
   "cell_type": "code",
   "execution_count": 70,
   "metadata": {},
   "outputs": [
    {
     "name": "stderr",
     "output_type": "stream",
     "text": [
      "/Users/k1000mbp/anaconda3/lib/python3.7/site-packages/sklearn/naive_bayes.py:480: UserWarning: alpha too small will result in numeric errors, setting alpha = 1.0e-10\n",
      "  'setting alpha = %.1e' % _ALPHA_MIN)\n"
     ]
    },
    {
     "name": "stdout",
     "output_type": "stream",
     "text": [
      "0.0 99.429 27.516\n",
      "0.1 38.787 9.21\n",
      "0.2 14.851 4.974\n",
      "0.3 8.268 3.525\n",
      "0.4 5.919 2.956\n",
      "0.5 4.777 2.7\n",
      "0.6 4.069 2.53\n",
      "0.7 3.635 2.445\n",
      "0.8 3.339 2.388\n",
      "0.9 3.064 2.189\n",
      "1.0 2.92 2.16\n"
     ]
    },
    {
     "data": {
      "image/png": "[encoded data removed]",
      "text/plain": [
       "<Figure size 432x288 with 1 Axes>"
      ]
     },
     "metadata": {
      "needs_background": "light"
     },
     "output_type": "display_data"
    }
   ],
   "source": [
    "train_acc_uni, test_acc_uni, tune_param, clf_name = tune_clf(X_train, y_train, X_test, y_test, classifier=\"m_nb\" )\n",
    "plot_tune_clf( train_acc_uni, test_acc_uni, tune_param, clf_name )"
   ]
  },
  {
   "cell_type": "code",
   "execution_count": 71,
   "metadata": {},
   "outputs": [
    {
     "name": "stderr",
     "output_type": "stream",
     "text": [
      "/Users/k1000mbp/anaconda3/lib/python3.7/site-packages/sklearn/linear_model/sag.py:334: ConvergenceWarning: The max_iter was reached which means the coef_ did not converge\n",
      "  \"the coef_ did not converge\", ConvergenceWarning)\n",
      "/Users/k1000mbp/anaconda3/lib/python3.7/site-packages/sklearn/linear_model/sag.py:334: ConvergenceWarning: The max_iter was reached which means the coef_ did not converge\n",
      "  \"the coef_ did not converge\", ConvergenceWarning)\n",
      "/Users/k1000mbp/anaconda3/lib/python3.7/site-packages/sklearn/linear_model/sag.py:334: ConvergenceWarning: The max_iter was reached which means the coef_ did not converge\n",
      "  \"the coef_ did not converge\", ConvergenceWarning)\n",
      "/Users/k1000mbp/anaconda3/lib/python3.7/site-packages/sklearn/linear_model/sag.py:334: ConvergenceWarning: The max_iter was reached which means the coef_ did not converge\n",
      "  \"the coef_ did not converge\", ConvergenceWarning)\n",
      "/Users/k1000mbp/anaconda3/lib/python3.7/site-packages/sklearn/linear_model/sag.py:334: ConvergenceWarning: The max_iter was reached which means the coef_ did not converge\n",
      "  \"the coef_ did not converge\", ConvergenceWarning)\n",
      "/Users/k1000mbp/anaconda3/lib/python3.7/site-packages/sklearn/linear_model/sag.py:334: ConvergenceWarning: The max_iter was reached which means the coef_ did not converge\n",
      "  \"the coef_ did not converge\", ConvergenceWarning)\n",
      "/Users/k1000mbp/anaconda3/lib/python3.7/site-packages/sklearn/linear_model/sag.py:334: ConvergenceWarning: The max_iter was reached which means the coef_ did not converge\n",
      "  \"the coef_ did not converge\", ConvergenceWarning)\n",
      "/Users/k1000mbp/anaconda3/lib/python3.7/site-packages/sklearn/linear_model/sag.py:334: ConvergenceWarning: The max_iter was reached which means the coef_ did not converge\n",
      "  \"the coef_ did not converge\", ConvergenceWarning)\n",
      "/Users/k1000mbp/anaconda3/lib/python3.7/site-packages/sklearn/linear_model/sag.py:334: ConvergenceWarning: The max_iter was reached which means the coef_ did not converge\n",
      "  \"the coef_ did not converge\", ConvergenceWarning)\n",
      "/Users/k1000mbp/anaconda3/lib/python3.7/site-packages/sklearn/linear_model/sag.py:334: ConvergenceWarning: The max_iter was reached which means the coef_ did not converge\n",
      "  \"the coef_ did not converge\", ConvergenceWarning)\n",
      "/Users/k1000mbp/anaconda3/lib/python3.7/site-packages/sklearn/linear_model/sag.py:334: ConvergenceWarning: The max_iter was reached which means the coef_ did not converge\n",
      "  \"the coef_ did not converge\", ConvergenceWarning)\n",
      "/Users/k1000mbp/anaconda3/lib/python3.7/site-packages/sklearn/linear_model/sag.py:334: ConvergenceWarning: The max_iter was reached which means the coef_ did not converge\n",
      "  \"the coef_ did not converge\", ConvergenceWarning)\n",
      "/Users/k1000mbp/anaconda3/lib/python3.7/site-packages/sklearn/linear_model/sag.py:334: ConvergenceWarning: The max_iter was reached which means the coef_ did not converge\n",
      "  \"the coef_ did not converge\", ConvergenceWarning)\n",
      "/Users/k1000mbp/anaconda3/lib/python3.7/site-packages/sklearn/linear_model/sag.py:334: ConvergenceWarning: The max_iter was reached which means the coef_ did not converge\n",
      "  \"the coef_ did not converge\", ConvergenceWarning)\n",
      "/Users/k1000mbp/anaconda3/lib/python3.7/site-packages/sklearn/linear_model/sag.py:334: ConvergenceWarning: The max_iter was reached which means the coef_ did not converge\n",
      "  \"the coef_ did not converge\", ConvergenceWarning)\n",
      "/Users/k1000mbp/anaconda3/lib/python3.7/site-packages/sklearn/linear_model/sag.py:334: ConvergenceWarning: The max_iter was reached which means the coef_ did not converge\n",
      "  \"the coef_ did not converge\", ConvergenceWarning)\n",
      "/Users/k1000mbp/anaconda3/lib/python3.7/site-packages/sklearn/linear_model/sag.py:334: ConvergenceWarning: The max_iter was reached which means the coef_ did not converge\n",
      "  \"the coef_ did not converge\", ConvergenceWarning)\n",
      "/Users/k1000mbp/anaconda3/lib/python3.7/site-packages/sklearn/linear_model/sag.py:334: ConvergenceWarning: The max_iter was reached which means the coef_ did not converge\n",
      "  \"the coef_ did not converge\", ConvergenceWarning)\n"
     ]
    },
    {
     "ename": "KeyboardInterrupt",
     "evalue": "",
     "output_type": "error",
     "traceback": [
      "\u001b[0;31m---------------------------------------------------------------------------\u001b[0m",
      "\u001b[0;31mKeyboardInterrupt\u001b[0m                         Traceback (most recent call last)",
      "\u001b[0;32m<ipython-input-71-3325057d75ba>\u001b[0m in \u001b[0;36m<module>\u001b[0;34m\u001b[0m\n\u001b[0;32m----> 1\u001b[0;31m \u001b[0mtrain_acc_uni\u001b[0m\u001b[0;34m,\u001b[0m \u001b[0mtest_acc_uni\u001b[0m\u001b[0;34m,\u001b[0m \u001b[0mtune_param\u001b[0m\u001b[0;34m,\u001b[0m \u001b[0mclf_name\u001b[0m \u001b[0;34m=\u001b[0m \u001b[0mtune_clf\u001b[0m\u001b[0;34m(\u001b[0m\u001b[0mX_train\u001b[0m\u001b[0;34m,\u001b[0m \u001b[0my_train\u001b[0m\u001b[0;34m,\u001b[0m \u001b[0mX_test\u001b[0m\u001b[0;34m,\u001b[0m \u001b[0my_test\u001b[0m\u001b[0;34m,\u001b[0m \u001b[0mclassifier\u001b[0m\u001b[0;34m=\u001b[0m\u001b[0;34m\"logreg\"\u001b[0m \u001b[0;34m)\u001b[0m\u001b[0;34m\u001b[0m\u001b[0;34m\u001b[0m\u001b[0m\n\u001b[0m\u001b[1;32m      2\u001b[0m \u001b[0mplot_tune_clf\u001b[0m\u001b[0;34m(\u001b[0m \u001b[0mtrain_acc_uni\u001b[0m\u001b[0;34m,\u001b[0m \u001b[0mtest_acc_uni\u001b[0m\u001b[0;34m,\u001b[0m \u001b[0mtune_param\u001b[0m\u001b[0;34m,\u001b[0m \u001b[0mclf_name\u001b[0m \u001b[0;34m)\u001b[0m\u001b[0;34m\u001b[0m\u001b[0;34m\u001b[0m\u001b[0m\n",
      "\u001b[0;32m<ipython-input-69-503007b1e7c4>\u001b[0m in \u001b[0;36mtune_clf\u001b[0;34m(X_train, y_train, X_test, y_test, classifier)\u001b[0m\n\u001b[1;32m     46\u001b[0m                                         \u001b[0;31m# regularisation setting close to zero was too high\u001b[0m\u001b[0;34m\u001b[0m\u001b[0;34m\u001b[0m\u001b[0;34m\u001b[0m\u001b[0m\n\u001b[1;32m     47\u001b[0m             \u001b[0mtune_params\u001b[0m\u001b[0;34m.\u001b[0m\u001b[0mappend\u001b[0m\u001b[0;34m(\u001b[0m\u001b[0mC\u001b[0m\u001b[0;34m)\u001b[0m\u001b[0;34m\u001b[0m\u001b[0;34m\u001b[0m\u001b[0m\n\u001b[0;32m---> 48\u001b[0;31m             \u001b[0mclf\u001b[0m \u001b[0;34m=\u001b[0m \u001b[0mtrain_clf\u001b[0m\u001b[0;34m(\u001b[0m \u001b[0mX_train\u001b[0m\u001b[0;34m,\u001b[0m \u001b[0my_train\u001b[0m\u001b[0;34m,\u001b[0m \u001b[0mclassifier\u001b[0m\u001b[0;34m=\u001b[0m\u001b[0mclassifier\u001b[0m\u001b[0;34m,\u001b[0m \u001b[0mtune_param\u001b[0m\u001b[0;34m=\u001b[0m\u001b[0mC\u001b[0m \u001b[0;34m)\u001b[0m\u001b[0;34m\u001b[0m\u001b[0;34m\u001b[0m\u001b[0m\n\u001b[0m\u001b[1;32m     49\u001b[0m             \u001b[0my_pred_train\u001b[0m \u001b[0;34m=\u001b[0m \u001b[0mevaluate\u001b[0m\u001b[0;34m(\u001b[0m \u001b[0mclf\u001b[0m\u001b[0;34m,\u001b[0m \u001b[0mX_train\u001b[0m\u001b[0;34m,\u001b[0m \u001b[0my_train\u001b[0m \u001b[0;34m)\u001b[0m\u001b[0;34m\u001b[0m\u001b[0;34m\u001b[0m\u001b[0m\n\u001b[1;32m     50\u001b[0m             \u001b[0mtr_acc\u001b[0m \u001b[0;34m=\u001b[0m \u001b[0mcompute_acc\u001b[0m\u001b[0;34m(\u001b[0m\u001b[0my_train\u001b[0m\u001b[0;34m,\u001b[0m \u001b[0my_pred_train\u001b[0m\u001b[0;34m)\u001b[0m\u001b[0;34m\u001b[0m\u001b[0;34m\u001b[0m\u001b[0m\n",
      "\u001b[0;32m<ipython-input-69-503007b1e7c4>\u001b[0m in \u001b[0;36mtrain_clf\u001b[0;34m(X, y, classifier, tune_param)\u001b[0m\n\u001b[1;32m     14\u001b[0m \u001b[0;34m\u001b[0m\u001b[0m\n\u001b[1;32m     15\u001b[0m         \u001b[0;31m# Train\u001b[0m\u001b[0;34m\u001b[0m\u001b[0;34m\u001b[0m\u001b[0;34m\u001b[0m\u001b[0m\n\u001b[0;32m---> 16\u001b[0;31m         \u001b[0mclassifier\u001b[0m\u001b[0;34m.\u001b[0m\u001b[0mfit\u001b[0m\u001b[0;34m(\u001b[0m \u001b[0mX\u001b[0m\u001b[0;34m,\u001b[0m \u001b[0my\u001b[0m \u001b[0;34m)\u001b[0m\u001b[0;34m\u001b[0m\u001b[0;34m\u001b[0m\u001b[0m\n\u001b[0m\u001b[1;32m     17\u001b[0m     \u001b[0;32mreturn\u001b[0m \u001b[0mclassifier\u001b[0m\u001b[0;34m\u001b[0m\u001b[0;34m\u001b[0m\u001b[0m\n\u001b[1;32m     18\u001b[0m \u001b[0;34m\u001b[0m\u001b[0m\n",
      "\u001b[0;32m~/anaconda3/lib/python3.7/site-packages/sklearn/linear_model/logistic.py\u001b[0m in \u001b[0;36mfit\u001b[0;34m(self, X, y, sample_weight)\u001b[0m\n\u001b[1;32m   1358\u001b[0m                       \u001b[0mmax_squared_sum\u001b[0m\u001b[0;34m=\u001b[0m\u001b[0mmax_squared_sum\u001b[0m\u001b[0;34m,\u001b[0m\u001b[0;34m\u001b[0m\u001b[0;34m\u001b[0m\u001b[0m\n\u001b[1;32m   1359\u001b[0m                       sample_weight=sample_weight)\n\u001b[0;32m-> 1360\u001b[0;31m             for class_, warm_start_coef_ in zip(classes_, warm_start_coef))\n\u001b[0m\u001b[1;32m   1361\u001b[0m \u001b[0;34m\u001b[0m\u001b[0m\n\u001b[1;32m   1362\u001b[0m         \u001b[0mfold_coefs_\u001b[0m\u001b[0;34m,\u001b[0m \u001b[0m_\u001b[0m\u001b[0;34m,\u001b[0m \u001b[0mn_iter_\u001b[0m \u001b[0;34m=\u001b[0m \u001b[0mzip\u001b[0m\u001b[0;34m(\u001b[0m\u001b[0;34m*\u001b[0m\u001b[0mfold_coefs_\u001b[0m\u001b[0;34m)\u001b[0m\u001b[0;34m\u001b[0m\u001b[0;34m\u001b[0m\u001b[0m\n",
      "\u001b[0;32m~/anaconda3/lib/python3.7/site-packages/sklearn/externals/joblib/parallel.py\u001b[0m in \u001b[0;36m__call__\u001b[0;34m(self, iterable)\u001b[0m\n\u001b[1;32m    928\u001b[0m \u001b[0;34m\u001b[0m\u001b[0m\n\u001b[1;32m    929\u001b[0m             \u001b[0;32mwith\u001b[0m \u001b[0mself\u001b[0m\u001b[0;34m.\u001b[0m\u001b[0m_backend\u001b[0m\u001b[0;34m.\u001b[0m\u001b[0mretrieval_context\u001b[0m\u001b[0;34m(\u001b[0m\u001b[0;34m)\u001b[0m\u001b[0;34m:\u001b[0m\u001b[0;34m\u001b[0m\u001b[0;34m\u001b[0m\u001b[0m\n\u001b[0;32m--> 930\u001b[0;31m                 \u001b[0mself\u001b[0m\u001b[0;34m.\u001b[0m\u001b[0mretrieve\u001b[0m\u001b[0;34m(\u001b[0m\u001b[0;34m)\u001b[0m\u001b[0;34m\u001b[0m\u001b[0;34m\u001b[0m\u001b[0m\n\u001b[0m\u001b[1;32m    931\u001b[0m             \u001b[0;31m# Make sure that we get a last message telling us we are done\u001b[0m\u001b[0;34m\u001b[0m\u001b[0;34m\u001b[0m\u001b[0;34m\u001b[0m\u001b[0m\n\u001b[1;32m    932\u001b[0m             \u001b[0melapsed_time\u001b[0m \u001b[0;34m=\u001b[0m \u001b[0mtime\u001b[0m\u001b[0;34m.\u001b[0m\u001b[0mtime\u001b[0m\u001b[0;34m(\u001b[0m\u001b[0;34m)\u001b[0m \u001b[0;34m-\u001b[0m \u001b[0mself\u001b[0m\u001b[0;34m.\u001b[0m\u001b[0m_start_time\u001b[0m\u001b[0;34m\u001b[0m\u001b[0;34m\u001b[0m\u001b[0m\n",
      "\u001b[0;32m~/anaconda3/lib/python3.7/site-packages/sklearn/externals/joblib/parallel.py\u001b[0m in \u001b[0;36mretrieve\u001b[0;34m(self)\u001b[0m\n\u001b[1;32m    831\u001b[0m             \u001b[0;32mtry\u001b[0m\u001b[0;34m:\u001b[0m\u001b[0;34m\u001b[0m\u001b[0;34m\u001b[0m\u001b[0m\n\u001b[1;32m    832\u001b[0m                 \u001b[0;32mif\u001b[0m \u001b[0mgetattr\u001b[0m\u001b[0;34m(\u001b[0m\u001b[0mself\u001b[0m\u001b[0;34m.\u001b[0m\u001b[0m_backend\u001b[0m\u001b[0;34m,\u001b[0m \u001b[0;34m'supports_timeout'\u001b[0m\u001b[0;34m,\u001b[0m \u001b[0;32mFalse\u001b[0m\u001b[0;34m)\u001b[0m\u001b[0;34m:\u001b[0m\u001b[0;34m\u001b[0m\u001b[0;34m\u001b[0m\u001b[0m\n\u001b[0;32m--> 833\u001b[0;31m                     \u001b[0mself\u001b[0m\u001b[0;34m.\u001b[0m\u001b[0m_output\u001b[0m\u001b[0;34m.\u001b[0m\u001b[0mextend\u001b[0m\u001b[0;34m(\u001b[0m\u001b[0mjob\u001b[0m\u001b[0;34m.\u001b[0m\u001b[0mget\u001b[0m\u001b[0;34m(\u001b[0m\u001b[0mtimeout\u001b[0m\u001b[0;34m=\u001b[0m\u001b[0mself\u001b[0m\u001b[0;34m.\u001b[0m\u001b[0mtimeout\u001b[0m\u001b[0;34m)\u001b[0m\u001b[0;34m)\u001b[0m\u001b[0;34m\u001b[0m\u001b[0;34m\u001b[0m\u001b[0m\n\u001b[0m\u001b[1;32m    834\u001b[0m                 \u001b[0;32melse\u001b[0m\u001b[0;34m:\u001b[0m\u001b[0;34m\u001b[0m\u001b[0;34m\u001b[0m\u001b[0m\n\u001b[1;32m    835\u001b[0m                     \u001b[0mself\u001b[0m\u001b[0;34m.\u001b[0m\u001b[0m_output\u001b[0m\u001b[0;34m.\u001b[0m\u001b[0mextend\u001b[0m\u001b[0;34m(\u001b[0m\u001b[0mjob\u001b[0m\u001b[0;34m.\u001b[0m\u001b[0mget\u001b[0m\u001b[0;34m(\u001b[0m\u001b[0;34m)\u001b[0m\u001b[0;34m)\u001b[0m\u001b[0;34m\u001b[0m\u001b[0;34m\u001b[0m\u001b[0m\n",
      "\u001b[0;32m~/anaconda3/lib/python3.7/multiprocessing/pool.py\u001b[0m in \u001b[0;36mget\u001b[0;34m(self, timeout)\u001b[0m\n\u001b[1;32m    675\u001b[0m \u001b[0;34m\u001b[0m\u001b[0m\n\u001b[1;32m    676\u001b[0m     \u001b[0;32mdef\u001b[0m \u001b[0mget\u001b[0m\u001b[0;34m(\u001b[0m\u001b[0mself\u001b[0m\u001b[0;34m,\u001b[0m \u001b[0mtimeout\u001b[0m\u001b[0;34m=\u001b[0m\u001b[0;32mNone\u001b[0m\u001b[0;34m)\u001b[0m\u001b[0;34m:\u001b[0m\u001b[0;34m\u001b[0m\u001b[0;34m\u001b[0m\u001b[0m\n\u001b[0;32m--> 677\u001b[0;31m         \u001b[0mself\u001b[0m\u001b[0;34m.\u001b[0m\u001b[0mwait\u001b[0m\u001b[0;34m(\u001b[0m\u001b[0mtimeout\u001b[0m\u001b[0;34m)\u001b[0m\u001b[0;34m\u001b[0m\u001b[0;34m\u001b[0m\u001b[0m\n\u001b[0m\u001b[1;32m    678\u001b[0m         \u001b[0;32mif\u001b[0m \u001b[0;32mnot\u001b[0m \u001b[0mself\u001b[0m\u001b[0;34m.\u001b[0m\u001b[0mready\u001b[0m\u001b[0;34m(\u001b[0m\u001b[0;34m)\u001b[0m\u001b[0;34m:\u001b[0m\u001b[0;34m\u001b[0m\u001b[0;34m\u001b[0m\u001b[0m\n\u001b[1;32m    679\u001b[0m             \u001b[0;32mraise\u001b[0m \u001b[0mTimeoutError\u001b[0m\u001b[0;34m\u001b[0m\u001b[0;34m\u001b[0m\u001b[0m\n",
      "\u001b[0;32m~/anaconda3/lib/python3.7/multiprocessing/pool.py\u001b[0m in \u001b[0;36mwait\u001b[0;34m(self, timeout)\u001b[0m\n\u001b[1;32m    672\u001b[0m \u001b[0;34m\u001b[0m\u001b[0m\n\u001b[1;32m    673\u001b[0m     \u001b[0;32mdef\u001b[0m \u001b[0mwait\u001b[0m\u001b[0;34m(\u001b[0m\u001b[0mself\u001b[0m\u001b[0;34m,\u001b[0m \u001b[0mtimeout\u001b[0m\u001b[0;34m=\u001b[0m\u001b[0;32mNone\u001b[0m\u001b[0;34m)\u001b[0m\u001b[0;34m:\u001b[0m\u001b[0;34m\u001b[0m\u001b[0;34m\u001b[0m\u001b[0m\n\u001b[0;32m--> 674\u001b[0;31m         \u001b[0mself\u001b[0m\u001b[0;34m.\u001b[0m\u001b[0m_event\u001b[0m\u001b[0;34m.\u001b[0m\u001b[0mwait\u001b[0m\u001b[0;34m(\u001b[0m\u001b[0mtimeout\u001b[0m\u001b[0;34m)\u001b[0m\u001b[0;34m\u001b[0m\u001b[0;34m\u001b[0m\u001b[0m\n\u001b[0m\u001b[1;32m    675\u001b[0m \u001b[0;34m\u001b[0m\u001b[0m\n\u001b[1;32m    676\u001b[0m     \u001b[0;32mdef\u001b[0m \u001b[0mget\u001b[0m\u001b[0;34m(\u001b[0m\u001b[0mself\u001b[0m\u001b[0;34m,\u001b[0m \u001b[0mtimeout\u001b[0m\u001b[0;34m=\u001b[0m\u001b[0;32mNone\u001b[0m\u001b[0;34m)\u001b[0m\u001b[0;34m:\u001b[0m\u001b[0;34m\u001b[0m\u001b[0;34m\u001b[0m\u001b[0m\n",
      "\u001b[0;32m~/anaconda3/lib/python3.7/threading.py\u001b[0m in \u001b[0;36mwait\u001b[0;34m(self, timeout)\u001b[0m\n\u001b[1;32m    550\u001b[0m             \u001b[0msignaled\u001b[0m \u001b[0;34m=\u001b[0m \u001b[0mself\u001b[0m\u001b[0;34m.\u001b[0m\u001b[0m_flag\u001b[0m\u001b[0;34m\u001b[0m\u001b[0;34m\u001b[0m\u001b[0m\n\u001b[1;32m    551\u001b[0m             \u001b[0;32mif\u001b[0m \u001b[0;32mnot\u001b[0m \u001b[0msignaled\u001b[0m\u001b[0;34m:\u001b[0m\u001b[0;34m\u001b[0m\u001b[0;34m\u001b[0m\u001b[0m\n\u001b[0;32m--> 552\u001b[0;31m                 \u001b[0msignaled\u001b[0m \u001b[0;34m=\u001b[0m \u001b[0mself\u001b[0m\u001b[0;34m.\u001b[0m\u001b[0m_cond\u001b[0m\u001b[0;34m.\u001b[0m\u001b[0mwait\u001b[0m\u001b[0;34m(\u001b[0m\u001b[0mtimeout\u001b[0m\u001b[0;34m)\u001b[0m\u001b[0;34m\u001b[0m\u001b[0;34m\u001b[0m\u001b[0m\n\u001b[0m\u001b[1;32m    553\u001b[0m             \u001b[0;32mreturn\u001b[0m \u001b[0msignaled\u001b[0m\u001b[0;34m\u001b[0m\u001b[0;34m\u001b[0m\u001b[0m\n\u001b[1;32m    554\u001b[0m \u001b[0;34m\u001b[0m\u001b[0m\n",
      "\u001b[0;32m~/anaconda3/lib/python3.7/threading.py\u001b[0m in \u001b[0;36mwait\u001b[0;34m(self, timeout)\u001b[0m\n\u001b[1;32m    294\u001b[0m         \u001b[0;32mtry\u001b[0m\u001b[0;34m:\u001b[0m    \u001b[0;31m# restore state no matter what (e.g., KeyboardInterrupt)\u001b[0m\u001b[0;34m\u001b[0m\u001b[0;34m\u001b[0m\u001b[0m\n\u001b[1;32m    295\u001b[0m             \u001b[0;32mif\u001b[0m \u001b[0mtimeout\u001b[0m \u001b[0;32mis\u001b[0m \u001b[0;32mNone\u001b[0m\u001b[0;34m:\u001b[0m\u001b[0;34m\u001b[0m\u001b[0;34m\u001b[0m\u001b[0m\n\u001b[0;32m--> 296\u001b[0;31m                 \u001b[0mwaiter\u001b[0m\u001b[0;34m.\u001b[0m\u001b[0macquire\u001b[0m\u001b[0;34m(\u001b[0m\u001b[0;34m)\u001b[0m\u001b[0;34m\u001b[0m\u001b[0;34m\u001b[0m\u001b[0m\n\u001b[0m\u001b[1;32m    297\u001b[0m                 \u001b[0mgotit\u001b[0m \u001b[0;34m=\u001b[0m \u001b[0;32mTrue\u001b[0m\u001b[0;34m\u001b[0m\u001b[0;34m\u001b[0m\u001b[0m\n\u001b[1;32m    298\u001b[0m             \u001b[0;32melse\u001b[0m\u001b[0;34m:\u001b[0m\u001b[0;34m\u001b[0m\u001b[0;34m\u001b[0m\u001b[0m\n",
      "\u001b[0;31mKeyboardInterrupt\u001b[0m: "
     ]
    },
    {
     "name": "stderr",
     "output_type": "stream",
     "text": [
      "/Users/k1000mbp/anaconda3/lib/python3.7/site-packages/sklearn/linear_model/sag.py:334: ConvergenceWarning: The max_iter was reached which means the coef_ did not converge\n",
      "  \"the coef_ did not converge\", ConvergenceWarning)\n",
      "/Users/k1000mbp/anaconda3/lib/python3.7/site-packages/sklearn/linear_model/sag.py:334: ConvergenceWarning: The max_iter was reached which means the coef_ did not converge\n",
      "  \"the coef_ did not converge\", ConvergenceWarning)\n",
      "/Users/k1000mbp/anaconda3/lib/python3.7/site-packages/sklearn/linear_model/sag.py:334: ConvergenceWarning: The max_iter was reached which means the coef_ did not converge\n",
      "  \"the coef_ did not converge\", ConvergenceWarning)\n",
      "/Users/k1000mbp/anaconda3/lib/python3.7/site-packages/sklearn/linear_model/sag.py:334: ConvergenceWarning: The max_iter was reached which means the coef_ did not converge\n",
      "  \"the coef_ did not converge\", ConvergenceWarning)\n"
     ]
    }
   ],
   "source": [
    "train_acc_uni, test_acc_uni, tune_param, clf_name = tune_clf(X_train, y_train, X_test, y_test, classifier=\"logreg\" )\n",
    "plot_tune_clf( train_acc_uni, test_acc_uni, tune_param, clf_name )"
   ]
  },
  {
   "cell_type": "markdown",
   "metadata": {},
   "source": [
    "### 3. Clustering"
   ]
  },
  {
   "cell_type": "markdown",
   "metadata": {},
   "source": [
    "#### 3a. Data preparation"
   ]
  },
  {
   "cell_type": "code",
   "execution_count": 72,
   "metadata": {},
   "outputs": [
    {
     "data": {
      "text/plain": [
       "10"
      ]
     },
     "execution_count": 72,
     "metadata": {},
     "output_type": "execute_result"
    }
   ],
   "source": [
    "authormovements_df=pd.read_pickle(\"../2_Preprocessing/processeddata/df_pickle_movements/movements_df.pickle\")\n",
    "\n",
    "# let's randomly extract 10 authors and their movements\n",
    "authormovements_df10 = authormovements_df.sample(n=10)\n",
    "\n",
    "# let's get their filenames\n",
    "datapath = \"../2_Preprocessing/processeddata/df_pickles/5_sent/{}_df.pickle\"\n",
    "df_filenames=[datapath.format(authornum) for authornum in authormovements_df10.index]\n",
    "len(df_filenames)"
   ]
  },
  {
   "cell_type": "code",
   "execution_count": 73,
   "metadata": {},
   "outputs": [
    {
     "name": "stdout",
     "output_type": "stream",
     "text": [
      "19 \n",
      " {'satire', 'dark fantasy', 'victorian literature', 'fantasy', 'sermon', 'horror fiction', 'literary realism', 'science fiction', 'weird fiction', 'thriller', 'time travel', 'picaresque', 'mystery', 'historical fiction', 'naturalism', 'modernist poetry in english', 'romance novel', 'christian fiction', 'detective fiction'}\n"
     ]
    }
   ],
   "source": [
    "# count unique literary movements\n",
    "movements = []\n",
    "for row in authormovements_df10[\"literarymovements\"]:\n",
    "    movements.extend([i for i in row])\n",
    "    \n",
    "movements = set(movements)\n",
    "print(len(movements), \"\\n\", movements)\n"
   ]
  },
  {
   "cell_type": "code",
   "execution_count": 74,
   "metadata": {},
   "outputs": [],
   "source": [
    "needvect_features = {\"lemmas\": \n",
    "                  {\"train\": allauthor_df_train[\"tokens\"],\n",
    "                    \"test\": allauthor_df_test[\"tokens\"],},\n",
    "                \"namedentities\": \n",
    "                  {\"train\": allauthor_df_train['ne_dates']+allauthor_df_train['ne_places'],\n",
    "                   \"test\": allauthor_df_test['ne_dates']+allauthor_df_test['ne_places'],}, \n",
    "                \"filteredtokens\": \n",
    "                    {\"train\": allauthor_df_train['filteredtokens']+allauthor_df_train['filteredtokens'],\n",
    "                   \"test\": allauthor_df_test['filteredtokens']+allauthor_df_test['filteredtokens'],}}\n",
    "                # add the ne_dates and ne_places columns for the vectoriser to manage sparsity. leave out \n",
    "                # persons for now, it is possible person names can significantly identify authors (except \n",
    "                # perhaps authors) \n",
    "            \n",
    "alreadyvect_features=['concreteness', 'subjectivity', \"parse_VP\"]\n",
    "\n",
    "make_featuresets(needvect_features, alreadyvect_features, task=\"clustering\")"
   ]
  },
  {
   "cell_type": "code",
   "execution_count": 75,
   "metadata": {},
   "outputs": [],
   "source": [
    "def stack( A, B ):\n",
    "    return hstack( [A,B] )\n",
    "\n",
    "X_tr_lemmas, y_train, X_te_lemmas, y_test = load_data( FEATURESET_CLASS, \n",
    "                                                    features='lemmas', task=\"clustering\")\n",
    "X_tr_concreteness, y_train, X_te_concreteness, y_test = load_data( FEATURESET_CLASS, \n",
    "                                                    features='concreteness', task=\"clustering\")\n",
    "X_tr_namedentities, y_train, X_te_namedentities, y_test = load_data( FEATURESET_CLASS, \n",
    "                                                    features='namedentities', task=\"clustering\")\n",
    "X_tr_parse_VP, y_train, X_te_parse_VP, y_test = load_data( FEATURESET_CLASS, \n",
    "                                                    features='parse_VP', task=\"clustering\")\n",
    "X_tr_subjectivity, y_train, X_te_subjectivity, y_test = load_data( FEATURESET_CLASS, \n",
    "                                                    features='subjectivity', task=\"clustering\")\n",
    "X_tr_filteredtokens, y_train, X_te_filteredtokens, y_test = load_data( FEATURESET_CLASS, \n",
    "                                                    features='filteredtokens', task=\"clustering\")\n",
    "\n",
    "\n",
    "X_train = hstack( [X_tr_subjectivity, X_tr_filteredtokens,X_tr_namedentities, X_tr_parse_VP] )\n",
    "X_test = hstack( [X_te_subjectivity, X_te_filteredtokens, X_te_namedentities, X_te_parse_VP] )"
   ]
  },
  {
   "cell_type": "code",
   "execution_count": 76,
   "metadata": {},
   "outputs": [
    {
     "data": {
      "text/plain": [
       "(13837, 26634)"
      ]
     },
     "execution_count": 76,
     "metadata": {},
     "output_type": "execute_result"
    }
   ],
   "source": [
    "X_train.shape"
   ]
  },
  {
   "cell_type": "code",
   "execution_count": 77,
   "metadata": {},
   "outputs": [
    {
     "data": {
      "text/plain": [
       "(3518, 26634)"
      ]
     },
     "execution_count": 77,
     "metadata": {},
     "output_type": "execute_result"
    }
   ],
   "source": [
    "X_test.shape"
   ]
  },
  {
   "cell_type": "markdown",
   "metadata": {},
   "source": [
    "#### 3b. Trying spectral clustering\n",
    "\n",
    "Spectral clustering provides the most robust performance across different types of [clustering patterns](https://scikit-learn.org/stable/auto_examples/cluster/plot_cluster_comparison.html#sphx-glr-auto-examples-cluster-plot-cluster-comparison-py), since we have not been able to dimension reduce meaningfully to plot the distribution of our data (down to 2 or 3 principal component that have substantial explained variance), we don't have a clear idea of the distribution. So we pick spectral clustering as a start. "
   ]
  },
  {
   "cell_type": "code",
   "execution_count": 78,
   "metadata": {},
   "outputs": [
    {
     "name": "stderr",
     "output_type": "stream",
     "text": [
      "/Users/k1000mbp/anaconda3/lib/python3.7/site-packages/sklearn/manifold/spectral_embedding_.py:288: UserWarning: AMG works better for sparse matrices\n",
      "  warnings.warn(\"AMG works better for sparse matrices\")\n",
      "/Users/k1000mbp/anaconda3/lib/python3.7/site-packages/pyamg/aggregation/aggregation.py:218: SparseEfficiencyWarning: Implicit conversion of A to CSR\n",
      "  SparseEfficiencyWarning)\n",
      "/Users/k1000mbp/anaconda3/lib/python3.7/site-packages/sklearn/cluster/spectral.py:268: ConvergenceWarning: Number of distinct clusters (2) found smaller than n_clusters (5). Possibly due to duplicate points in X.\n",
      "  n_init=n_init)\n"
     ]
    },
    {
     "data": {
      "text/plain": [
       "SpectralClustering(affinity='rbf', assign_labels='kmeans', coef0=1, degree=3,\n",
       "          eigen_solver='amg', eigen_tol=0.0, gamma=1.0, kernel_params=None,\n",
       "          n_clusters=5, n_init=10, n_jobs=None, n_neighbors=1,\n",
       "          random_state=None)"
      ]
     },
     "execution_count": 78,
     "metadata": {},
     "output_type": "execute_result"
    }
   ],
   "source": [
    "spec_clust = SpectralClustering(n_clusters=5, eigen_solver= \"amg\", n_init=10, n_neighbors=1)\n",
    "spec_clust.fit(X_train) "
   ]
  },
  {
   "cell_type": "markdown",
   "metadata": {},
   "source": [
    "##### PCA to 3 components, to 3D plot"
   ]
  },
  {
   "cell_type": "code",
   "execution_count": 81,
   "metadata": {},
   "outputs": [
    {
     "name": "stdout",
     "output_type": "stream",
     "text": [
      "The explained variance for TruncatedSVD with 3 is 0.9370659828844858\n"
     ]
    }
   ],
   "source": [
    "N_COMPONENTS=3\n",
    "TSVD_model = TruncatedSVD(n_components=N_COMPONENTS, random_state=1,)\n",
    "X_train_TSVD_model = TSVD_model.fit(X_train)\n",
    "print(\"The explained variance for TruncatedSVD with {} is {}\".format(N_COMPONENTS, sum(TSVD_model.explained_variance_ratio_)))"
   ]
  },
  {
   "cell_type": "code",
   "execution_count": 82,
   "metadata": {},
   "outputs": [],
   "source": [
    "X_train_TSVD=X_train_TSVD_model.transform(X_train)\n",
    "X_test_TSVD=X_train_TSVD_model.transform(X_test)"
   ]
  },
  {
   "cell_type": "markdown",
   "metadata": {},
   "source": [
    "##### 3b1. 5 clusters"
   ]
  },
  {
   "cell_type": "code",
   "execution_count": 83,
   "metadata": {},
   "outputs": [
    {
     "data": {
      "image/png": "[encoded data removed]",
      "text/plain": [
       "<Figure size 504x504 with 1 Axes>"
      ]
     },
     "metadata": {
      "needs_background": "light"
     },
     "output_type": "display_data"
    }
   ],
   "source": [
    "fig = plt.figure(figsize=(7,7))\n",
    "from mpl_toolkits.mplot3d import Axes3D\n",
    "\n",
    "# add a subplot for the 3rd dimension \n",
    "ax = fig.add_subplot(111, projection='3d')\n",
    "\n",
    "ax.scatter(X_train_TSVD[:,0], \n",
    "           X_train_TSVD[:,1],\n",
    "           X_train_TSVD[:,2],\n",
    "           c=spec_clust.labels_) # predicted cluster labels\n",
    "\n",
    "plt.show()"
   ]
  }
 ],
 "metadata": {
  "kernelspec": {
   "display_name": "Python 3",
   "language": "python",
   "name": "python3"
  },
  "language_info": {
   "codemirror_mode": {
    "name": "ipython",
    "version": 3
   },
   "file_extension": ".py",
   "mimetype": "text/x-python",
   "name": "python",
   "nbconvert_exporter": "python",
   "pygments_lexer": "ipython3",
   "version": "3.7.1"
  }
 },
 "nbformat": 4,
 "nbformat_minor": 2
}
