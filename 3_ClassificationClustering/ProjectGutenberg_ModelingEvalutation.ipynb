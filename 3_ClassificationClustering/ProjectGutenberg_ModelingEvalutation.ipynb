{
 "cells": [
  {
   "cell_type": "markdown",
   "metadata": {},
   "source": [
    "# Classification and Clustering"
   ]
  },
  {
   "cell_type": "code",
   "execution_count": 245,
   "metadata": {},
   "outputs": [],
   "source": [
    "import numpy as np\n",
    "import pandas as pd\n",
    "import matplotlib.pyplot as plt\n",
    "import seaborn as sns \n",
    "import collections, re, string, glob, collections, pickle, os\n",
    "from sklearn.model_selection import train_test_split\n",
    "from sklearn.datasets import dump_svmlight_file, load_svmlight_file\n",
    "from sklearn.feature_extraction.text import TfidfTransformer\n",
    "from sklearn.feature_extraction import DictVectorizer\n",
    "from sklearn.linear_model import LogisticRegression\n",
    "from sklearn.naive_bayes import MultinomialNB\n",
    "from sklearn import metrics\n",
    "from scipy.sparse import hstack\n",
    "import imblearn\n",
    "\n",
    "import utils_vectoriser"
   ]
  },
  {
   "cell_type": "code",
   "execution_count": null,
   "metadata": {},
   "outputs": [],
   "source": [
    "## TO DO\n",
    "\n",
    "# 2. back to Lab 2, extract author abstract NERs (are we getting NER spans or just token by token?) - yes we are \n",
    "# 3. imbalearn upsampling \n",
    "# 1. NMF to reduce dimensions with a resulting non-negative matrix, so we can accept the current form of \n",
    "# concreteness score into the classifiers \n",
    "# 4. lemma subset by POS tags \n",
    "# 5. tuning TFIDF levels \n",
    "# 2. LogReg\n"
   ]
  },
  {
   "cell_type": "markdown",
   "metadata": {},
   "source": [
    "### Initial results\n",
    "|Run   \t|Classifier   \t|Featureset   \t|train acc   \t|test acc   \t|alpha   \t|\n",
    "|---\t|---\t|---\t|---\t|---\t|---\t|\n",
    "|1   \t|M_NB   \t|subj, lemmas, parse_VP, book_nes    \t|0.984   \t|0.46   \t|29   \t|\n",
    "|2   \t|M_NB   \t|   \t|   \t|   \t|   \t|\n",
    "|   \t|   \t|   \t|   \t|   \t|   \t|\n",
    "|   \t|   \t|   \t|   \t|   \t|   \t|"
   ]
  },
  {
   "cell_type": "markdown",
   "metadata": {},
   "source": [
    "### 1. Create training and evaluation sets"
   ]
  },
  {
   "cell_type": "markdown",
   "metadata": {},
   "source": [
    "#### 1a. Corollary: Computing a subjectivity score"
   ]
  },
  {
   "cell_type": "markdown",
   "metadata": {},
   "source": [
    "We have access to a set of [subjectivity classification for about 8,200 English words](https://gitlab.inria.fr/mastertal/UE803/blob/master/data/l10_data/subjectivity_clues_hltemnlp05/subjclueslen1-HLTEMNLP05.README). We hypothesize that an average subjectivity score can help to further distinguish between authors. \n",
    "Our datapoints are however single sentences from at least 3 books of an author, and it is not sensible to compute the score for every sentence as there can be significant variability for such a score between an author's ouevre. Instead we compute the score based on the entire set of the author's sentences admitted into our corpus. \n",
    "\n",
    "We hypothesize that ideally, it will be better to compute the score based on each set of sentences from a single book of one author. This could provide a better predictor of an author's identity, by capturing a certain understanding about the subjecvity, and variability of the subjectivity, of his/her body of work. "
   ]
  },
  {
   "cell_type": "code",
   "execution_count": 3,
   "metadata": {},
   "outputs": [],
   "source": [
    "with open(\"../2_Preprocessing/supportdata/SubjectivityClues/data_l10_data_subjectivity_clues_hltemnlp05_subjclueslen1-HLTEMNLP05.tff\", \n",
    "          \"r\") as file:\n",
    "    subjectivityclues_all = file.read()\n",
    "    \n",
    "subj_scores = [1 if i == \"type=weaksubj\" else 2 for i in re.findall(r\"type=[a-z]+\", subjectivityclues_all)]\n",
    "# encoding 1 and 2, since the classes are ordinal - \"weaksubj\" and \"strongsubj\"\n",
    "subj_words = [i.lstrip(\"word1=\") for i in re.findall(r\"word1=[a-z]+\", subjectivityclues_all)]\n",
    "subj_pos = [i.lstrip(\"pos1=\") for i in re.findall(r\"pos1=[a-z]+\", subjectivityclues_all)]\n",
    "# side note on pos and stemming: the dataset does not use the UD POS tags, so we cannot map the tokens more precisely\n",
    "# based on the POS tag we have for the corpus tokens. also, the Wilson et al 2005 data include whether the words were \n",
    "# stemmed (i.e. usable on our lemmas sets), but it numbers only 1620, out of 8222 words, or less than 20%. so we \n",
    "# should compute our subjectivity score using our tokens set instead of lemmas\n",
    "\n",
    "subj_trip_info = [i for i in zip(subj_scores, subj_pos)]\n",
    "__dictcombined = {subj_words[index]: subj_trip_info[index] for index in range(len(subj_words))}\n",
    "# there are 5 words that have zero length and it is throwing an error in the filtering.\n",
    "# also pointless to have a score for an empty string in the computation of the subjectivity score. \n",
    "# it might have come about at the re.findall level, but the empty word issue still persists\n",
    "# after adding A-Z and 1-9 to the search pattern. \n",
    "__dictcombined_filter = {i: __dictcombined[i] for i in __dictcombined if len(i) > 0}\n",
    "\n",
    "# sort into a dictionary to speed search time \n",
    "subj_dict = {}\n",
    "for letter in string.ascii_lowercase: \n",
    "    subj_dict[letter] = {key:__dictcombined_filter[key] for key in __dictcombined_filter if key[0] == letter}\n",
    "    "
   ]
  },
  {
   "cell_type": "code",
   "execution_count": 4,
   "metadata": {},
   "outputs": [],
   "source": [
    "def get_subjectivity(spacysentdoc, subj_dict):\n",
    "    '''given a spacysentdoc, or a np array of strings (tokens of a sentence), returns the subjectivity\n",
    "    score for the sentence. The score is the sum of the score for tokens that can be \n",
    "    found in the http://crr.ugent.be/archives/1330 dataset. \n",
    "    Inputs: spacysentdoc\n",
    "    Outputs: a tuple containing the function name and the result. result is an integer rounded to 3 dp \n",
    "    and converted to a string\n",
    "    ''' \n",
    "    if type(spacysentdoc) == np.ndarray: \n",
    "        s_score = 0\n",
    "        for sentence in spacysentdoc: \n",
    "            for token in sentence:\n",
    "                try:\n",
    "                    # using first letter of token, go to sub-dict of subj_dict\n",
    "                    # if the token is one of the values of the sub-dict\n",
    "                    # retrive the subjectivity score\n",
    "                    if token in subj_dict[token[0]].keys():\n",
    "                        s_score += int(subj_dict[token[0]][token][0])\n",
    "                except: \n",
    "                    pass\n",
    "        # the score is averaged across the number of tokens across the entire corpus/doc\n",
    "        # it gives an indication of the usage of subjectivity words in writing style\n",
    "        return \"subjectivity\", round(s_score/len(spacysentdoc), 3)\n",
    "    else: \n",
    "        # condition for code extension to cover spacysentdoc (for alignment to insert into utils_tokeniser.py)\n",
    "        pass\n",
    "    "
   ]
  },
  {
   "cell_type": "markdown",
   "metadata": {},
   "source": [
    "#### 1b. Importing pickled DFs, train-test split"
   ]
  },
  {
   "cell_type": "markdown",
   "metadata": {},
   "source": [
    "__General approach__\n",
    "\n",
    "1. iteratively load author pickled dfs, filter out sentences that are less than 10 tokens long (between the 25th and 50th percentile for sentence length across the entire corpus of all authors)\n",
    "    - (since our dataset is built on one sentence per author, we drop sentences to avoid the possibility of an extremely sparse matrix. the short sentences would provide limited linguistics indicators (expressed through word freqency counts, ) to distinguish between authors. \n",
    "    - add author wiki abstract NERs\n",
    "2. cut into train test split on each load (to ensure each author is evenly represented in the train and test sets)\n",
    "3. concat train at end, concat test at end\n",
    "4. fit tfidf on train (so as not to leak data into test), transform on train and test\n",
    "5. cut into sets of features\n",
    "6. export to svm light "
   ]
  },
  {
   "cell_type": "code",
   "execution_count": 274,
   "metadata": {},
   "outputs": [
    {
     "data": {
      "text/html": [
       "<div>\n",
       "<style scoped>\n",
       "    .dataframe tbody tr th:only-of-type {\n",
       "        vertical-align: middle;\n",
       "    }\n",
       "\n",
       "    .dataframe tbody tr th {\n",
       "        vertical-align: top;\n",
       "    }\n",
       "\n",
       "    .dataframe thead th {\n",
       "        text-align: right;\n",
       "    }\n",
       "</style>\n",
       "<table border=\"1\" class=\"dataframe\">\n",
       "  <thead>\n",
       "    <tr style=\"text-align: right;\">\n",
       "      <th></th>\n",
       "      <th>authornum</th>\n",
       "      <th>concreteness</th>\n",
       "      <th>lemmas</th>\n",
       "      <th>ne_dates</th>\n",
       "      <th>ne_persons</th>\n",
       "      <th>ne_places</th>\n",
       "      <th>parse_NP</th>\n",
       "      <th>parse_S</th>\n",
       "      <th>parse_VP</th>\n",
       "      <th>pos_ADJ</th>\n",
       "      <th>...</th>\n",
       "      <th>pos_PUNCT</th>\n",
       "      <th>pos_SCONJ</th>\n",
       "      <th>pos_SPACE</th>\n",
       "      <th>pos_SYM</th>\n",
       "      <th>pos_VERB</th>\n",
       "      <th>pos_X</th>\n",
       "      <th>poswordpairs</th>\n",
       "      <th>sentences</th>\n",
       "      <th>tokens</th>\n",
       "      <th>sent_length</th>\n",
       "    </tr>\n",
       "  </thead>\n",
       "  <tbody>\n",
       "    <tr>\n",
       "      <th>0</th>\n",
       "      <td>a7519</td>\n",
       "      <td>-1.1</td>\n",
       "      <td>[when, -PRON-, father, find, fault, because, -...</td>\n",
       "      <td>[]</td>\n",
       "      <td>[]</td>\n",
       "      <td>[]</td>\n",
       "      <td>12</td>\n",
       "      <td>6</td>\n",
       "      <td>7</td>\n",
       "      <td>5</td>\n",
       "      <td>...</td>\n",
       "      <td>3</td>\n",
       "      <td>0</td>\n",
       "      <td>0</td>\n",
       "      <td>0</td>\n",
       "      <td>9</td>\n",
       "      <td>0</td>\n",
       "      <td>[(ADV, When), (ADJ, her), (NOUN, father), (VER...</td>\n",
       "      <td>When her father found fault because she would ...</td>\n",
       "      <td>[when, her, father, found, fault, because, she...</td>\n",
       "      <td>34</td>\n",
       "    </tr>\n",
       "    <tr>\n",
       "      <th>1</th>\n",
       "      <td>a7519</td>\n",
       "      <td>0.31</td>\n",
       "      <td>[as, -PRON-, carefully, study, every, word, ,,...</td>\n",
       "      <td>[]</td>\n",
       "      <td>[]</td>\n",
       "      <td>[]</td>\n",
       "      <td>16</td>\n",
       "      <td>4</td>\n",
       "      <td>6</td>\n",
       "      <td>1</td>\n",
       "      <td>...</td>\n",
       "      <td>5</td>\n",
       "      <td>0</td>\n",
       "      <td>0</td>\n",
       "      <td>0</td>\n",
       "      <td>5</td>\n",
       "      <td>0</td>\n",
       "      <td>[(ADP, As), (PRON, I), (ADV, carefully), (VERB...</td>\n",
       "      <td>As I carefully study every word, I have heard ...</td>\n",
       "      <td>[as, i, carefully, study, every, word, i, have...</td>\n",
       "      <td>32</td>\n",
       "    </tr>\n",
       "  </tbody>\n",
       "</table>\n",
       "<p>2 rows × 32 columns</p>\n",
       "</div>"
      ],
      "text/plain": [
       "  authornum concreteness                                             lemmas  \\\n",
       "0     a7519         -1.1  [when, -PRON-, father, find, fault, because, -...   \n",
       "1     a7519         0.31  [as, -PRON-, carefully, study, every, word, ,,...   \n",
       "\n",
       "  ne_dates ne_persons ne_places  parse_NP  parse_S  parse_VP  pos_ADJ  \\\n",
       "0       []         []        []        12        6         7        5   \n",
       "1       []         []        []        16        4         6        1   \n",
       "\n",
       "      ...       pos_PUNCT  pos_SCONJ  pos_SPACE  pos_SYM  pos_VERB  pos_X  \\\n",
       "0     ...               3          0          0        0         9      0   \n",
       "1     ...               5          0          0        0         5      0   \n",
       "\n",
       "                                        poswordpairs  \\\n",
       "0  [(ADV, When), (ADJ, her), (NOUN, father), (VER...   \n",
       "1  [(ADP, As), (PRON, I), (ADV, carefully), (VERB...   \n",
       "\n",
       "                                           sentences  \\\n",
       "0  When her father found fault because she would ...   \n",
       "1  As I carefully study every word, I have heard ...   \n",
       "\n",
       "                                              tokens  sent_length  \n",
       "0  [when, her, father, found, fault, because, she...           34  \n",
       "1  [as, i, carefully, study, every, word, i, have...           32  \n",
       "\n",
       "[2 rows x 32 columns]"
      ]
     },
     "execution_count": 274,
     "metadata": {},
     "output_type": "execute_result"
    }
   ],
   "source": [
    "test_df= pd.read_pickle(glob.glob(\"../2_Preprocessing/processeddata/df_pickles/*.pickle\")[0])\n",
    "test_df.head(2)\n",
    "authabs_ne_df[\"a7519\"]"
   ]
  },
  {
   "cell_type": "code",
   "execution_count": 290,
   "metadata": {},
   "outputs": [
    {
     "data": {
      "text/plain": [
       "Index([   'authornum', 'concreteness',       'lemmas',     'ne_dates',\n",
       "         'ne_persons',    'ne_places',     'parse_NP',      'parse_S',\n",
       "           'parse_VP',      'pos_ADJ',      'pos_ADP',      'pos_ADV',\n",
       "            'pos_AUX',    'pos_CCONJ',     'pos_CONJ',      'pos_DET',\n",
       "           'pos_INTJ',     'pos_NOUN',      'pos_NUM',     'pos_PART',\n",
       "           'pos_PRON',    'pos_PROPN',    'pos_PUNCT',    'pos_SCONJ',\n",
       "          'pos_SPACE',      'pos_SYM',     'pos_VERB',        'pos_X',\n",
       "       'poswordpairs',    'sentences',       'tokens',  'sent_length',\n",
       "                    0],\n",
       "      dtype='object')"
      ]
     },
     "execution_count": 290,
     "metadata": {},
     "output_type": "execute_result"
    }
   ],
   "source": [
    "pd.concat([test_df, authabs_ne_df.loc[\"a7519\"]], axis=0).columns"
   ]
  },
  {
   "cell_type": "code",
   "execution_count": 151,
   "metadata": {},
   "outputs": [
    {
     "name": "stdout",
     "output_type": "stream",
     "text": [
      "train size: (13837, 33), test size: (3518, 33)\n"
     ]
    }
   ],
   "source": [
    "# 0. grab all the pickled df files\n",
    "df_filenames = glob.glob(\"../2_Preprocessing/processeddata/df_pickles/*.pickle\")\n",
    "\n",
    "\n",
    "# 1a. lists for collecting all the df objects to be generated for pd.concat - speediest approach \n",
    "# https://stackoverflow.com/questions/10715965/add-one-row-to-pandas-dataframe/24913075#24913075\n",
    "dfs_list_train = [] \n",
    "dfs_list_test = []\n",
    "label2auth_map = {}\n",
    "auth2label_map = {}\n",
    "\n",
    "# 1b. load the author wiki abstract NE data\n",
    "authabs_ne_df_filenames = glob.glob(\"../2_Preprocessing/processeddata/df_pickle_abstracts/*.pickle\")\n",
    "authabs_ne_df  = pd.read_pickle(authabs_ne_df_filenames[0])\n",
    "\n",
    "# 2. generate the master DF\n",
    "label_counter = 1\n",
    "for filename in df_filenames: \n",
    "    __ = pd.read_pickle(filename)\n",
    "     \n",
    "    authornum = __[\"authornum\"][0]                             # get the authornum for this df\n",
    "    pd.concat(__authabs_ne_df[authornum]                                   # add the author abstract wiki NEs to each row\n",
    "    \n",
    "                                \n",
    "    label2auth_map[label_counter] = authornum                  # switch the authornum to int, store the mapping\n",
    "    auth2label_map[authornum] = label_counter\n",
    "    __[\"authornum\"] = label_counter\n",
    "    \n",
    "    authabs_ne_df[authornum]\n",
    "    \n",
    "    __ = __[__[\"sent_length\"]>10]                               # filter out short sentences\n",
    "    __[\"concreteness\"] = __[\"concreteness\"].astype(float)       # we set the concreteness score as a string \n",
    "                                                                # to run the process_one_author functions easily\n",
    "                                                                # switch back to int here\n",
    "    # get the subjectivity score for the author. \n",
    "    s_score = get_subjectivity(__[\"tokens\"].values,subj_dict)[1]\n",
    "    # add as a new column to this df\n",
    "    __[\"subjectivity\"]=s_score\n",
    "    \n",
    "\n",
    "    # train test split \n",
    "    __train, __test = train_test_split(__, test_size=0.20)\n",
    "    dfs_list_train.append(__train)\n",
    "    dfs_list_test.append(__test)\n",
    "    \n",
    "    label_counter += 1\n",
    "    \n",
    "allauthor_df_train = pd.concat(dfs_list_train, axis=0)\n",
    "allauthor_df_test = pd.concat(dfs_list_test, axis=0)\n",
    "allauthor_df_train.reset_index(drop= True, inplace=True)\n",
    "allauthor_df_test.reset_index(drop= True, inplace=True)\n",
    "\n",
    "print(\"train size: {}, test size: {}\".format(allauthor_df_train.shape,allauthor_df_test.shape))"
   ]
  },
  {
   "cell_type": "code",
   "execution_count": 88,
   "metadata": {},
   "outputs": [
    {
     "data": {
      "text/html": [
       "<div>\n",
       "<style scoped>\n",
       "    .dataframe tbody tr th:only-of-type {\n",
       "        vertical-align: middle;\n",
       "    }\n",
       "\n",
       "    .dataframe tbody tr th {\n",
       "        vertical-align: top;\n",
       "    }\n",
       "\n",
       "    .dataframe thead th {\n",
       "        text-align: right;\n",
       "    }\n",
       "</style>\n",
       "<table border=\"1\" class=\"dataframe\">\n",
       "  <thead>\n",
       "    <tr style=\"text-align: right;\">\n",
       "      <th></th>\n",
       "      <th>concreteness</th>\n",
       "      <th>parse_NP</th>\n",
       "      <th>parse_S</th>\n",
       "      <th>parse_VP</th>\n",
       "      <th>pos_ADJ</th>\n",
       "      <th>pos_ADP</th>\n",
       "      <th>pos_ADV</th>\n",
       "      <th>pos_AUX</th>\n",
       "      <th>pos_CCONJ</th>\n",
       "      <th>pos_CONJ</th>\n",
       "      <th>...</th>\n",
       "      <th>pos_PRON</th>\n",
       "      <th>pos_PROPN</th>\n",
       "      <th>pos_PUNCT</th>\n",
       "      <th>pos_SCONJ</th>\n",
       "      <th>pos_SPACE</th>\n",
       "      <th>pos_SYM</th>\n",
       "      <th>pos_VERB</th>\n",
       "      <th>pos_X</th>\n",
       "      <th>sent_length</th>\n",
       "      <th>subjectivity</th>\n",
       "    </tr>\n",
       "  </thead>\n",
       "  <tbody>\n",
       "    <tr>\n",
       "      <th>count</th>\n",
       "      <td>3518.000000</td>\n",
       "      <td>3518.000000</td>\n",
       "      <td>3518.000000</td>\n",
       "      <td>3518.000000</td>\n",
       "      <td>3518.000000</td>\n",
       "      <td>3518.000000</td>\n",
       "      <td>3518.000000</td>\n",
       "      <td>3518.0</td>\n",
       "      <td>3518.000000</td>\n",
       "      <td>3518.0</td>\n",
       "      <td>...</td>\n",
       "      <td>3518.000000</td>\n",
       "      <td>3518.000000</td>\n",
       "      <td>3518.000000</td>\n",
       "      <td>3518.0</td>\n",
       "      <td>3518.000000</td>\n",
       "      <td>3518.000000</td>\n",
       "      <td>3518.000000</td>\n",
       "      <td>3518.000000</td>\n",
       "      <td>3518.000000</td>\n",
       "      <td>3518.000000</td>\n",
       "    </tr>\n",
       "    <tr>\n",
       "      <th>mean</th>\n",
       "      <td>-0.233903</td>\n",
       "      <td>9.529278</td>\n",
       "      <td>3.611427</td>\n",
       "      <td>5.413303</td>\n",
       "      <td>2.892268</td>\n",
       "      <td>3.704946</td>\n",
       "      <td>1.839682</td>\n",
       "      <td>0.0</td>\n",
       "      <td>1.165435</td>\n",
       "      <td>0.0</td>\n",
       "      <td>...</td>\n",
       "      <td>1.860148</td>\n",
       "      <td>1.167140</td>\n",
       "      <td>3.991757</td>\n",
       "      <td>0.0</td>\n",
       "      <td>0.348778</td>\n",
       "      <td>0.003127</td>\n",
       "      <td>4.964753</td>\n",
       "      <td>0.008812</td>\n",
       "      <td>26.817794</td>\n",
       "      <td>5.833819</td>\n",
       "    </tr>\n",
       "    <tr>\n",
       "      <th>std</th>\n",
       "      <td>6.069843</td>\n",
       "      <td>6.919672</td>\n",
       "      <td>2.567365</td>\n",
       "      <td>3.891442</td>\n",
       "      <td>2.718327</td>\n",
       "      <td>3.090785</td>\n",
       "      <td>1.847589</td>\n",
       "      <td>0.0</td>\n",
       "      <td>1.333469</td>\n",
       "      <td>0.0</td>\n",
       "      <td>...</td>\n",
       "      <td>1.820584</td>\n",
       "      <td>1.989003</td>\n",
       "      <td>2.956454</td>\n",
       "      <td>0.0</td>\n",
       "      <td>1.177827</td>\n",
       "      <td>0.084253</td>\n",
       "      <td>3.390416</td>\n",
       "      <td>0.124742</td>\n",
       "      <td>17.152813</td>\n",
       "      <td>1.710686</td>\n",
       "    </tr>\n",
       "    <tr>\n",
       "      <th>min</th>\n",
       "      <td>-52.080000</td>\n",
       "      <td>0.000000</td>\n",
       "      <td>0.000000</td>\n",
       "      <td>0.000000</td>\n",
       "      <td>0.000000</td>\n",
       "      <td>0.000000</td>\n",
       "      <td>0.000000</td>\n",
       "      <td>0.0</td>\n",
       "      <td>0.000000</td>\n",
       "      <td>0.0</td>\n",
       "      <td>...</td>\n",
       "      <td>0.000000</td>\n",
       "      <td>0.000000</td>\n",
       "      <td>0.000000</td>\n",
       "      <td>0.0</td>\n",
       "      <td>0.000000</td>\n",
       "      <td>0.000000</td>\n",
       "      <td>0.000000</td>\n",
       "      <td>0.000000</td>\n",
       "      <td>11.000000</td>\n",
       "      <td>2.491000</td>\n",
       "    </tr>\n",
       "    <tr>\n",
       "      <th>25%</th>\n",
       "      <td>-3.400000</td>\n",
       "      <td>5.000000</td>\n",
       "      <td>2.000000</td>\n",
       "      <td>3.000000</td>\n",
       "      <td>1.000000</td>\n",
       "      <td>2.000000</td>\n",
       "      <td>1.000000</td>\n",
       "      <td>0.0</td>\n",
       "      <td>0.000000</td>\n",
       "      <td>0.0</td>\n",
       "      <td>...</td>\n",
       "      <td>1.000000</td>\n",
       "      <td>0.000000</td>\n",
       "      <td>2.000000</td>\n",
       "      <td>0.0</td>\n",
       "      <td>0.000000</td>\n",
       "      <td>0.000000</td>\n",
       "      <td>3.000000</td>\n",
       "      <td>0.000000</td>\n",
       "      <td>15.000000</td>\n",
       "      <td>4.379000</td>\n",
       "    </tr>\n",
       "    <tr>\n",
       "      <th>50%</th>\n",
       "      <td>0.015000</td>\n",
       "      <td>8.000000</td>\n",
       "      <td>3.000000</td>\n",
       "      <td>5.000000</td>\n",
       "      <td>2.000000</td>\n",
       "      <td>3.000000</td>\n",
       "      <td>1.000000</td>\n",
       "      <td>0.0</td>\n",
       "      <td>1.000000</td>\n",
       "      <td>0.0</td>\n",
       "      <td>...</td>\n",
       "      <td>1.000000</td>\n",
       "      <td>0.000000</td>\n",
       "      <td>3.000000</td>\n",
       "      <td>0.0</td>\n",
       "      <td>0.000000</td>\n",
       "      <td>0.000000</td>\n",
       "      <td>4.000000</td>\n",
       "      <td>0.000000</td>\n",
       "      <td>22.000000</td>\n",
       "      <td>5.764000</td>\n",
       "    </tr>\n",
       "    <tr>\n",
       "      <th>75%</th>\n",
       "      <td>3.460000</td>\n",
       "      <td>12.000000</td>\n",
       "      <td>5.000000</td>\n",
       "      <td>7.000000</td>\n",
       "      <td>4.000000</td>\n",
       "      <td>5.000000</td>\n",
       "      <td>3.000000</td>\n",
       "      <td>0.0</td>\n",
       "      <td>2.000000</td>\n",
       "      <td>0.0</td>\n",
       "      <td>...</td>\n",
       "      <td>3.000000</td>\n",
       "      <td>2.000000</td>\n",
       "      <td>5.000000</td>\n",
       "      <td>0.0</td>\n",
       "      <td>0.000000</td>\n",
       "      <td>0.000000</td>\n",
       "      <td>6.000000</td>\n",
       "      <td>0.000000</td>\n",
       "      <td>33.000000</td>\n",
       "      <td>6.790000</td>\n",
       "    </tr>\n",
       "    <tr>\n",
       "      <th>max</th>\n",
       "      <td>37.430000</td>\n",
       "      <td>132.000000</td>\n",
       "      <td>28.000000</td>\n",
       "      <td>65.000000</td>\n",
       "      <td>39.000000</td>\n",
       "      <td>35.000000</td>\n",
       "      <td>19.000000</td>\n",
       "      <td>0.0</td>\n",
       "      <td>12.000000</td>\n",
       "      <td>0.0</td>\n",
       "      <td>...</td>\n",
       "      <td>23.000000</td>\n",
       "      <td>34.000000</td>\n",
       "      <td>31.000000</td>\n",
       "      <td>0.0</td>\n",
       "      <td>13.000000</td>\n",
       "      <td>4.000000</td>\n",
       "      <td>39.000000</td>\n",
       "      <td>4.000000</td>\n",
       "      <td>226.000000</td>\n",
       "      <td>11.402000</td>\n",
       "    </tr>\n",
       "  </tbody>\n",
       "</table>\n",
       "<p>8 rows × 25 columns</p>\n",
       "</div>"
      ],
      "text/plain": [
       "       concreteness     parse_NP      parse_S     parse_VP      pos_ADJ  \\\n",
       "count   3518.000000  3518.000000  3518.000000  3518.000000  3518.000000   \n",
       "mean      -0.233903     9.529278     3.611427     5.413303     2.892268   \n",
       "std        6.069843     6.919672     2.567365     3.891442     2.718327   \n",
       "min      -52.080000     0.000000     0.000000     0.000000     0.000000   \n",
       "25%       -3.400000     5.000000     2.000000     3.000000     1.000000   \n",
       "50%        0.015000     8.000000     3.000000     5.000000     2.000000   \n",
       "75%        3.460000    12.000000     5.000000     7.000000     4.000000   \n",
       "max       37.430000   132.000000    28.000000    65.000000    39.000000   \n",
       "\n",
       "           pos_ADP      pos_ADV  pos_AUX    pos_CCONJ  pos_CONJ      ...       \\\n",
       "count  3518.000000  3518.000000   3518.0  3518.000000    3518.0      ...        \n",
       "mean      3.704946     1.839682      0.0     1.165435       0.0      ...        \n",
       "std       3.090785     1.847589      0.0     1.333469       0.0      ...        \n",
       "min       0.000000     0.000000      0.0     0.000000       0.0      ...        \n",
       "25%       2.000000     1.000000      0.0     0.000000       0.0      ...        \n",
       "50%       3.000000     1.000000      0.0     1.000000       0.0      ...        \n",
       "75%       5.000000     3.000000      0.0     2.000000       0.0      ...        \n",
       "max      35.000000    19.000000      0.0    12.000000       0.0      ...        \n",
       "\n",
       "          pos_PRON    pos_PROPN    pos_PUNCT  pos_SCONJ    pos_SPACE  \\\n",
       "count  3518.000000  3518.000000  3518.000000     3518.0  3518.000000   \n",
       "mean      1.860148     1.167140     3.991757        0.0     0.348778   \n",
       "std       1.820584     1.989003     2.956454        0.0     1.177827   \n",
       "min       0.000000     0.000000     0.000000        0.0     0.000000   \n",
       "25%       1.000000     0.000000     2.000000        0.0     0.000000   \n",
       "50%       1.000000     0.000000     3.000000        0.0     0.000000   \n",
       "75%       3.000000     2.000000     5.000000        0.0     0.000000   \n",
       "max      23.000000    34.000000    31.000000        0.0    13.000000   \n",
       "\n",
       "           pos_SYM     pos_VERB        pos_X  sent_length  subjectivity  \n",
       "count  3518.000000  3518.000000  3518.000000  3518.000000   3518.000000  \n",
       "mean      0.003127     4.964753     0.008812    26.817794      5.833819  \n",
       "std       0.084253     3.390416     0.124742    17.152813      1.710686  \n",
       "min       0.000000     0.000000     0.000000    11.000000      2.491000  \n",
       "25%       0.000000     3.000000     0.000000    15.000000      4.379000  \n",
       "50%       0.000000     4.000000     0.000000    22.000000      5.764000  \n",
       "75%       0.000000     6.000000     0.000000    33.000000      6.790000  \n",
       "max       4.000000    39.000000     4.000000   226.000000     11.402000  \n",
       "\n",
       "[8 rows x 25 columns]"
      ]
     },
     "execution_count": 88,
     "metadata": {},
     "output_type": "execute_result"
    }
   ],
   "source": [
    "allauthor_df_test.describe()"
   ]
  },
  {
   "cell_type": "code",
   "execution_count": 89,
   "metadata": {},
   "outputs": [
    {
     "name": "stdout",
     "output_type": "stream",
     "text": [
      "<class 'pandas.core.frame.DataFrame'>\n",
      "RangeIndex: 3518 entries, 0 to 3517\n",
      "Data columns (total 33 columns):\n",
      "authornum       3518 non-null object\n",
      "concreteness    3518 non-null float64\n",
      "lemmas          3518 non-null object\n",
      "ne_dates        3518 non-null object\n",
      "ne_persons      3518 non-null object\n",
      "ne_places       3518 non-null object\n",
      "parse_NP        3518 non-null int64\n",
      "parse_S         3518 non-null int64\n",
      "parse_VP        3518 non-null int64\n",
      "pos_ADJ         3518 non-null int64\n",
      "pos_ADP         3518 non-null int64\n",
      "pos_ADV         3518 non-null int64\n",
      "pos_AUX         3518 non-null int64\n",
      "pos_CCONJ       3518 non-null int64\n",
      "pos_CONJ        3518 non-null int64\n",
      "pos_DET         3518 non-null int64\n",
      "pos_INTJ        3518 non-null int64\n",
      "pos_NOUN        3518 non-null int64\n",
      "pos_NUM         3518 non-null int64\n",
      "pos_PART        3518 non-null int64\n",
      "pos_PRON        3518 non-null int64\n",
      "pos_PROPN       3518 non-null int64\n",
      "pos_PUNCT       3518 non-null int64\n",
      "pos_SCONJ       3518 non-null int64\n",
      "pos_SPACE       3518 non-null int64\n",
      "pos_SYM         3518 non-null int64\n",
      "pos_VERB        3518 non-null int64\n",
      "pos_X           3518 non-null int64\n",
      "poswordpairs    3518 non-null object\n",
      "sentences       3518 non-null object\n",
      "tokens          3518 non-null object\n",
      "sent_length     3518 non-null int64\n",
      "subjectivity    3518 non-null float64\n",
      "dtypes: float64(2), int64(23), object(8)\n",
      "memory usage: 907.1+ KB\n"
     ]
    }
   ],
   "source": [
    "allauthor_df_test.info()"
   ]
  },
  {
   "cell_type": "markdown",
   "metadata": {},
   "source": [
    "#### 1c. Exploring the dataset"
   ]
  },
  {
   "cell_type": "code",
   "execution_count": 93,
   "metadata": {},
   "outputs": [
    {
     "data": {
      "image/png": "[encoded data removed]",
      "text/plain": [
       "<Figure size 432x288 with 1 Axes>"
      ]
     },
     "metadata": {
      "needs_background": "light"
     },
     "output_type": "display_data"
    },
    {
     "data": {
      "image/png": "[encoded data removed]",
      "text/plain": [
       "<Figure size 432x288 with 1 Axes>"
      ]
     },
     "metadata": {
      "needs_background": "light"
     },
     "output_type": "display_data"
    },
    {
     "data": {
      "image/png": "[encoded data removed]",
      "text/plain": [
       "<Figure size 432x288 with 1 Axes>"
      ]
     },
     "metadata": {
      "needs_background": "light"
     },
     "output_type": "display_data"
    }
   ],
   "source": [
    "plt.subplot(2, 1, 2)\n",
    "# let's take a look at the population distribution, to see if we need to finetune the corpus or augment datapoints\n",
    "sns.distplot(allauthor_df_train.groupby(\"authornum\")[\"authornum\"].count())\n",
    "plt.show()\n",
    "# distribution of mean subjectivity score for each author's sentences  \n",
    "sns.distplot(allauthor_df_train.groupby([\"authornum\",\"subjectivity\"])[\"subjectivity\"].mean(), bins=20)\n",
    "plt.show()\n",
    "# distribution of mean concreteness score for each author's sentences  \n",
    "sns.distplot(allauthor_df_train.groupby([\"authornum\",\"concreteness\"])[\"concreteness\"].mean(), bins=20)\n",
    "plt.show()"
   ]
  },
  {
   "cell_type": "markdown",
   "metadata": {},
   "source": [
    "#### 1d. Vectorising lemmas and NERs"
   ]
  },
  {
   "cell_type": "markdown",
   "metadata": {},
   "source": [
    "Our custom vectoriser in utils_vectoriser is not appropriate for this task. \n",
    "We tokenise lemmas to minimise sparsity"
   ]
  },
  {
   "cell_type": "code",
   "execution_count": 192,
   "metadata": {},
   "outputs": [
    {
     "data": {
      "text/plain": [
       "(3518, 33)"
      ]
     },
     "execution_count": 192,
     "metadata": {},
     "output_type": "execute_result"
    }
   ],
   "source": [
    "allauthor_df_test.shape"
   ]
  },
  {
   "cell_type": "code",
   "execution_count": 200,
   "metadata": {},
   "outputs": [],
   "source": [
    "__features = {\"lemmas\": \n",
    "                  {\"train\": allauthor_df_train[\"lemmas\"],\n",
    "                    \"test\": allauthor_df_test[\"lemmas\"],},\n",
    "              \"namedentities\": \n",
    "                  {\"train\": allauthor_df_train['ne_dates']+allauthor_df_train['ne_places'],\n",
    "                   \"test\": allauthor_df_test['ne_dates']+allauthor_df_test['ne_places'],}, }\n",
    "                # add the ne_dates and ne_places columns for the vectoriser to manage sparsity. leave out \n",
    "                # persons for now, it is possible person names can significantly identify authors (except \n",
    "                # perhaps authors) \n",
    "                          \n",
    "for feat in __features:\n",
    "    # train data\n",
    "    token_Counters_train = []\n",
    "    for row in __features[feat][\"train\"].index:\n",
    "        token_Counters_train.append(collections.Counter(__features[feat][\"train\"][row]))\n",
    "    \n",
    "    # test data \n",
    "    token_Counters_test = []\n",
    "    for row in __features[feat][\"test\"].index:\n",
    "        token_Counters_test.append(collections.Counter(__features[feat][\"test\"][row]))\n",
    "    \n",
    "    Dvectoriser = DictVectorizer()\n",
    "    Dvect_result_train = Dvectoriser.fit_transform(token_Counters_train)\n",
    "    Dvect_result_test = Dvectoriser.transform(token_Counters_test)\n",
    "\n",
    "    Ttransformer = TfidfTransformer()\n",
    "    Ttrans_results_train = Ttransformer.fit_transform(Dvect_result_train)\n",
    "    Ttrans_results_test = Ttransformer.transform(Dvect_result_test)\n",
    "\n",
    "    dump_svmlight_file(Ttrans_results_train, allauthor_df_train[\"authornum\"], \"data/train_\"+feat+\".svmlight\")\n",
    "    dump_svmlight_file(Ttrans_results_test, allauthor_df_test[\"authornum\"], \"data/test_\"+feat+\".svmlight\")"
   ]
  },
  {
   "cell_type": "code",
   "execution_count": 209,
   "metadata": {},
   "outputs": [],
   "source": [
    "__other_features=['concreteness', 'subjectivity', \"parse_VP\"]\n",
    "for feat in __other_features:\n",
    "    dump_svmlight_file(allauthor_df_train[feat].values.reshape(-1,1),\n",
    "                       allauthor_df_train[\"authornum\"], \"data/train_\"+feat+\".svmlight\")\n",
    "    dump_svmlight_file(allauthor_df_test[feat].values.reshape(-1,1), \n",
    "                       allauthor_df_test[\"authornum\"], \"data/test_\"+feat+\".svmlight\")        "
   ]
  },
  {
   "cell_type": "code",
   "execution_count": 207,
   "metadata": {},
   "outputs": [
    {
     "data": {
      "text/plain": [
       "Index(['authornum', 'concreteness', 'lemmas', 'ne_dates', 'ne_persons',\n",
       "       'ne_places', 'parse_NP', 'parse_S', 'parse_VP', 'pos_ADJ', 'pos_ADP',\n",
       "       'pos_ADV', 'pos_AUX', 'pos_CCONJ', 'pos_CONJ', 'pos_DET', 'pos_INTJ',\n",
       "       'pos_NOUN', 'pos_NUM', 'pos_PART', 'pos_PRON', 'pos_PROPN', 'pos_PUNCT',\n",
       "       'pos_SCONJ', 'pos_SPACE', 'pos_SYM', 'pos_VERB', 'pos_X',\n",
       "       'poswordpairs', 'sentences', 'tokens', 'sent_length', 'subjectivity'],\n",
       "      dtype='object')"
      ]
     },
     "execution_count": 207,
     "metadata": {},
     "output_type": "execute_result"
    }
   ],
   "source": [
    "allauthor_df_train.columns"
   ]
  },
  {
   "cell_type": "markdown",
   "metadata": {},
   "source": [
    "### 2. Large multiclass classification "
   ]
  },
  {
   "cell_type": "code",
   "execution_count": 251,
   "metadata": {},
   "outputs": [
    {
     "name": "stdout",
     "output_type": "stream",
     "text": [
      "Train: (13837, 24854)\n",
      "Test: (3518, 24854)\n"
     ]
    }
   ],
   "source": [
    "def load_data(data_path = \"./data\", features='lemmas'):\n",
    "    \n",
    "    X_train, y_train = load_svmlight_file( data_path+'/train_'+features+\".svmlight\" ) \n",
    "    X_test, y_test = load_svmlight_file( data_path+'/test_'+features+\".svmlight\", n_features=X_train.shape[1] ) \n",
    "    # shape of test shouldn't matter here since we enforced it at the vectorising step above\n",
    "    \n",
    "    return X_train, y_train, X_test, y_test\n",
    "\n",
    "# Testing lemmas\n",
    "X_train, y_train, X_test, y_test = load_data( \"./data\", features='lemmas')\n",
    "print( \"Train:\", X_train.shape )\n",
    "print( \"Test:\", X_test.shape )\n"
   ]
  },
  {
   "cell_type": "code",
   "execution_count": 248,
   "metadata": {},
   "outputs": [],
   "source": [
    "def train_clf( X, y, classifier='nb', alpha=1.0 ):\n",
    "    if classifier== 'nb':\n",
    "        classifier = MultinomialNB(alpha=alpha, fit_prior=True, class_prior=None) \n",
    "        # Train \n",
    "        classifier.fit( X, y )\n",
    "    return classifier\n",
    "\n",
    "def evaluate( classifier, X, y ):\n",
    "    # Predict\n",
    "    y_pred = classifier.predict( X )\n",
    "    return y_pred \n",
    "\n",
    "def compute_acc(y_true, y_pred):\n",
    "    return metrics.accuracy_score( y_true, y_pred )\n",
    "\n",
    "def tune_nb( X_train, y_train, X_test, y_test ):\n",
    "    train_acc,test_acc,alphas = [],[],[]\n",
    "    for alpha in np.linspace(0,1,11):\n",
    "        alpha = round(alpha, 1)\n",
    "        alphas.append(alpha)\n",
    "        clf = train_clf( X_train, y_train, classifier='nb', alpha=alpha )\n",
    "        #print(clf)\n",
    "        y_pred_train = evaluate( clf, X_train, y_train )\n",
    "        tr_acc = compute_acc(y_train, y_pred_train)\n",
    "        train_acc.append( tr_acc )\n",
    "    \n",
    "        y_pred_test = evaluate( clf, X_test, y_test )\n",
    "        d_acc = compute_acc(y_test, y_pred_test)\n",
    "        test_acc.append( d_acc )\n",
    "        print( alpha, round( tr_acc*100, 3), round( d_acc*100, 3) )\n",
    "    return train_acc, test_acc, alphas\n",
    "\n",
    "def plot_tune_nb( train_acc, test_acc, alphas):    \n",
    "    fig = plt.figure()\n",
    "    ax = fig.add_axes([0.1,0.2,0.8,0.9] )\n",
    "    ax.plot( alphas, train_acc, 'blue', label='train' )\n",
    "    ax.plot( alphas, test_acc, 'red', label='test' )\n",
    "    ax.legend()\n",
    "    ax.set_xlabel('Alpha')\n",
    "    ax.set_ylabel('Accuracy')"
   ]
  },
  {
   "cell_type": "code",
   "execution_count": 249,
   "metadata": {},
   "outputs": [
    {
     "name": "stderr",
     "output_type": "stream",
     "text": [
      "/Users/k1000mbp/anaconda3/lib/python3.7/site-packages/sklearn/naive_bayes.py:480: UserWarning: alpha too small will result in numeric errors, setting alpha = 1.0e-10\n",
      "  'setting alpha = %.1e' % _ALPHA_MIN)\n"
     ]
    },
    {
     "name": "stdout",
     "output_type": "stream",
     "text": [
      "0.0 98.8 29.022\n",
      "0.1 89.846 29.79\n",
      "0.2 80.429 26.89\n",
      "0.3 71.901 24.503\n",
      "0.4 64.653 22.712\n",
      "0.5 58.849 21.319\n",
      "0.6 54.058 20.381\n",
      "0.7 50.206 19.301\n",
      "0.8 46.751 18.334\n",
      "0.9 44.092 17.482\n",
      "1.0 41.461 16.885\n"
     ]
    },
    {
     "data": {
      "image/png": "[encoded data removed]",
      "text/plain": [
       "<Figure size 432x288 with 1 Axes>"
      ]
     },
     "metadata": {
      "needs_background": "light"
     },
     "output_type": "display_data"
    }
   ],
   "source": [
    "train_acc_uni, test_acc_uni, alphas = tune_nb(X_train, y_train, X_test, y_test )\n",
    "plot_tune_nb( train_acc_uni, test_acc_uni, alphas )"
   ]
  },
  {
   "cell_type": "code",
   "execution_count": 261,
   "metadata": {},
   "outputs": [
    {
     "name": "stderr",
     "output_type": "stream",
     "text": [
      "/Users/k1000mbp/anaconda3/lib/python3.7/site-packages/sklearn/naive_bayes.py:480: UserWarning: alpha too small will result in numeric errors, setting alpha = 1.0e-10\n",
      "  'setting alpha = %.1e' % _ALPHA_MIN)\n"
     ]
    },
    {
     "name": "stdout",
     "output_type": "stream",
     "text": [
      "0.0 98.836 26.634\n",
      "0.1 46.036 10.546\n",
      "0.2 23.329 5.458\n",
      "0.3 13.804 3.61\n",
      "0.4 9.46 2.672\n",
      "0.5 7.22 2.246\n",
      "0.6 5.868 2.018\n",
      "0.7 4.871 1.961\n",
      "0.8 4.278 1.876\n",
      "0.9 3.83 1.819\n",
      "1.0 3.382 1.706\n"
     ]
    },
    {
     "data": {
      "image/png": "[encoded data removed]",
      "text/plain": [
       "<Figure size 432x288 with 1 Axes>"
      ]
     },
     "metadata": {
      "needs_background": "light"
     },
     "output_type": "display_data"
    }
   ],
   "source": [
    "def stack( A, B ):\n",
    "    return hstack( [A,B] )\n",
    "\n",
    "X_tr_lemmas, y_train, X_te_lemmas, y_test = load_data( \"./data\", features='lemmas')\n",
    "X_tr_concreteness, y_train, X_te_concreteness, y_test = load_data( \"./data\", features='concreteness')\n",
    "X_tr_namedentities, y_train, X_te_namedentities, y_test = load_data( \"./data\", features='namedentities')\n",
    "X_tr_parse_VP, y_train, X_te_parse_VP, y_test = load_data( \"./data\", features='parse_VP')\n",
    "X_tr_subjectivity, y_train, X_te_subjectivity, y_test = load_data( \"./data\", features='subjectivity')\n",
    "\n",
    "\n",
    "\n",
    "X_train = hstack( [X_tr_subjectivity, X_tr_lemmas,X_tr_namedentities, X_tr_parse_VP] )\n",
    "X_test = hstack( [X_te_subjectivity, X_te_lemmas, X_te_namedentities, X_te_parse_VP] )\n",
    "\n",
    "train_acc_uni, test_acc_uni, alphas = tune_nb(X_train, y_train, X_test, y_test )\n",
    "plot_tune_nb( train_acc_uni, test_acc_uni, alphas )"
   ]
  },
  {
   "cell_type": "code",
   "execution_count": null,
   "metadata": {},
   "outputs": [],
   "source": [
    "logmodel = LogisticRegression()\n",
    "logmodel.fit(X_train)"
   ]
  },
  {
   "cell_type": "code",
   "execution_count": null,
   "metadata": {},
   "outputs": [],
   "source": []
  },
  {
   "cell_type": "code",
   "execution_count": null,
   "metadata": {},
   "outputs": [],
   "source": []
  },
  {
   "cell_type": "code",
   "execution_count": null,
   "metadata": {},
   "outputs": [],
   "source": []
  },
  {
   "cell_type": "code",
   "execution_count": null,
   "metadata": {},
   "outputs": [],
   "source": [
    "### --- SUPERCEDED --- ### we are doing multiclass and not multilabel\n",
    "\n",
    "# we need to get the labels encoded like this for multilabel classification\n",
    "# step 1, find out how many unique labels we have in the corpus\n",
    "# have a look at the distribution of the label. are there significant outliers. if few, consider removing them\n",
    "# else, we may consider augmenting datapoints with SMOTE \n",
    "X, Y = make_multilabel_classification(n_classes=5, n_labels=5,\n",
    "                                      allow_unlabeled=True,\n",
    "                                      random_state=1)\n",
    "Y[0]"
   ]
  },
  {
   "cell_type": "markdown",
   "metadata": {},
   "source": [
    "### 3. Clustering with Graph propagation extension"
   ]
  },
  {
   "cell_type": "code",
   "execution_count": null,
   "metadata": {},
   "outputs": [],
   "source": [
    "# i think we can try this. since our data set is not very big. we could use our initial clusters as a feature and retrain \n",
    "# the classifier \n",
    "\n",
    "# https://arxiv.org/pdf/1709.05634.pdf \n",
    "# get books of the author that has not been admitted into the corpus. same min_books, max_books criteria (3,30) which \n",
    "# was is reasonably general enough - objective. "
   ]
  },
  {
   "cell_type": "code",
   "execution_count": null,
   "metadata": {},
   "outputs": [],
   "source": []
  },
  {
   "cell_type": "code",
   "execution_count": null,
   "metadata": {},
   "outputs": [],
   "source": []
  },
  {
   "cell_type": "code",
   "execution_count": null,
   "metadata": {},
   "outputs": [],
   "source": []
  },
  {
   "cell_type": "code",
   "execution_count": null,
   "metadata": {},
   "outputs": [],
   "source": []
  }
 ],
 "metadata": {
  "kernelspec": {
   "display_name": "Python 3",
   "language": "python",
   "name": "python3"
  },
  "language_info": {
   "codemirror_mode": {
    "name": "ipython",
    "version": 3
   },
   "file_extension": ".py",
   "mimetype": "text/x-python",
   "name": "python",
   "nbconvert_exporter": "python",
   "pygments_lexer": "ipython3",
   "version": "3.7.1"
  }
 },
 "nbformat": 4,
 "nbformat_minor": 2
}
